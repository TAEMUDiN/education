{
 "cells": [
  {
   "cell_type": "code",
   "execution_count": null,
   "id": "737e1993",
   "metadata": {},
   "outputs": [],
   "source": [
    "class Person(object,):\n",
    "    _name = 'Person'\n",
    "    def __init__(self, person_id, name, age):\n",
    "        self.person_id = person_id\n",
    "        self._name = name       # <= _는 보호속성\n",
    "        self.age = age\n",
    "    \n",
    "    def getName(self):\n",
    "        return self.name\n",
    "\n",
    "    def setName(self):\n",
    "        self.name = value"
   ]
  },
  {
   "cell_type": "code",
   "execution_count": null,
   "id": "989f6f6e",
   "metadata": {},
   "outputs": [],
   "source": [
    "p = Person(1,'sol',34)"
   ]
  },
  {
   "cell_type": "code",
   "execution_count": null,
   "id": "ae051316",
   "metadata": {},
   "outputs": [],
   "source": [
    "p._name"
   ]
  },
  {
   "cell_type": "code",
   "execution_count": null,
   "id": "3f7fd5e2",
   "metadata": {},
   "outputs": [],
   "source": [
    "p.getName = 'dah1'"
   ]
  },
  {
   "cell_type": "code",
   "execution_count": null,
   "id": "675b1b8b",
   "metadata": {},
   "outputs": [],
   "source": [
    "p.getName"
   ]
  },
  {
   "cell_type": "code",
   "execution_count": null,
   "id": "0c61847a",
   "metadata": {},
   "outputs": [],
   "source": []
  },
  {
   "cell_type": "code",
   "execution_count": null,
   "id": "76c63d48",
   "metadata": {},
   "outputs": [],
   "source": []
  },
  {
   "cell_type": "code",
   "execution_count": null,
   "id": "fe389457",
   "metadata": {},
   "outputs": [],
   "source": [
    "class Person(object,):\n",
    "    _name = 'Person'\n",
    "    def __init__(self, person_id, name, age):\n",
    "        self._person_id = person_id\n",
    "        self._name = name       # <= _는 보호속성\n",
    "        self._age = age\n",
    "    \n",
    "    @property\n",
    "    def name(self):\n",
    "        return self._name\n",
    "        return self._age\n",
    "        return self._person_id\n",
    "    \n",
    "    @name.setter                                            # <= property \n",
    "    def name(self, value):\n",
    "        self._name = value"
   ]
  },
  {
   "cell_type": "code",
   "execution_count": null,
   "id": "58bf84a5",
   "metadata": {},
   "outputs": [],
   "source": [
    "p.name='dah1'"
   ]
  },
  {
   "cell_type": "code",
   "execution_count": null,
   "id": "efd58462",
   "metadata": {},
   "outputs": [],
   "source": [
    "p.name"
   ]
  },
  {
   "cell_type": "code",
   "execution_count": null,
   "id": "39742aca",
   "metadata": {},
   "outputs": [],
   "source": [
    "p.age=30"
   ]
  },
  {
   "cell_type": "code",
   "execution_count": null,
   "id": "c2c6c0ef",
   "metadata": {},
   "outputs": [],
   "source": [
    "p.age"
   ]
  },
  {
   "cell_type": "code",
   "execution_count": null,
   "id": "d757e24d",
   "metadata": {},
   "outputs": [],
   "source": [
    "p.person_id = 1"
   ]
  },
  {
   "cell_type": "code",
   "execution_count": null,
   "id": "c037ca88",
   "metadata": {},
   "outputs": [],
   "source": [
    "p.person_id"
   ]
  },
  {
   "cell_type": "code",
   "execution_count": null,
   "id": "0ebcaca9",
   "metadata": {},
   "outputs": [],
   "source": [
    "def __init__(self,name,age):\n",
    "    self.name = name\n",
    "    self.age = age                         #함수를 클래스에 넣을 수 있음"
   ]
  },
  {
   "cell_type": "code",
   "execution_count": null,
   "id": "02c93dfc",
   "metadata": {},
   "outputs": [],
   "source": [
    "class People :                             #public이라 서 외부에서 함수 가져올 수 있음\n",
    "    __init__ = __init__"
   ]
  },
  {
   "cell_type": "code",
   "execution_count": null,
   "id": "9a4d03d8",
   "metadata": {},
   "outputs": [],
   "source": [
    "People.__dict__"
   ]
  },
  {
   "cell_type": "code",
   "execution_count": null,
   "id": "80495a3b",
   "metadata": {},
   "outputs": [],
   "source": [
    "pe = People('ss',34)"
   ]
  },
  {
   "cell_type": "code",
   "execution_count": null,
   "id": "af263fe8",
   "metadata": {},
   "outputs": [],
   "source": [
    "pe.name"
   ]
  },
  {
   "cell_type": "code",
   "execution_count": null,
   "id": "3ae5de7e",
   "metadata": {},
   "outputs": [],
   "source": [
    "pe.age"
   ]
  },
  {
   "cell_type": "code",
   "execution_count": null,
   "id": "0e77699a",
   "metadata": {},
   "outputs": [],
   "source": [
    "pe.__dict__"
   ]
  },
  {
   "cell_type": "code",
   "execution_count": null,
   "id": "eea5c4a6",
   "metadata": {},
   "outputs": [],
   "source": [
    "class AAA:\n",
    "    pass"
   ]
  },
  {
   "cell_type": "code",
   "execution_count": null,
   "id": "6db7db96",
   "metadata": {},
   "outputs": [],
   "source": [
    "AAA.__init__ = __init__"
   ]
  },
  {
   "cell_type": "code",
   "execution_count": null,
   "id": "11d19ac5",
   "metadata": {},
   "outputs": [],
   "source": [
    "AAA.__dict__"
   ]
  },
  {
   "cell_type": "code",
   "execution_count": null,
   "id": "4ebc315d",
   "metadata": {},
   "outputs": [],
   "source": [
    "class BBB(AAA):\n",
    "    def __init__(self,name,age,id_):\n",
    "        super().__init__(name,age)           #<= AAA를 상속\n",
    "        self.id_ = id_"
   ]
  },
  {
   "cell_type": "code",
   "execution_count": null,
   "id": "5d9f88b2",
   "metadata": {},
   "outputs": [],
   "source": [
    "bb = BBB('가을',34,1001)"
   ]
  },
  {
   "cell_type": "code",
   "execution_count": null,
   "id": "d0c347d2",
   "metadata": {},
   "outputs": [],
   "source": [
    "bb.__dict__"
   ]
  },
  {
   "cell_type": "code",
   "execution_count": null,
   "id": "f43b2c98",
   "metadata": {},
   "outputs": [],
   "source": [
    "class CCC(AAA):\n",
    "    pass"
   ]
  },
  {
   "cell_type": "code",
   "execution_count": null,
   "id": "32f3e830",
   "metadata": {},
   "outputs": [],
   "source": [
    "cc = CCC('가을',34)"
   ]
  },
  {
   "cell_type": "code",
   "execution_count": null,
   "id": "9bc0c2c3",
   "metadata": {},
   "outputs": [],
   "source": [
    "CCC.__mro__   #tuple은 갱신이 안됨"
   ]
  },
  {
   "cell_type": "code",
   "execution_count": null,
   "id": "c5b11015",
   "metadata": {},
   "outputs": [],
   "source": [
    "CCC.mro()  #리스트는 갱신이 됨"
   ]
  },
  {
   "cell_type": "code",
   "execution_count": null,
   "id": "2fe25b5c",
   "metadata": {},
   "outputs": [],
   "source": [
    "def aaa(*args):\n",
    "    print(args)\n",
    "    return list(args)"
   ]
  },
  {
   "cell_type": "code",
   "execution_count": null,
   "id": "c8f5daa1",
   "metadata": {},
   "outputs": [],
   "source": [
    "a = aaa(1,2,3,4,5)"
   ]
  },
  {
   "cell_type": "code",
   "execution_count": null,
   "id": "bfe48a07",
   "metadata": {},
   "outputs": [],
   "source": [
    "a"
   ]
  },
  {
   "cell_type": "code",
   "execution_count": null,
   "id": "086e38a0",
   "metadata": {},
   "outputs": [],
   "source": [
    "ex = \"v = 100\""
   ]
  },
  {
   "cell_type": "code",
   "execution_count": null,
   "id": "f74ad2b5",
   "metadata": {},
   "outputs": [],
   "source": [
    "exec(ex)"
   ]
  },
  {
   "cell_type": "code",
   "execution_count": null,
   "id": "c9e96fff",
   "metadata": {},
   "outputs": [],
   "source": [
    "v"
   ]
  },
  {
   "cell_type": "code",
   "execution_count": null,
   "id": "c6a15cda",
   "metadata": {},
   "outputs": [],
   "source": [
    "x = \"\"\"\n",
    "if (a:=100, a>=100):\n",
    "    print('aaaa')\n",
    "\"\"\""
   ]
  },
  {
   "cell_type": "code",
   "execution_count": null,
   "id": "0c9164a4",
   "metadata": {},
   "outputs": [],
   "source": [
    "exec(x)"
   ]
  },
  {
   "cell_type": "code",
   "execution_count": null,
   "id": "fbec83f0",
   "metadata": {},
   "outputs": [],
   "source": [
    "a1 = 100"
   ]
  },
  {
   "cell_type": "code",
   "execution_count": null,
   "id": "aabb36f7",
   "metadata": {},
   "outputs": [],
   "source": [
    "a2 = \"a1 + 100\""
   ]
  },
  {
   "cell_type": "code",
   "execution_count": null,
   "id": "f0b564f8",
   "metadata": {},
   "outputs": [],
   "source": [
    "eval(a2), exec(a2)"
   ]
  },
  {
   "cell_type": "code",
   "execution_count": null,
   "id": "71eee93b",
   "metadata": {},
   "outputs": [],
   "source": [
    "eval('a1')"
   ]
  },
  {
   "cell_type": "code",
   "execution_count": null,
   "id": "a3f0c28d",
   "metadata": {},
   "outputs": [],
   "source": [
    "# = 좌측은 변수할당 (정의) , =우측은 변수참조 (변수에 있는 참조에 저장된 값을 가져와서 대체)\n",
    "y = a1"
   ]
  },
  {
   "cell_type": "code",
   "execution_count": null,
   "id": "0fef904c",
   "metadata": {},
   "outputs": [],
   "source": [
    "y"
   ]
  },
  {
   "cell_type": "code",
   "execution_count": null,
   "id": "6ac64087",
   "metadata": {},
   "outputs": [],
   "source": [
    "x = 100"
   ]
  },
  {
   "cell_type": "code",
   "execution_count": null,
   "id": "9afbdb0f",
   "metadata": {},
   "outputs": [],
   "source": [
    "y = x"
   ]
  },
  {
   "cell_type": "code",
   "execution_count": null,
   "id": "ae995a98",
   "metadata": {},
   "outputs": [],
   "source": [
    "y"
   ]
  },
  {
   "cell_type": "code",
   "execution_count": null,
   "id": "1f30cdac",
   "metadata": {},
   "outputs": [],
   "source": [
    "getattr(100,\"__floordiv___\")"
   ]
  },
  {
   "cell_type": "code",
   "execution_count": null,
   "id": "63009957",
   "metadata": {},
   "outputs": [],
   "source": [
    "2**64"
   ]
  },
  {
   "cell_type": "code",
   "execution_count": null,
   "id": "5b88a878",
   "metadata": {},
   "outputs": [],
   "source": [
    "class A:\n",
    "    x = 3\n",
    "    def __init__(self, x):\n",
    "        self.x = x\n",
    "    def __getattribute__(self,name):\n",
    "        print(\"getattribute!!\")\n",
    "        return super().__getattribute__(name)"
   ]
  },
  {
   "cell_type": "code",
   "execution_count": null,
   "id": "443d78a9",
   "metadata": {},
   "outputs": [],
   "source": [
    "a = A(5)"
   ]
  },
  {
   "cell_type": "code",
   "execution_count": 25,
   "id": "f1f80896",
   "metadata": {},
   "outputs": [
    {
     "data": {
      "text/plain": [
       "{'__name__': 'abc',\n",
       " '__doc__': 'Abstract Base Classes (ABCs) according to PEP 3119.',\n",
       " '__package__': '',\n",
       " '__loader__': <_frozen_importlib_external.SourceFileLoader at 0x7fbe37a68a90>,\n",
       " '__spec__': ModuleSpec(name='abc', loader=<_frozen_importlib_external.SourceFileLoader object at 0x7fbe37a68a90>, origin='/Users/choejinho/opt/anaconda3/lib/python3.8/abc.py'),\n",
       " '__file__': '/Users/choejinho/opt/anaconda3/lib/python3.8/abc.py',\n",
       " '__cached__': '/Users/choejinho/opt/anaconda3/lib/python3.8/__pycache__/abc.cpython-38.pyc',\n",
       " '__builtins__': {'__name__': 'builtins',\n",
       "  '__doc__': \"Built-in functions, exceptions, and other objects.\\n\\nNoteworthy: None is the `nil' object; Ellipsis represents `...' in slices.\",\n",
       "  '__package__': '',\n",
       "  '__loader__': _frozen_importlib.BuiltinImporter,\n",
       "  '__spec__': ModuleSpec(name='builtins', loader=<class '_frozen_importlib.BuiltinImporter'>),\n",
       "  '__build_class__': <function __build_class__>,\n",
       "  '__import__': <function __import__>,\n",
       "  'abs': <function abs(x, /)>,\n",
       "  'all': <function all(iterable, /)>,\n",
       "  'any': <function any(iterable, /)>,\n",
       "  'ascii': <function ascii(obj, /)>,\n",
       "  'bin': <function bin(number, /)>,\n",
       "  'breakpoint': <function breakpoint>,\n",
       "  'callable': <function callable(obj, /)>,\n",
       "  'chr': <function chr(i, /)>,\n",
       "  'compile': <function compile(source, filename, mode, flags=0, dont_inherit=False, optimize=-1, *, _feature_version=-1)>,\n",
       "  'delattr': <function delattr(obj, name, /)>,\n",
       "  'dir': <function dir>,\n",
       "  'divmod': <function divmod(x, y, /)>,\n",
       "  'eval': <function eval(source, globals=None, locals=None, /)>,\n",
       "  'exec': <function exec(source, globals=None, locals=None, /)>,\n",
       "  'format': <function format(value, format_spec='', /)>,\n",
       "  'getattr': <function getattr>,\n",
       "  'globals': <function globals()>,\n",
       "  'hasattr': <function hasattr(obj, name, /)>,\n",
       "  'hash': <function hash(obj, /)>,\n",
       "  'hex': <function hex(number, /)>,\n",
       "  'id': <function id(obj, /)>,\n",
       "  'input': <bound method Kernel.raw_input of <ipykernel.ipkernel.IPythonKernel object at 0x7fbe3e9a24c0>>,\n",
       "  'isinstance': <function isinstance(obj, class_or_tuple, /)>,\n",
       "  'issubclass': <function issubclass(cls, class_or_tuple, /)>,\n",
       "  'iter': <function iter>,\n",
       "  'len': <function len(obj, /)>,\n",
       "  'locals': <function locals()>,\n",
       "  'max': <function max>,\n",
       "  'min': <function min>,\n",
       "  'next': <function next>,\n",
       "  'oct': <function oct(number, /)>,\n",
       "  'ord': <function ord(c, /)>,\n",
       "  'pow': <function pow(base, exp, mod=None)>,\n",
       "  'print': <function print>,\n",
       "  'repr': <function repr(obj, /)>,\n",
       "  'round': <function round(number, ndigits=None)>,\n",
       "  'setattr': <function setattr(obj, name, value, /)>,\n",
       "  'sorted': <function sorted(iterable, /, *, key=None, reverse=False)>,\n",
       "  'sum': <function sum(iterable, /, start=0)>,\n",
       "  'vars': <function vars>,\n",
       "  'None': None,\n",
       "  'Ellipsis': Ellipsis,\n",
       "  'NotImplemented': NotImplemented,\n",
       "  'False': False,\n",
       "  'True': True,\n",
       "  'bool': bool,\n",
       "  'memoryview': memoryview,\n",
       "  'bytearray': bytearray,\n",
       "  'bytes': bytes,\n",
       "  'classmethod': classmethod,\n",
       "  'complex': complex,\n",
       "  'dict': dict,\n",
       "  'enumerate': enumerate,\n",
       "  'filter': filter,\n",
       "  'float': float,\n",
       "  'frozenset': frozenset,\n",
       "  'property': property,\n",
       "  'int': int,\n",
       "  'list': list,\n",
       "  'map': map,\n",
       "  'object': object,\n",
       "  'range': range,\n",
       "  'reversed': reversed,\n",
       "  'set': set,\n",
       "  'slice': slice,\n",
       "  'staticmethod': staticmethod,\n",
       "  'str': str,\n",
       "  'super': super,\n",
       "  'tuple': tuple,\n",
       "  'type': type,\n",
       "  'zip': zip,\n",
       "  '__debug__': True,\n",
       "  'BaseException': BaseException,\n",
       "  'Exception': Exception,\n",
       "  'TypeError': TypeError,\n",
       "  'StopAsyncIteration': StopAsyncIteration,\n",
       "  'StopIteration': StopIteration,\n",
       "  'GeneratorExit': GeneratorExit,\n",
       "  'SystemExit': SystemExit,\n",
       "  'KeyboardInterrupt': KeyboardInterrupt,\n",
       "  'ImportError': ImportError,\n",
       "  'ModuleNotFoundError': ModuleNotFoundError,\n",
       "  'OSError': OSError,\n",
       "  'EnvironmentError': OSError,\n",
       "  'IOError': OSError,\n",
       "  'EOFError': EOFError,\n",
       "  'RuntimeError': RuntimeError,\n",
       "  'RecursionError': RecursionError,\n",
       "  'NotImplementedError': NotImplementedError,\n",
       "  'NameError': NameError,\n",
       "  'UnboundLocalError': UnboundLocalError,\n",
       "  'AttributeError': AttributeError,\n",
       "  'SyntaxError': SyntaxError,\n",
       "  'IndentationError': IndentationError,\n",
       "  'TabError': TabError,\n",
       "  'LookupError': LookupError,\n",
       "  'IndexError': IndexError,\n",
       "  'KeyError': KeyError,\n",
       "  'ValueError': ValueError,\n",
       "  'UnicodeError': UnicodeError,\n",
       "  'UnicodeEncodeError': UnicodeEncodeError,\n",
       "  'UnicodeDecodeError': UnicodeDecodeError,\n",
       "  'UnicodeTranslateError': UnicodeTranslateError,\n",
       "  'AssertionError': AssertionError,\n",
       "  'ArithmeticError': ArithmeticError,\n",
       "  'FloatingPointError': FloatingPointError,\n",
       "  'OverflowError': OverflowError,\n",
       "  'ZeroDivisionError': ZeroDivisionError,\n",
       "  'SystemError': SystemError,\n",
       "  'ReferenceError': ReferenceError,\n",
       "  'MemoryError': MemoryError,\n",
       "  'BufferError': BufferError,\n",
       "  'Warning': Warning,\n",
       "  'UserWarning': UserWarning,\n",
       "  'DeprecationWarning': DeprecationWarning,\n",
       "  'PendingDeprecationWarning': PendingDeprecationWarning,\n",
       "  'SyntaxWarning': SyntaxWarning,\n",
       "  'RuntimeWarning': RuntimeWarning,\n",
       "  'FutureWarning': FutureWarning,\n",
       "  'ImportWarning': ImportWarning,\n",
       "  'UnicodeWarning': UnicodeWarning,\n",
       "  'BytesWarning': BytesWarning,\n",
       "  'ResourceWarning': ResourceWarning,\n",
       "  'ConnectionError': ConnectionError,\n",
       "  'BlockingIOError': BlockingIOError,\n",
       "  'BrokenPipeError': BrokenPipeError,\n",
       "  'ChildProcessError': ChildProcessError,\n",
       "  'ConnectionAbortedError': ConnectionAbortedError,\n",
       "  'ConnectionRefusedError': ConnectionRefusedError,\n",
       "  'ConnectionResetError': ConnectionResetError,\n",
       "  'FileExistsError': FileExistsError,\n",
       "  'FileNotFoundError': FileNotFoundError,\n",
       "  'IsADirectoryError': IsADirectoryError,\n",
       "  'NotADirectoryError': NotADirectoryError,\n",
       "  'InterruptedError': InterruptedError,\n",
       "  'PermissionError': PermissionError,\n",
       "  'ProcessLookupError': ProcessLookupError,\n",
       "  'TimeoutError': TimeoutError,\n",
       "  'open': <function io.open(file, mode='r', buffering=-1, encoding=None, errors=None, newline=None, closefd=True, opener=None)>,\n",
       "  'copyright': Copyright (c) 2001-2021 Python Software Foundation.\n",
       "  All Rights Reserved.\n",
       "  \n",
       "  Copyright (c) 2000 BeOpen.com.\n",
       "  All Rights Reserved.\n",
       "  \n",
       "  Copyright (c) 1995-2001 Corporation for National Research Initiatives.\n",
       "  All Rights Reserved.\n",
       "  \n",
       "  Copyright (c) 1991-1995 Stichting Mathematisch Centrum, Amsterdam.\n",
       "  All Rights Reserved.,\n",
       "  'credits':     Thanks to CWI, CNRI, BeOpen.com, Zope Corporation and a cast of thousands\n",
       "      for supporting Python development.  See www.python.org for more information.,\n",
       "  'license': Type license() to see the full license text,\n",
       "  'help': Type help() for interactive help, or help(object) for help about object.,\n",
       "  '__IPYTHON__': True,\n",
       "  'display': <function IPython.core.display.display(*objs, include=None, exclude=None, metadata=None, transient=None, display_id=None, **kwargs)>,\n",
       "  'get_ipython': <bound method InteractiveShell.get_ipython of <ipykernel.zmqshell.ZMQInteractiveShell object at 0x7fbe3e9808e0>>},\n",
       " 'abstractmethod': <function abc.abstractmethod(funcobj)>,\n",
       " 'abstractclassmethod': abc.abstractclassmethod,\n",
       " 'abstractstaticmethod': abc.abstractstaticmethod,\n",
       " 'abstractproperty': abc.abstractproperty,\n",
       " 'get_cache_token': <function _abc.get_cache_token()>,\n",
       " '_abc_init': <function _abc._abc_init(self, /)>,\n",
       " '_abc_register': <function _abc._abc_register(self, subclass, /)>,\n",
       " '_abc_instancecheck': <function _abc._abc_instancecheck(self, instance, /)>,\n",
       " '_abc_subclasscheck': <function _abc._abc_subclasscheck(self, subclass, /)>,\n",
       " '_get_dump': <function _abc._get_dump(self, /)>,\n",
       " '_reset_registry': <function _abc._reset_registry(self, /)>,\n",
       " '_reset_caches': <function _abc._reset_caches(self, /)>,\n",
       " 'ABCMeta': abc.ABCMeta,\n",
       " 'ABC': abc.ABC}"
      ]
     },
     "execution_count": 25,
     "metadata": {},
     "output_type": "execute_result"
    }
   ],
   "source": [
    "a.__dict__"
   ]
  },
  {
   "cell_type": "code",
   "execution_count": 30,
   "id": "cf5bb2d0",
   "metadata": {},
   "outputs": [
    {
     "name": "stdout",
     "output_type": "stream",
     "text": [
      "Writing abcd.py\n"
     ]
    }
   ],
   "source": [
    "%%writefile abcd.py\n",
    "x = 100"
   ]
  },
  {
   "cell_type": "code",
   "execution_count": 31,
   "id": "0bf3e68c",
   "metadata": {},
   "outputs": [
    {
     "name": "stdout",
     "output_type": "stream",
     "text": [
      "Overwriting bbc.py\n"
     ]
    }
   ],
   "source": [
    "%%writefile bbc.py\n",
    "x = 200"
   ]
  },
  {
   "cell_type": "code",
   "execution_count": 32,
   "id": "7d64ade7",
   "metadata": {},
   "outputs": [],
   "source": [
    "import abcd as abcdx\n",
    "import bbc as bbcx"
   ]
  },
  {
   "cell_type": "code",
   "execution_count": 33,
   "id": "91d87ab3",
   "metadata": {},
   "outputs": [
    {
     "data": {
      "text/plain": [
       "(100, 200)"
      ]
     },
     "execution_count": 33,
     "metadata": {},
     "output_type": "execute_result"
    }
   ],
   "source": [
    "abcdx.x, bbcx.x"
   ]
  },
  {
   "cell_type": "code",
   "execution_count": null,
   "id": "7bdbbf78",
   "metadata": {},
   "outputs": [],
   "source": [
    "import math as ma\n",
    "\n",
    "math = 100"
   ]
  },
  {
   "cell_type": "code",
   "execution_count": null,
   "id": "30fcdd03",
   "metadata": {},
   "outputs": [],
   "source": [
    "math"
   ]
  },
  {
   "cell_type": "code",
   "execution_count": null,
   "id": "606dd3bc",
   "metadata": {},
   "outputs": [],
   "source": [
    "ma"
   ]
  },
  {
   "cell_type": "code",
   "execution_count": null,
   "id": "0a4c6636",
   "metadata": {},
   "outputs": [],
   "source": []
  },
  {
   "cell_type": "code",
   "execution_count": null,
   "id": "985ad904",
   "metadata": {},
   "outputs": [],
   "source": []
  },
  {
   "cell_type": "code",
   "execution_count": null,
   "id": "cc58a33f",
   "metadata": {},
   "outputs": [],
   "source": []
  }
 ],
 "metadata": {
  "kernelspec": {
   "display_name": "Python 3",
   "language": "python",
   "name": "python3"
  },
  "language_info": {
   "codemirror_mode": {
    "name": "ipython",
    "version": 3
   },
   "file_extension": ".py",
   "mimetype": "text/x-python",
   "name": "python",
   "nbconvert_exporter": "python",
   "pygments_lexer": "ipython3",
   "version": "3.8.8"
  }
 },
 "nbformat": 4,
 "nbformat_minor": 5
}
