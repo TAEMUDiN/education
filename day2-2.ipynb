{
 "cells": [
  {
   "cell_type": "code",
   "execution_count": 1,
   "id": "b1e1dbf1",
   "metadata": {},
   "outputs": [
    {
     "data": {
      "text/plain": [
       "'asdf'"
      ]
     },
     "execution_count": 1,
     "metadata": {},
     "output_type": "execute_result"
    }
   ],
   "source": [
    "\"asdf\""
   ]
  },
  {
   "cell_type": "markdown",
   "id": "17a66d30",
   "metadata": {},
   "source": [
    "# Git (Code Repository)\n",
    "1. Github, Bitbucket, GitLab\n",
    "2. Repository 생성\n",
    "3. clone\n",
    "- git clone https://github.com/cjh026425/폴더.git\n",
    "4. 여러가지 작업을 진행...\n",
    "5. 작업물을 올릴때 하는 명령어들\n",
    "- git add ( => local 어떤 파일들, 어떤 것들을 올릴지 결정하는 것 )\n",
    "    - git add . (전체)\n",
    "    - git add ~PATH/파일명 (해당파일만)\n",
    "- git commit ( => 우리의 코드를 가지는 해당 서버로 기록을 해주는 것 \n",
    "    - git commit -m \"massage\"(한글가능)\n",
    "- git push origin main ( => 코드를 가지는 해당 서버로 완전히 기록 및 업로드)\n",
    "    - git push origin main ( 혹은 자신이 가진 브랜치 )\n",
    "6. 다른 사람이 수정한 결과를 받을 때\n",
    "- git pull origin main\n",
    "    - update 가 된다\n",
    "    "
   ]
  }
 ],
 "metadata": {
  "kernelspec": {
   "display_name": "Python 3",
   "language": "python",
   "name": "python3"
  },
  "language_info": {
   "codemirror_mode": {
    "name": "ipython",
    "version": 3
   },
   "file_extension": ".py",
   "mimetype": "text/x-python",
   "name": "python",
   "nbconvert_exporter": "python",
   "pygments_lexer": "ipython3",
   "version": "3.8.8"
  }
 },
 "nbformat": 4,
 "nbformat_minor": 5
}
