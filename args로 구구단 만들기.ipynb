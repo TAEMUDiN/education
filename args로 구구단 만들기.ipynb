{
 "cells": [
  {
   "cell_type": "code",
   "execution_count": 29,
   "id": "77b18961",
   "metadata": {},
   "outputs": [],
   "source": [
    "def gugudan(*args):\n",
    "    for c in args:\n",
    "        print(f'-----{c}단------')\n",
    "        for b in range(1,10):\n",
    "            print(f'{c}*{b}={c*b}')\n"
   ]
  },
  {
   "cell_type": "code",
   "execution_count": 30,
   "id": "7b7b4856",
   "metadata": {
    "scrolled": false
   },
   "outputs": [
    {
     "name": "stdout",
     "output_type": "stream",
     "text": [
      "-----2단------\n",
      "2*1=2\n",
      "2*2=4\n",
      "2*3=6\n",
      "2*4=8\n",
      "2*5=10\n",
      "2*6=12\n",
      "2*7=14\n",
      "2*8=16\n",
      "2*9=18\n",
      "-----6단------\n",
      "6*1=6\n",
      "6*2=12\n",
      "6*3=18\n",
      "6*4=24\n",
      "6*5=30\n",
      "6*6=36\n",
      "6*7=42\n",
      "6*8=48\n",
      "6*9=54\n",
      "-----7단------\n",
      "7*1=7\n",
      "7*2=14\n",
      "7*3=21\n",
      "7*4=28\n",
      "7*5=35\n",
      "7*6=42\n",
      "7*7=49\n",
      "7*8=56\n",
      "7*9=63\n"
     ]
    }
   ],
   "source": [
    "gugudan(2,6,7)"
   ]
  },
  {
   "cell_type": "markdown",
   "id": "c7766b54",
   "metadata": {},
   "source": [
    "##### "
   ]
  },
  {
   "cell_type": "code",
   "execution_count": 31,
   "id": "681fd79b",
   "metadata": {},
   "outputs": [],
   "source": [
    "def gugudan(*args,**kwargs):\n",
    "    for c in args:\n",
    "        print(f'-----{c}단------')\n",
    "        for b in range(1,10):\n",
    "            print(f'{c}*{b}={c*b}')\n",
    "        \n",
    "    for kwarg in kwargs:\n",
    "        d = kwargs[kwarg]\n",
    "        print(f'-----{d}단------')\n",
    "        for e in range(1,10):\n",
    "            print(f'{d}*{e}={d*e}')"
   ]
  },
  {
   "cell_type": "code",
   "execution_count": 32,
   "id": "47cd52d1",
   "metadata": {},
   "outputs": [
    {
     "name": "stdout",
     "output_type": "stream",
     "text": [
      "-----2단------\n",
      "2*1=2\n",
      "2*2=4\n",
      "2*3=6\n",
      "2*4=8\n",
      "2*5=10\n",
      "2*6=12\n",
      "2*7=14\n",
      "2*8=16\n",
      "2*9=18\n",
      "-----3단------\n",
      "3*1=3\n",
      "3*2=6\n",
      "3*3=9\n",
      "3*4=12\n",
      "3*5=15\n",
      "3*6=18\n",
      "3*7=21\n",
      "3*8=24\n",
      "3*9=27\n",
      "-----7단------\n",
      "7*1=7\n",
      "7*2=14\n",
      "7*3=21\n",
      "7*4=28\n",
      "7*5=35\n",
      "7*6=42\n",
      "7*7=49\n",
      "7*8=56\n",
      "7*9=63\n",
      "-----9단------\n",
      "9*1=9\n",
      "9*2=18\n",
      "9*3=27\n",
      "9*4=36\n",
      "9*5=45\n",
      "9*6=54\n",
      "9*7=63\n",
      "9*8=72\n",
      "9*9=81\n"
     ]
    }
   ],
   "source": [
    "gugudan(2,3, seven=7, nine=9)"
   ]
  },
  {
   "cell_type": "code",
   "execution_count": null,
   "id": "cbc9693d",
   "metadata": {},
   "outputs": [],
   "source": []
  }
 ],
 "metadata": {
  "kernelspec": {
   "display_name": "Python 3",
   "language": "python",
   "name": "python3"
  },
  "language_info": {
   "codemirror_mode": {
    "name": "ipython",
    "version": 3
   },
   "file_extension": ".py",
   "mimetype": "text/x-python",
   "name": "python",
   "nbconvert_exporter": "python",
   "pygments_lexer": "ipython3",
   "version": "3.8.8"
  }
 },
 "nbformat": 4,
 "nbformat_minor": 5
}
