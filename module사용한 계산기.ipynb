{
 "cells": [
  {
   "cell_type": "code",
   "execution_count": 76,
   "id": "eacd2140",
   "metadata": {},
   "outputs": [],
   "source": [
    "\n",
    "class cal:\n",
    "    def __init__(self,x,y):\n",
    "        self.x = x\n",
    "        self.y = y\n",
    "    \n",
    "    def add(self):\n",
    "        return self.x+self.y\n",
    "    \n",
    "    def sub(self):\n",
    "        return self.x-self.y\n",
    "    \n",
    "    def mul(self):\n",
    "        return self.x*self.y\n",
    "    \n",
    "    def div(self):\n",
    "        return self.x/self.y"
   ]
  },
  {
   "cell_type": "code",
   "execution_count": 77,
   "id": "7865a0f9",
   "metadata": {},
   "outputs": [],
   "source": [
    "c = cal(10,2)"
   ]
  },
  {
   "cell_type": "code",
   "execution_count": 78,
   "id": "5e9469cc",
   "metadata": {},
   "outputs": [
    {
     "data": {
      "text/plain": [
       "12"
      ]
     },
     "execution_count": 78,
     "metadata": {},
     "output_type": "execute_result"
    }
   ],
   "source": [
    "c.add()"
   ]
  },
  {
   "cell_type": "code",
   "execution_count": 79,
   "id": "0d26e5d6",
   "metadata": {},
   "outputs": [
    {
     "data": {
      "text/plain": [
       "8"
      ]
     },
     "execution_count": 79,
     "metadata": {},
     "output_type": "execute_result"
    }
   ],
   "source": [
    "c.sub()"
   ]
  },
  {
   "cell_type": "code",
   "execution_count": 80,
   "id": "d8f8061f",
   "metadata": {},
   "outputs": [
    {
     "data": {
      "text/plain": [
       "20"
      ]
     },
     "execution_count": 80,
     "metadata": {},
     "output_type": "execute_result"
    }
   ],
   "source": [
    "c.mul()"
   ]
  },
  {
   "cell_type": "code",
   "execution_count": 81,
   "id": "f219ebb0",
   "metadata": {},
   "outputs": [
    {
     "data": {
      "text/plain": [
       "5.0"
      ]
     },
     "execution_count": 81,
     "metadata": {},
     "output_type": "execute_result"
    }
   ],
   "source": [
    "c.div()"
   ]
  },
  {
   "cell_type": "code",
   "execution_count": 86,
   "id": "be022260",
   "metadata": {},
   "outputs": [],
   "source": [
    "import operator as op\n",
    "\n",
    "class Arith :\n",
    "    ops={'+':op.add, '-':op.sub, '*':op.mul, '/':op.truediv, '//':op.floordiv}\n",
    "    def __init__(self,x,y):\n",
    "        self.x = x\n",
    "        self.y = y\n",
    "        \n",
    "    def operation(self,op_code):\n",
    "        return self.ops.get(op_code)(self.x, self.y)"
   ]
  },
  {
   "cell_type": "code",
   "execution_count": 87,
   "id": "e09b7c1f",
   "metadata": {},
   "outputs": [],
   "source": [
    "ar = Arith(20,10)"
   ]
  },
  {
   "cell_type": "code",
   "execution_count": 88,
   "id": "e8c9b0c8",
   "metadata": {},
   "outputs": [
    {
     "data": {
      "text/plain": [
       "2"
      ]
     },
     "execution_count": 88,
     "metadata": {},
     "output_type": "execute_result"
    }
   ],
   "source": [
    "ar.operation('//')"
   ]
  },
  {
   "cell_type": "code",
   "execution_count": 93,
   "id": "9de058e9",
   "metadata": {},
   "outputs": [
    {
     "data": {
      "text/plain": [
       "mappingproxy({'__module__': '__main__',\n",
       "              'ops': {'+': <function _operator.add(a, b, /)>,\n",
       "               '-': <function _operator.sub(a, b, /)>,\n",
       "               '*': <function _operator.mul(a, b, /)>,\n",
       "               '/': <function _operator.truediv(a, b, /)>,\n",
       "               '//': <function _operator.floordiv(a, b, /)>},\n",
       "              '__init__': <function __main__.Arith.__init__(self, x, y)>,\n",
       "              'operation': <function __main__.Arith.operation(self, op_code)>,\n",
       "              '__dict__': <attribute '__dict__' of 'Arith' objects>,\n",
       "              '__weakref__': <attribute '__weakref__' of 'Arith' objects>,\n",
       "              '__doc__': None})"
      ]
     },
     "execution_count": 93,
     "metadata": {},
     "output_type": "execute_result"
    }
   ],
   "source": [
    "Arith.__dict__"
   ]
  },
  {
   "cell_type": "code",
   "execution_count": null,
   "id": "3c54fe4c",
   "metadata": {},
   "outputs": [],
   "source": []
  }
 ],
 "metadata": {
  "kernelspec": {
   "display_name": "Python 3",
   "language": "python",
   "name": "python3"
  },
  "language_info": {
   "codemirror_mode": {
    "name": "ipython",
    "version": 3
   },
   "file_extension": ".py",
   "mimetype": "text/x-python",
   "name": "python",
   "nbconvert_exporter": "python",
   "pygments_lexer": "ipython3",
   "version": "3.8.8"
  }
 },
 "nbformat": 4,
 "nbformat_minor": 5
}
