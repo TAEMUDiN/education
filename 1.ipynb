{
 "cells": [
  {
   "cell_type": "markdown",
   "id": "0388faca",
   "metadata": {},
   "source": [
    "# 1. 순환문\n",
    "\n",
    " 특정한 행위(것)를 여러 번 수행하는 문자   \n",
    " for와 while"
   ]
  },
  {
   "cell_type": "markdown",
   "id": "da856099",
   "metadata": {},
   "source": [
    "### for 문\n",
    "- 반복되는 클래스의 객체를 가져와서 그 내부에 원소를 읽음"
   ]
  },
  {
   "cell_type": "code",
   "execution_count": 5,
   "id": "5c038f00",
   "metadata": {},
   "outputs": [
    {
     "data": {
      "text/plain": [
       "range(0, 10)"
      ]
     },
     "execution_count": 5,
     "metadata": {},
     "output_type": "execute_result"
    }
   ],
   "source": [
    "range(0,10)"
   ]
  },
  {
   "cell_type": "code",
   "execution_count": 7,
   "id": "d5f7395b",
   "metadata": {},
   "outputs": [
    {
     "name": "stdout",
     "output_type": "stream",
     "text": [
      "1\n",
      "2\n",
      "3\n",
      "4\n",
      "5\n",
      "6\n",
      "7\n",
      "8\n",
      "9\n"
     ]
    }
   ],
   "source": [
    "for data in range(1,10):\n",
    "    print(data)"
   ]
  },
  {
   "cell_type": "markdown",
   "id": "201a2ad8",
   "metadata": {},
   "source": [
    "#### range\n",
    "- 범위 : 첫 인덱스 ~ 마지막 인덱스 -1"
   ]
  },
  {
   "cell_type": "code",
   "execution_count": 8,
   "id": "f662a49a",
   "metadata": {},
   "outputs": [],
   "source": [
    "a = range(10)"
   ]
  },
  {
   "cell_type": "code",
   "execution_count": 10,
   "id": "e879d618",
   "metadata": {},
   "outputs": [
    {
     "name": "stdout",
     "output_type": "stream",
     "text": [
      "1\n",
      "2\n",
      "3\n",
      "4\n"
     ]
    }
   ],
   "source": [
    "for data in [1,2,3,4]:\n",
    "    print(data)"
   ]
  },
  {
   "cell_type": "code",
   "execution_count": 12,
   "id": "ec033c02",
   "metadata": {},
   "outputs": [
    {
     "name": "stdout",
     "output_type": "stream",
     "text": [
      "a\n",
      "b\n",
      "c\n"
     ]
    }
   ],
   "source": [
    "for data in \"abc\":\n",
    "    print(data)"
   ]
  },
  {
   "cell_type": "code",
   "execution_count": 37,
   "id": "06672bdf",
   "metadata": {},
   "outputs": [
    {
     "ename": "TypeError",
     "evalue": "'dict' object is not callable",
     "output_type": "error",
     "traceback": [
      "\u001b[0;31m---------------------------------------------------------------------------\u001b[0m",
      "\u001b[0;31mTypeError\u001b[0m                                 Traceback (most recent call last)",
      "\u001b[0;32m<ipython-input-37-5b2f7aa90a20>\u001b[0m in \u001b[0;36m<module>\u001b[0;34m\u001b[0m\n\u001b[1;32m      1\u001b[0m \u001b[0mdict_data\u001b[0m \u001b[0;34m=\u001b[0m \u001b[0;34m{\u001b[0m\u001b[0;34m'a'\u001b[0m\u001b[0;34m:\u001b[0m\u001b[0;36m1\u001b[0m\u001b[0;34m,\u001b[0m \u001b[0;34m'b'\u001b[0m\u001b[0;34m:\u001b[0m\u001b[0;36m2\u001b[0m\u001b[0;34m}\u001b[0m\u001b[0;34m\u001b[0m\u001b[0;34m\u001b[0m\u001b[0m\n\u001b[1;32m      2\u001b[0m \u001b[0;32mfor\u001b[0m \u001b[0mdata\u001b[0m \u001b[0;32min\u001b[0m \u001b[0mdict_data\u001b[0m\u001b[0;34m:\u001b[0m\u001b[0;34m\u001b[0m\u001b[0;34m\u001b[0m\u001b[0m\n\u001b[0;32m----> 3\u001b[0;31m     \u001b[0mprint\u001b[0m\u001b[0;34m(\u001b[0m\u001b[0;34mf\"{ data } : {(dict_data(data))}\"\u001b[0m\u001b[0;34m)\u001b[0m\u001b[0;34m\u001b[0m\u001b[0;34m\u001b[0m\u001b[0m\n\u001b[0m",
      "\u001b[0;31mTypeError\u001b[0m: 'dict' object is not callable"
     ]
    }
   ],
   "source": [
    "dict_data = {'a':1, 'b':2}\n",
    "for data in dict_data:\n",
    "    print(f\"{ data } : {(dict_data(data))}\")"
   ]
  },
  {
   "cell_type": "code",
   "execution_count": 36,
   "id": "d679e8b9",
   "metadata": {},
   "outputs": [
    {
     "name": "stdout",
     "output_type": "stream",
     "text": [
      "['__class__', '__contains__', '__delattr__', '__delitem__', '__dir__', '__doc__', '__eq__', '__format__', '__ge__', '__getattribute__', '__getitem__', '__gt__', '__hash__', '__init__', '__init_subclass__', '__iter__', '__le__', '__len__', '__lt__', '__ne__', '__new__', '__reduce__', '__reduce_ex__', '__repr__', '__reversed__', '__setattr__', '__setitem__', '__sizeof__', '__str__', '__subclasshook__', 'clear', 'copy', 'fromkeys', 'get', 'items', 'keys', 'pop', 'popitem', 'setdefault', 'update', 'values']\n"
     ]
    }
   ],
   "source": [
    "print(dir(dict_data))"
   ]
  },
  {
   "cell_type": "code",
   "execution_count": 18,
   "id": "d2186093",
   "metadata": {},
   "outputs": [
    {
     "name": "stdout",
     "output_type": "stream",
     "text": [
      "a\n",
      "b\n"
     ]
    }
   ],
   "source": [
    "for data in dict_data.keys():\n",
    "    print(data)"
   ]
  },
  {
   "cell_type": "code",
   "execution_count": 19,
   "id": "7df1a4f9",
   "metadata": {},
   "outputs": [
    {
     "name": "stdout",
     "output_type": "stream",
     "text": [
      "1\n",
      "2\n"
     ]
    }
   ],
   "source": [
    "for data in dict_data.values():\n",
    "    print(data)"
   ]
  },
  {
   "cell_type": "code",
   "execution_count": 20,
   "id": "4724534f",
   "metadata": {},
   "outputs": [
    {
     "name": "stdout",
     "output_type": "stream",
     "text": [
      "('a', 1)\n",
      "('b', 2)\n"
     ]
    }
   ],
   "source": [
    "for data in dict_data.items():\n",
    "    print(data)"
   ]
  },
  {
   "cell_type": "code",
   "execution_count": 24,
   "id": "c58576f1",
   "metadata": {},
   "outputs": [
    {
     "data": {
      "text/plain": [
       "'height : 180'"
      ]
     },
     "execution_count": 24,
     "metadata": {},
     "output_type": "execute_result"
    }
   ],
   "source": [
    "f'height : {180}'"
   ]
  },
  {
   "cell_type": "code",
   "execution_count": 27,
   "id": "4218f1c4",
   "metadata": {},
   "outputs": [
    {
     "name": "stdout",
     "output_type": "stream",
     "text": [
      "loop\n"
     ]
    }
   ],
   "source": [
    "for data in range(10000):\n",
    "    print(\"loop\")\n",
    "    break"
   ]
  },
  {
   "cell_type": "code",
   "execution_count": 34,
   "id": "736f5ec3",
   "metadata": {},
   "outputs": [
    {
     "name": "stdout",
     "output_type": "stream",
     "text": [
      "1:loop\n",
      "3:loop\n",
      "5:loop\n",
      "7:loop\n",
      "9:loop\n"
     ]
    }
   ],
   "source": [
    "for data in range(10):\n",
    "    if data % 2 == 0:\n",
    "        continue\n",
    "    print(f'{ data }:loop')"
   ]
  },
  {
   "cell_type": "code",
   "execution_count": 38,
   "id": "de386086",
   "metadata": {},
   "outputs": [
    {
     "name": "stdout",
     "output_type": "stream",
     "text": [
      "0\n",
      "1\n",
      "2\n",
      "4\n",
      "for loop end\n"
     ]
    }
   ],
   "source": [
    "for data in range(5):\n",
    "    if data ==3:\n",
    "        continue\n",
    "    print(data)\n",
    "else:\n",
    "    print(\"for loop end\")"
   ]
  },
  {
   "cell_type": "code",
   "execution_count": 55,
   "id": "257660e4",
   "metadata": {},
   "outputs": [
    {
     "name": "stdout",
     "output_type": "stream",
     "text": [
      "------2단------\n",
      "2*1=2\n",
      "2*2=4\n",
      "2*3=6\n",
      "2*4=8\n",
      "2*5=10\n",
      "2*6=12\n",
      "2*7=14\n",
      "2*8=16\n",
      "2*9=18\n",
      "\n",
      "------3단------\n",
      "3*1=3\n",
      "3*2=6\n",
      "3*3=9\n",
      "3*4=12\n",
      "3*5=15\n",
      "3*6=18\n",
      "3*7=21\n",
      "3*8=24\n",
      "3*9=27\n",
      "\n",
      "------4단------\n",
      "4*1=4\n",
      "4*2=8\n",
      "4*3=12\n",
      "4*4=16\n",
      "4*5=20\n",
      "4*6=24\n",
      "4*7=28\n",
      "4*8=32\n",
      "4*9=36\n",
      "\n",
      "------5단------\n",
      "5*1=5\n",
      "5*2=10\n",
      "5*3=15\n",
      "5*4=20\n",
      "5*5=25\n",
      "5*6=30\n",
      "5*7=35\n",
      "5*8=40\n",
      "5*9=45\n",
      "\n",
      "------6단------\n",
      "6*1=6\n",
      "6*2=12\n",
      "6*3=18\n",
      "6*4=24\n",
      "6*5=30\n",
      "6*6=36\n",
      "6*7=42\n",
      "6*8=48\n",
      "6*9=54\n",
      "\n",
      "------7단------\n",
      "7*1=7\n",
      "7*2=14\n",
      "7*3=21\n",
      "7*4=28\n",
      "7*5=35\n",
      "7*6=42\n",
      "7*7=49\n",
      "7*8=56\n",
      "7*9=63\n",
      "\n",
      "------8단------\n",
      "8*1=8\n",
      "8*2=16\n",
      "8*3=24\n",
      "8*4=32\n",
      "8*5=40\n",
      "8*6=48\n",
      "8*7=56\n",
      "8*8=64\n",
      "8*9=72\n",
      "\n",
      "------9단------\n",
      "9*1=9\n",
      "9*2=18\n",
      "9*3=27\n",
      "9*4=36\n",
      "9*5=45\n",
      "9*6=54\n",
      "9*7=63\n",
      "9*8=72\n",
      "9*9=81\n",
      "\n"
     ]
    }
   ],
   "source": [
    "for a in range(2,10):\n",
    "    print(f'------{a}단------')\n",
    "    for b in range(1,10):\n",
    "        print(f'{a}*{b}={a*b}')\n",
    "    print()"
   ]
  },
  {
   "cell_type": "markdown",
   "id": "c276c466",
   "metadata": {},
   "source": [
    "## while문\n",
    "- 특정 조건식이 만족하는 경우에 순환을 처리 \n",
    "# 잘 안씀 !!!!"
   ]
  },
  {
   "cell_type": "code",
   "execution_count": 59,
   "id": "36dc80d6",
   "metadata": {},
   "outputs": [
    {
     "name": "stdout",
     "output_type": "stream",
     "text": [
      "loop\n",
      "loop\n",
      "loop\n",
      "loop\n",
      "loop\n",
      "loop\n",
      "while else end\n"
     ]
    }
   ],
   "source": [
    "index = 0\n",
    "is_while = True\n",
    "while is_while:\n",
    "    if index >= 5:\n",
    "        is_while = False\n",
    "    print(\"loop\")\n",
    "    index += 1\n",
    "else:\n",
    "    print(\"while else end\")"
   ]
  },
  {
   "cell_type": "code",
   "execution_count": 69,
   "id": "36719c0d",
   "metadata": {},
   "outputs": [
    {
     "name": "stdout",
     "output_type": "stream",
     "text": [
      "2\n",
      "6\n",
      "12\n",
      "20\n",
      "30\n",
      "42\n",
      "56\n"
     ]
    }
   ],
   "source": [
    "index = 2\n",
    "index_1 = 1\n",
    "while True:\n",
    "    index < 10\n",
    "    print(index*index_1)\n",
    "    index += 1\n",
    "    index_1 += 1\n",
    "    if index ==\n",
    "    "
   ]
  },
  {
   "cell_type": "markdown",
   "id": "f17852f2",
   "metadata": {},
   "source": [
    "## 2. 제어문\n",
    "\n",
    " keyword : if (elif) else   \n",
    " 특정 조건을 판다해서 특정 기능을 처리.\n"
   ]
  },
  {
   "cell_type": "markdown",
   "id": "4cd7017c",
   "metadata": {},
   "source": [
    "### 비교 연산자\n",
    "\n",
    "== (equal), <, >,"
   ]
  },
  {
   "cell_type": "code",
   "execution_count": 70,
   "id": "9917cb53",
   "metadata": {},
   "outputs": [
    {
     "data": {
      "text/plain": [
       "True"
      ]
     },
     "execution_count": 70,
     "metadata": {},
     "output_type": "execute_result"
    }
   ],
   "source": [
    "100 == 100"
   ]
  },
  {
   "cell_type": "code",
   "execution_count": 71,
   "id": "633ea81f",
   "metadata": {},
   "outputs": [
    {
     "data": {
      "text/plain": [
       "False"
      ]
     },
     "execution_count": 71,
     "metadata": {},
     "output_type": "execute_result"
    }
   ],
   "source": [
    "100 < 99"
   ]
  },
  {
   "cell_type": "markdown",
   "id": "ebe1265f",
   "metadata": {},
   "source": [
    "### 논리 연산자\n",
    "\n",
    "and, or"
   ]
  },
  {
   "cell_type": "code",
   "execution_count": 72,
   "id": "6238f507",
   "metadata": {},
   "outputs": [
    {
     "data": {
      "text/plain": [
       "True"
      ]
     },
     "execution_count": 72,
     "metadata": {},
     "output_type": "execute_result"
    }
   ],
   "source": [
    "(100 == 100) and (100 > 99)"
   ]
  },
  {
   "cell_type": "code",
   "execution_count": 73,
   "id": "d76dbc74",
   "metadata": {},
   "outputs": [
    {
     "data": {
      "text/plain": [
       "True"
      ]
     },
     "execution_count": 73,
     "metadata": {},
     "output_type": "execute_result"
    }
   ],
   "source": [
    "(100 == 100) or (100 > 99)"
   ]
  },
  {
   "cell_type": "code",
   "execution_count": 74,
   "id": "c0f33cd8",
   "metadata": {},
   "outputs": [
    {
     "data": {
      "text/plain": [
       "False"
      ]
     },
     "execution_count": 74,
     "metadata": {},
     "output_type": "execute_result"
    }
   ],
   "source": [
    "(100 == 100) and (100 < 99)"
   ]
  },
  {
   "cell_type": "markdown",
   "id": "93b751bd",
   "metadata": {},
   "source": [
    "### 단순 조건문 if"
   ]
  },
  {
   "cell_type": "code",
   "execution_count": 75,
   "id": "ca8efbcc",
   "metadata": {},
   "outputs": [],
   "source": [
    "import random"
   ]
  },
  {
   "cell_type": "code",
   "execution_count": 83,
   "id": "da1c209d",
   "metadata": {},
   "outputs": [
    {
     "name": "stdout",
     "output_type": "stream",
     "text": [
      "True\n",
      "3\n"
     ]
    }
   ],
   "source": [
    "random_value = random.randint(0,10)\n",
    "\n",
    "if random_value < 5:\n",
    "    print(\"True\")\n",
    "else:\n",
    "    print(\"False\")\n",
    "print(random_value)"
   ]
  },
  {
   "cell_type": "code",
   "execution_count": 127,
   "id": "e5de5672",
   "metadata": {},
   "outputs": [
    {
     "name": "stdout",
     "output_type": "stream",
     "text": [
      "equar\n",
      "1\n"
     ]
    }
   ],
   "source": [
    "random_value = random.randint(0,10)\n",
    "\n",
    "if random_value > 5:\n",
    "    print(\"True\")\n",
    "elif random_value == 1:\n",
    "    print(\"equar\")\n",
    "else:\n",
    "    print(\"False\")\n",
    "print(random_value)"
   ]
  },
  {
   "cell_type": "markdown",
   "id": "4faae02a",
   "metadata": {},
   "source": [
    "### 삼황연산자"
   ]
  },
  {
   "cell_type": "code",
   "execution_count": 176,
   "id": "d3146596",
   "metadata": {},
   "outputs": [
    {
     "name": "stdout",
     "output_type": "stream",
     "text": [
      "5 over\n",
      "7\n"
     ]
    }
   ],
   "source": [
    "random_value = random.randint(0,10)\n",
    "\n",
    "print(\"5 over\") if random_value > 5 else print(\"5 under\")\n",
    "\n",
    "print(random_value)"
   ]
  },
  {
   "cell_type": "code",
   "execution_count": 182,
   "id": "215cf667",
   "metadata": {},
   "outputs": [],
   "source": [
    "def game_1():\n",
    "    import random\n",
    "    random_value = random.randint(0,50)\n",
    "    print(random_value)\n",
    "\n",
    "    for index in range(20):\n",
    "        input_value = int(input('입력하세요 : '))\n",
    "   \n",
    "        if input_value == random_value:\n",
    "            print(\"정답입니다\")\n",
    "            print(f'{index}번')\n",
    "            break\n",
    "        elif input_value > random_value:\n",
    "            print(\"작습니다\")\n",
    "        else:\n",
    "            print(\"큽니다\")\n",
    "    else:\n",
    "        print('the end')\n",
    "        \n",
    "        "
   ]
  },
  {
   "cell_type": "code",
   "execution_count": 218,
   "id": "c4f771c6",
   "metadata": {},
   "outputs": [],
   "source": [
    "dict_value = {\n",
    "    '1': '1을 눌렀습니다',\n",
    "    '2': '2을 눌렀습니다',\n",
    "    '3':'game_1 을 눌렀습니다',\n",
    "}"
   ]
  },
  {
   "cell_type": "code",
   "execution_count": 219,
   "id": "e916fd4b",
   "metadata": {},
   "outputs": [
    {
     "name": "stdout",
     "output_type": "stream",
     "text": [
      "game_1 을 눌렀습니다\n",
      "33\n",
      "입력하세요 : 33\n",
      "정답입니다\n",
      "0번\n"
     ]
    }
   ],
   "source": [
    "if '3' in dict_value:\n",
    "    print(dict_value['3'])\n",
    "    game_1()"
   ]
  },
  {
   "cell_type": "markdown",
   "id": "230ca3e5",
   "metadata": {},
   "source": [
    "# 3. 예외문\n",
    "\n",
    "keyword : try except\n",
    "모든 코드는 실행 중에 에러나 예외가 발생하는 상황 존재.  \n",
    "특정 코드를 처리하게끔 해주즌 것."
   ]
  },
  {
   "cell_type": "code",
   "execution_count": 225,
   "id": "f56f6c17",
   "metadata": {},
   "outputs": [
    {
     "name": "stdout",
     "output_type": "stream",
     "text": [
      "try\n",
      "Exception\n",
      "<class 'TypeError'>\n",
      "Finally\n"
     ]
    }
   ],
   "source": [
    "import sys\n",
    "\n",
    "try:\n",
    "    print(\"try\")\n",
    "    print('str' + 1)\n",
    "except:\n",
    "    print(\"Exception\")\n",
    "    print(sys.exc_info()[0])\n",
    "finally:\n",
    "    print(\"Finally\")"
   ]
  },
  {
   "cell_type": "code",
   "execution_count": 227,
   "id": "600c35e7",
   "metadata": {},
   "outputs": [
    {
     "name": "stdout",
     "output_type": "stream",
     "text": [
      "200 375 425\n"
     ]
    }
   ],
   "source": [
    "a = 1\n",
    "b = 2\n",
    "c = 3\n",
    "for a_value in range(1,500):\n",
    "    for b_value in range(1,500):\n",
    "        if b_value < a_value:\n",
    "            continue\n",
    "            \n",
    "        for c_value in range(1, 500):\n",
    "            if c_value < b_value:\n",
    "                continue\n",
    "            \n",
    "            if a_value + b_value + c_value == 1000:\n",
    "                if (a_value**2 + b_value**2) == c_value**2:\n",
    "                    print(a_value, b_value, c_value)\n",
    "                    break"
   ]
  },
  {
   "cell_type": "code",
   "execution_count": 228,
   "id": "449c2be3",
   "metadata": {},
   "outputs": [
    {
     "data": {
      "text/plain": [
       "True"
      ]
     },
     "execution_count": 228,
     "metadata": {},
     "output_type": "execute_result"
    }
   ],
   "source": [
    "200**2 + 375**2 == 425**2"
   ]
  },
  {
   "cell_type": "code",
   "execution_count": 229,
   "id": "c444a873",
   "metadata": {},
   "outputs": [
    {
     "data": {
      "text/plain": [
       "1000"
      ]
     },
     "execution_count": 229,
     "metadata": {},
     "output_type": "execute_result"
    }
   ],
   "source": [
    "200+375+425"
   ]
  },
  {
   "cell_type": "code",
   "execution_count": null,
   "id": "41f155f4",
   "metadata": {},
   "outputs": [],
   "source": []
  }
 ],
 "metadata": {
  "kernelspec": {
   "display_name": "Python 3",
   "language": "python",
   "name": "python3"
  },
  "language_info": {
   "codemirror_mode": {
    "name": "ipython",
    "version": 3
   },
   "file_extension": ".py",
   "mimetype": "text/x-python",
   "name": "python",
   "nbconvert_exporter": "python",
   "pygments_lexer": "ipython3",
   "version": "3.8.8"
  }
 },
 "nbformat": 4,
 "nbformat_minor": 5
}
