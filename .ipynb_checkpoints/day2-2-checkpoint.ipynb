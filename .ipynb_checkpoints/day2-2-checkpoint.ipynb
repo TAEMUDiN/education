{
 "cells": [
  {
   "cell_type": "code",
   "execution_count": 1,
   "id": "b1e1dbf1",
   "metadata": {},
   "outputs": [
    {
     "data": {
      "text/plain": [
       "'asdf'"
      ]
     },
     "execution_count": 1,
     "metadata": {},
     "output_type": "execute_result"
    }
   ],
   "source": [
    "\"asdf\""
   ]
  },
  {
   "cell_type": "markdown",
   "id": "996a1df3",
   "metadata": {},
   "source": [
    "# Git (Code Repository)\n",
    "1. Github, Bitbucket, GitLab\n",
    "2. Repository 생성\n",
    "3. clone\n",
    "- git clone https://github.com/cjh026425/폴더.git\n",
    "4. 여러가지 작업을 진행...\n",
    "5. 작업물을 올릴때 하는 명령어들\n"
   ]
  }
 ],
 "metadata": {
  "kernelspec": {
   "display_name": "Python 3",
   "language": "python",
   "name": "python3"
  },
  "language_info": {
   "codemirror_mode": {
    "name": "ipython",
    "version": 3
   },
   "file_extension": ".py",
   "mimetype": "text/x-python",
   "name": "python",
   "nbconvert_exporter": "python",
   "pygments_lexer": "ipython3",
   "version": "3.8.8"
  }
 },
 "nbformat": 4,
 "nbformat_minor": 5
}
