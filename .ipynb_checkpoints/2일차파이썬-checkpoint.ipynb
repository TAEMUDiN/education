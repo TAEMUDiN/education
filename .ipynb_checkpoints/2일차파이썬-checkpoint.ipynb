{
 "cells": [
  {
   "cell_type": "markdown",
   "id": "2c974485",
   "metadata": {},
   "source": [
    "#### 정수 (int) cached internal"
   ]
  },
  {
   "cell_type": "code",
   "execution_count": 1,
   "id": "843812b6",
   "metadata": {},
   "outputs": [
    {
     "data": {
      "text/plain": [
       "100"
      ]
     },
     "execution_count": 1,
     "metadata": {},
     "output_type": "execute_result"
    }
   ],
   "source": [
    "100"
   ]
  },
  {
   "cell_type": "markdown",
   "id": "b705a086",
   "metadata": {},
   "source": [
    "[-5, 256] 범위의 정수는 인스턴스를 재생하지 않는다"
   ]
  },
  {
   "cell_type": "code",
   "execution_count": 2,
   "id": "9f2ee124",
   "metadata": {},
   "outputs": [],
   "source": [
    "a = 256; b = 256; c = 256"
   ]
  },
  {
   "cell_type": "code",
   "execution_count": 3,
   "id": "4765b921",
   "metadata": {},
   "outputs": [
    {
     "data": {
      "text/plain": [
       "True"
      ]
     },
     "execution_count": 3,
     "metadata": {},
     "output_type": "execute_result"
    }
   ],
   "source": [
    "a is b is c"
   ]
  },
  {
   "cell_type": "code",
   "execution_count": 4,
   "id": "2c990c30",
   "metadata": {},
   "outputs": [],
   "source": [
    "d = 257; e = 257; f = 257"
   ]
  },
  {
   "cell_type": "code",
   "execution_count": 5,
   "id": "5fa6760a",
   "metadata": {},
   "outputs": [
    {
     "data": {
      "text/plain": [
       "False"
      ]
     },
     "execution_count": 5,
     "metadata": {},
     "output_type": "execute_result"
    }
   ],
   "source": [
    "d is e is f"
   ]
  },
  {
   "cell_type": "markdown",
   "id": "6706d6f2",
   "metadata": {},
   "source": [
    "is 는 클래스 타입까지 과 id 까지 확인"
   ]
  },
  {
   "cell_type": "code",
   "execution_count": 7,
   "id": "5fe96559",
   "metadata": {},
   "outputs": [
    {
     "data": {
      "text/plain": [
       "(4492958016, 4492958016, 4492958016)"
      ]
     },
     "execution_count": 7,
     "metadata": {},
     "output_type": "execute_result"
    }
   ],
   "source": [
    "id(a), id(b), id(c) "
   ]
  },
  {
   "cell_type": "code",
   "execution_count": 8,
   "id": "c33c8088",
   "metadata": {},
   "outputs": [
    {
     "data": {
      "text/plain": [
       "(140551859089200, 140551859088592, 140551859089328)"
      ]
     },
     "execution_count": 8,
     "metadata": {},
     "output_type": "execute_result"
    }
   ],
   "source": [
    "id(d), id(e), id(f) "
   ]
  },
  {
   "cell_type": "markdown",
   "id": "354e96a7",
   "metadata": {},
   "source": [
    "### str  객체의 cached internal\n"
   ]
  },
  {
   "cell_type": "code",
   "execution_count": 9,
   "id": "0f64d961",
   "metadata": {},
   "outputs": [],
   "source": [
    "a = \"ab\"; b = \"ab\"; c = \"ab\""
   ]
  },
  {
   "cell_type": "code",
   "execution_count": 10,
   "id": "7826a35b",
   "metadata": {},
   "outputs": [
    {
     "data": {
      "text/plain": [
       "True"
      ]
     },
     "execution_count": 10,
     "metadata": {},
     "output_type": "execute_result"
    }
   ],
   "source": [
    "a is b is c"
   ]
  },
  {
   "cell_type": "code",
   "execution_count": 11,
   "id": "b284a3b5",
   "metadata": {},
   "outputs": [],
   "source": [
    "d = \"!!\"; e = \"11\"; f = \"!!\""
   ]
  },
  {
   "cell_type": "code",
   "execution_count": 12,
   "id": "f746a19d",
   "metadata": {},
   "outputs": [
    {
     "data": {
      "text/plain": [
       "False"
      ]
     },
     "execution_count": 12,
     "metadata": {},
     "output_type": "execute_result"
    }
   ],
   "source": [
    "d is e is f"
   ]
  },
  {
   "cell_type": "code",
   "execution_count": 13,
   "id": "e0e77c23",
   "metadata": {},
   "outputs": [
    {
     "data": {
      "text/plain": [
       "(140551859641712, 140551857900848, 140551859677744)"
      ]
     },
     "execution_count": 13,
     "metadata": {},
     "output_type": "execute_result"
    }
   ],
   "source": [
    "id(d),id(e),id(f)"
   ]
  },
  {
   "cell_type": "code",
   "execution_count": 15,
   "id": "f7c2c9d5",
   "metadata": {},
   "outputs": [
    {
     "data": {
      "text/plain": [
       "(140551802532144, 140551802532144, 140551802532144)"
      ]
     },
     "execution_count": 15,
     "metadata": {},
     "output_type": "execute_result"
    }
   ],
   "source": [
    "id(a),id(b),id(c)"
   ]
  },
  {
   "cell_type": "markdown",
   "id": "fab4f5d9",
   "metadata": {},
   "source": [
    "# 함수"
   ]
  },
  {
   "cell_type": "markdown",
   "id": "891f8ffb",
   "metadata": {},
   "source": [
    "반복되는 코드의 중복을 방지하기 위한 하나의 코드 블록을 이야기한다.  \n",
    "정의를 먼저 진행하고, 이 함수의 이름을 호출해서 사용한다. ( () )  \n",
    "순수함수, 비순수함수  \n",
    "순수함수 : 입력을 받아서 출력을 처리해서 전달해주는 함수 ( ex : f(X)=y )  \n",
    "비순수함수 : 함수 내의 기능의 외부의 변수나 객체를 호출한다음에 상태를 바꿔주는 함수( ex : f(x) )"
   ]
  },
  {
   "cell_type": "code",
   "execution_count": 19,
   "id": "df641450",
   "metadata": {},
   "outputs": [],
   "source": [
    "def soonsu(a, b):\n",
    "    return a+b"
   ]
  },
  {
   "cell_type": "code",
   "execution_count": 24,
   "id": "f57d2c99",
   "metadata": {},
   "outputs": [],
   "source": [
    "c = 0\n",
    "def bisoonsu(a, b):\n",
    "    globals()['c'] = a+b"
   ]
  },
  {
   "cell_type": "code",
   "execution_count": 25,
   "id": "11972424",
   "metadata": {},
   "outputs": [],
   "source": [
    "d = soonsu(10,10)"
   ]
  },
  {
   "cell_type": "code",
   "execution_count": 26,
   "id": "4639dcdd",
   "metadata": {},
   "outputs": [
    {
     "data": {
      "text/plain": [
       "20"
      ]
     },
     "execution_count": 26,
     "metadata": {},
     "output_type": "execute_result"
    }
   ],
   "source": [
    "d"
   ]
  },
  {
   "cell_type": "code",
   "execution_count": 27,
   "id": "257be3d9",
   "metadata": {},
   "outputs": [],
   "source": [
    "e = bisoonsu(10, 20)"
   ]
  },
  {
   "cell_type": "code",
   "execution_count": 30,
   "id": "44d1a30b",
   "metadata": {},
   "outputs": [
    {
     "data": {
      "text/plain": [
       "30"
      ]
     },
     "execution_count": 30,
     "metadata": {},
     "output_type": "execute_result"
    }
   ],
   "source": [
    "c"
   ]
  },
  {
   "cell_type": "markdown",
   "id": "29463df2",
   "metadata": {},
   "source": [
    "## 1. 함수 정의  \n",
    "### 함수 정의문  \n",
    "- 함수는 콜론(:)을 기준으로 좌측에는 헤더부(Header)이고, 우측이나 아래는 몸체부(Body).\n",
    "- 헤더부 : 함수명과 매개변수 (parameter)\n",
    "- 몸체부 : 로직과 return처리  \n",
    "\n",
    "    >def 키워드+함수명(매개변수):  \n",
    "    로직  \n",
    "    return"
   ]
  },
  {
   "cell_type": "code",
   "execution_count": 43,
   "id": "8b02860a",
   "metadata": {},
   "outputs": [],
   "source": [
    "def add(x, y):\n",
    "    return x + y"
   ]
  },
  {
   "cell_type": "code",
   "execution_count": 44,
   "id": "e9bc47c7",
   "metadata": {},
   "outputs": [],
   "source": [
    "def add(x, y):\n",
    "    result = x + y\n",
    "    return result"
   ]
  },
  {
   "cell_type": "code",
   "execution_count": 45,
   "id": "ef7986f3",
   "metadata": {},
   "outputs": [
    {
     "data": {
      "text/plain": [
       "<function __main__.add(x, y)>"
      ]
     },
     "execution_count": 45,
     "metadata": {},
     "output_type": "execute_result"
    }
   ],
   "source": [
    "add"
   ]
  },
  {
   "cell_type": "code",
   "execution_count": 47,
   "id": "9eff9e8a",
   "metadata": {},
   "outputs": [],
   "source": [
    "a = 100"
   ]
  },
  {
   "cell_type": "code",
   "execution_count": 49,
   "id": "689f0ceb",
   "metadata": {},
   "outputs": [
    {
     "data": {
      "text/plain": [
       "False"
      ]
     },
     "execution_count": 49,
     "metadata": {},
     "output_type": "execute_result"
    }
   ],
   "source": [
    "callable(a)"
   ]
  },
  {
   "cell_type": "markdown",
   "id": "a5c32275",
   "metadata": {},
   "source": [
    "### 함수 호출을 위해 호출연산자 사용\n",
    "- 함수이름 다음에 괄호 즉! 함수호출연산자를 사용한다.\n",
    "- 함수에 매개변수가 있으면, 해당하는 값인 인자를 전달해야 한다."
   ]
  },
  {
   "cell_type": "code",
   "execution_count": 51,
   "id": "5ad41761",
   "metadata": {},
   "outputs": [
    {
     "name": "stdout",
     "output_type": "stream",
     "text": [
      "9\n"
     ]
    }
   ],
   "source": [
    "print(3**2)"
   ]
  },
  {
   "cell_type": "markdown",
   "id": "c09081b3",
   "metadata": {},
   "source": [
    "### 일반 로직과 함수 처리 비교  \n",
    "일반로직 : 한번을 처리할 때 일반적인 로직으로 처리  \n",
    "동일한 로직을 여러 번 사용할 떄는 함수로 정의해서 사용 가능  \n"
   ]
  },
  {
   "cell_type": "code",
   "execution_count": 53,
   "id": "1c1c9f08",
   "metadata": {},
   "outputs": [
    {
     "name": "stdout",
     "output_type": "stream",
     "text": [
      "45\n"
     ]
    }
   ],
   "source": [
    "a = 0\n",
    "for data in range(0,10):\n",
    "    a += data\n",
    "print(a)"
   ]
  },
  {
   "cell_type": "code",
   "execution_count": 54,
   "id": "4981f06e",
   "metadata": {},
   "outputs": [],
   "source": [
    "def add_function(a):\n",
    "    for data in range(0,10):\n",
    "        a += data\n",
    "\n",
    "    return a"
   ]
  },
  {
   "cell_type": "code",
   "execution_count": 55,
   "id": "146de499",
   "metadata": {},
   "outputs": [
    {
     "data": {
      "text/plain": [
       "90"
      ]
     },
     "execution_count": 55,
     "metadata": {},
     "output_type": "execute_result"
    }
   ],
   "source": [
    "add_function(a)"
   ]
  },
  {
   "cell_type": "code",
   "execution_count": 56,
   "id": "81d87586",
   "metadata": {},
   "outputs": [
    {
     "data": {
      "text/plain": [
       "<function __main__.add_function(a)>"
      ]
     },
     "execution_count": 56,
     "metadata": {},
     "output_type": "execute_result"
    }
   ],
   "source": [
    "add_function"
   ]
  },
  {
   "cell_type": "code",
   "execution_count": 58,
   "id": "53e39cff",
   "metadata": {},
   "outputs": [
    {
     "data": {
      "text/plain": [
       "<function __main__.add_function(a)>"
      ]
     },
     "execution_count": 58,
     "metadata": {},
     "output_type": "execute_result"
    }
   ],
   "source": [
    "globals()['add_function']"
   ]
  },
  {
   "cell_type": "code",
   "execution_count": 59,
   "id": "26ad960d",
   "metadata": {},
   "outputs": [
    {
     "data": {
      "text/plain": [
       "45"
      ]
     },
     "execution_count": 59,
     "metadata": {},
     "output_type": "execute_result"
    }
   ],
   "source": [
    "a"
   ]
  },
  {
   "cell_type": "code",
   "execution_count": 60,
   "id": "cdb03073",
   "metadata": {},
   "outputs": [
    {
     "data": {
      "text/plain": [
       "45"
      ]
     },
     "execution_count": 60,
     "metadata": {},
     "output_type": "execute_result"
    }
   ],
   "source": [
    "globals()['a']"
   ]
  },
  {
   "cell_type": "code",
   "execution_count": 61,
   "id": "52cb7865",
   "metadata": {},
   "outputs": [],
   "source": [
    "add_function_ = add_function"
   ]
  },
  {
   "cell_type": "code",
   "execution_count": 62,
   "id": "abebb214",
   "metadata": {},
   "outputs": [
    {
     "data": {
      "text/plain": [
       "90"
      ]
     },
     "execution_count": 62,
     "metadata": {},
     "output_type": "execute_result"
    }
   ],
   "source": [
    "add_function_(a)"
   ]
  },
  {
   "cell_type": "code",
   "execution_count": 63,
   "id": "017f6837",
   "metadata": {},
   "outputs": [
    {
     "data": {
      "text/plain": [
       "'add_function'"
      ]
     },
     "execution_count": 63,
     "metadata": {},
     "output_type": "execute_result"
    }
   ],
   "source": [
    "add_function.__name__"
   ]
  },
  {
   "cell_type": "markdown",
   "id": "a58bcd81",
   "metadata": {},
   "source": [
    "### 매개변수  \n",
    "- 매개변수(媒介變數), 파라미터(parameter), 모수(母數)는 수학과 통계학에서 어떠한 시스템이나 함수의 특정한 성질을 나타내는 변수를 말한다. 일반적으로는 θ라고 표현되며, 다른 표시는 각각 독특한 뜻을 지닌다. 함수의 수치를 정해진 변역에서 구하거나 시스템의 반응을 결정할 때는 독립변수는 변하지만 매개변수는 일정하다. 다른 매개변수를 이용해 함수의 다른 수치를 다시 구하거나 시스템의 다른 반응을 볼 수도 있다."
   ]
  },
  {
   "cell_type": "markdown",
   "id": "7046e29b",
   "metadata": {},
   "source": [
    " # V 예외"
   ]
  },
  {
   "cell_type": "code",
   "execution_count": 1,
   "id": "8b27d80b",
   "metadata": {},
   "outputs": [],
   "source": [
    "def add (a:int, b:int): ##파라미터 a, b\n",
    "    if type(a) == int and type(b) == int:\n",
    "        return a + b\n",
    "        \n",
    "    else:\n",
    "        print(\"매개변수 값을 수정하세요. ( int만 가능합니다 )\")\n",
    "        return None\n"
   ]
  },
  {
   "cell_type": "code",
   "execution_count": 2,
   "id": "dd78060e",
   "metadata": {},
   "outputs": [
    {
     "name": "stdout",
     "output_type": "stream",
     "text": [
      "매개변수 값을 수정하세요. ( int만 가능합니다 )\n"
     ]
    }
   ],
   "source": [
    "add(3,\"a\")"
   ]
  },
  {
   "cell_type": "code",
   "execution_count": 71,
   "id": "e82d8e8e",
   "metadata": {},
   "outputs": [
    {
     "data": {
      "text/plain": [
       "6"
      ]
     },
     "execution_count": 71,
     "metadata": {},
     "output_type": "execute_result"
    }
   ],
   "source": [
    "add(3,3)"
   ]
  },
  {
   "cell_type": "code",
   "execution_count": 78,
   "id": "598db3db",
   "metadata": {},
   "outputs": [],
   "source": [
    "def plus(a,b):\n",
    "    return a+b\n",
    "def minus(a,b):\n",
    "    return a-b\n",
    "def multi(a,b):\n",
    "    return a*b\n",
    "def division(a,b):\n",
    "    return a/b"
   ]
  },
  {
   "cell_type": "code",
   "execution_count": 79,
   "id": "90bc39b4",
   "metadata": {},
   "outputs": [
    {
     "data": {
      "text/plain": [
       "7"
      ]
     },
     "execution_count": 79,
     "metadata": {},
     "output_type": "execute_result"
    }
   ],
   "source": [
    "plus(3,4)"
   ]
  },
  {
   "cell_type": "code",
   "execution_count": 80,
   "id": "ece0004b",
   "metadata": {},
   "outputs": [
    {
     "data": {
      "text/plain": [
       "-1"
      ]
     },
     "execution_count": 80,
     "metadata": {},
     "output_type": "execute_result"
    }
   ],
   "source": [
    "minus(3,4)"
   ]
  },
  {
   "cell_type": "code",
   "execution_count": 81,
   "id": "c6a3083e",
   "metadata": {},
   "outputs": [
    {
     "data": {
      "text/plain": [
       "12"
      ]
     },
     "execution_count": 81,
     "metadata": {},
     "output_type": "execute_result"
    }
   ],
   "source": [
    "multi(3,4)"
   ]
  },
  {
   "cell_type": "code",
   "execution_count": 82,
   "id": "5b9b2faa",
   "metadata": {},
   "outputs": [
    {
     "data": {
      "text/plain": [
       "0.75"
      ]
     },
     "execution_count": 82,
     "metadata": {},
     "output_type": "execute_result"
    }
   ],
   "source": [
    "division(3,4)"
   ]
  },
  {
   "cell_type": "code",
   "execution_count": 159,
   "id": "b54a1b6c",
   "metadata": {},
   "outputs": [],
   "source": [
    "class calculrator:\n",
    "    \"\"\"\n",
    "    계산기 클래스 입니다.\n",
    "    \"\"\"\n",
    "    result = 0\n",
    "    \n",
    "    def plus(self, a):\n",
    "        self.result+=a\n",
    "    \"\"\"\n",
    "    더하기\n",
    "    \"\"\"\n",
    "    def minus(self, a):\n",
    "        self.result-=a\n",
    "    \"\"\"\n",
    "    빼기\n",
    "    \"\"\"\n",
    "    def multi(self, a):\n",
    "        self.result*=a\n",
    "    \"\"\"\n",
    "    곱\n",
    "    \"\"\"\n",
    "    def division(self, a):\n",
    "        self.result/=a\n",
    "    \"\"\"\n",
    "    나누기\n",
    "    \"\"\"\n",
    "    def ac(self):\n",
    "        self.result = 0"
   ]
  },
  {
   "cell_type": "code",
   "execution_count": 181,
   "id": "81974353",
   "metadata": {},
   "outputs": [
    {
     "name": "stdout",
     "output_type": "stream",
     "text": [
      "Help on function plus in module __main__:\n",
      "\n",
      "plus(self, a)\n",
      "\n"
     ]
    }
   ],
   "source": [
    "help(calculrator.plus)"
   ]
  },
  {
   "cell_type": "code",
   "execution_count": 160,
   "id": "bacad570",
   "metadata": {},
   "outputs": [],
   "source": [
    "a = calculrator()"
   ]
  },
  {
   "cell_type": "code",
   "execution_count": 161,
   "id": "48344a41",
   "metadata": {},
   "outputs": [],
   "source": [
    "a.plus(3)"
   ]
  },
  {
   "cell_type": "code",
   "execution_count": 162,
   "id": "fbebeba4",
   "metadata": {},
   "outputs": [
    {
     "data": {
      "text/plain": [
       "3"
      ]
     },
     "execution_count": 162,
     "metadata": {},
     "output_type": "execute_result"
    }
   ],
   "source": [
    "a.result"
   ]
  },
  {
   "cell_type": "code",
   "execution_count": 163,
   "id": "e77622d6",
   "metadata": {},
   "outputs": [],
   "source": [
    "a.plus(2)"
   ]
  },
  {
   "cell_type": "code",
   "execution_count": 164,
   "id": "f791ab93",
   "metadata": {},
   "outputs": [
    {
     "data": {
      "text/plain": [
       "5"
      ]
     },
     "execution_count": 164,
     "metadata": {},
     "output_type": "execute_result"
    }
   ],
   "source": [
    "a.result"
   ]
  },
  {
   "cell_type": "code",
   "execution_count": 165,
   "id": "c37f98df",
   "metadata": {},
   "outputs": [],
   "source": [
    "a.minus(10)"
   ]
  },
  {
   "cell_type": "code",
   "execution_count": 166,
   "id": "eaad7819",
   "metadata": {},
   "outputs": [
    {
     "data": {
      "text/plain": [
       "-5"
      ]
     },
     "execution_count": 166,
     "metadata": {},
     "output_type": "execute_result"
    }
   ],
   "source": [
    "a.result"
   ]
  },
  {
   "cell_type": "code",
   "execution_count": 167,
   "id": "4afeef7f",
   "metadata": {},
   "outputs": [],
   "source": [
    "a.ac()"
   ]
  },
  {
   "cell_type": "code",
   "execution_count": 168,
   "id": "095cc261",
   "metadata": {},
   "outputs": [
    {
     "data": {
      "text/plain": [
       "0"
      ]
     },
     "execution_count": 168,
     "metadata": {},
     "output_type": "execute_result"
    }
   ],
   "source": [
    "a.result"
   ]
  },
  {
   "cell_type": "code",
   "execution_count": 169,
   "id": "8f50e2d1",
   "metadata": {},
   "outputs": [],
   "source": [
    "def add(x, y):\n",
    "    \"\"\"\n",
    "    add함수\n",
    "    - 정수 혹은 숫자 자료형 x, y의 더한 결과값을 리턴합니다.\n",
    "    \"\"\"\n",
    "    return x+y"
   ]
  },
  {
   "cell_type": "code",
   "execution_count": 170,
   "id": "f7f17a3d",
   "metadata": {},
   "outputs": [
    {
     "data": {
      "text/plain": [
       "5"
      ]
     },
     "execution_count": 170,
     "metadata": {},
     "output_type": "execute_result"
    }
   ],
   "source": [
    "add(2,3)"
   ]
  },
  {
   "cell_type": "code",
   "execution_count": 171,
   "id": "614f4ff9",
   "metadata": {},
   "outputs": [
    {
     "name": "stdout",
     "output_type": "stream",
     "text": [
      "Help on function add in module __main__:\n",
      "\n",
      "add(x, y)\n",
      "    add함수\n",
      "    - 정수 혹은 숫자 자료형 x, y의 더한 결과값을 리턴합니다.\n",
      "\n"
     ]
    }
   ],
   "source": [
    "help(add)"
   ]
  },
  {
   "cell_type": "code",
   "execution_count": 172,
   "id": "daacbb08",
   "metadata": {},
   "outputs": [
    {
     "data": {
      "text/plain": [
       "'\\n    add함수\\n    - 정수 혹은 숫자 자료형 x, y의 더한 결과값을 리턴합니다.\\n    '"
      ]
     },
     "execution_count": 172,
     "metadata": {},
     "output_type": "execute_result"
    }
   ],
   "source": [
    "add.__doc__"
   ]
  },
  {
   "cell_type": "markdown",
   "id": "de290bf9",
   "metadata": {},
   "source": [
    "## 여러 parameter가 필요한 경우  \n",
    "\n",
    "### 가변인자처리\n",
    "- 여러개의 인자를 하나로 묶어서 처리\n",
    "- 함수를 정의할 때 가변인자가 들어가는 매개변수를 args라는 이름으로 지정하고 그앞에 별을 붙여서 사용한다."
   ]
  },
  {
   "cell_type": "code",
   "execution_count": 173,
   "id": "a1b721b5",
   "metadata": {},
   "outputs": [],
   "source": [
    "def sum_all(*args):\n",
    "    print(args)\n",
    "    return sum(args)"
   ]
  },
  {
   "cell_type": "code",
   "execution_count": 182,
   "id": "4490c401",
   "metadata": {},
   "outputs": [
    {
     "name": "stdout",
     "output_type": "stream",
     "text": [
      "(1, 23, 1, 23, 2354, 3, 6534, 57654, 78, 67, 5678)\n"
     ]
    },
    {
     "data": {
      "text/plain": [
       "72416"
      ]
     },
     "execution_count": 182,
     "metadata": {},
     "output_type": "execute_result"
    }
   ],
   "source": [
    "sum_all(1,23,1,23,2354,3,6534,57654,78,67,5678)"
   ]
  },
  {
   "cell_type": "markdown",
   "id": "030836d8",
   "metadata": {},
   "source": [
    "### 가변키워드인자\n",
    "- 이름과 값을 나열해서 지정할 수 있다.\n",
    "- 가변인자 다음에 가변키워드인자를 넣어서 사용해야함."
   ]
  },
  {
   "cell_type": "code",
   "execution_count": 183,
   "id": "7490eff5",
   "metadata": {},
   "outputs": [],
   "source": [
    "def kwargs_function(**kwargs):\n",
    "    print(kwargs)"
   ]
  },
  {
   "cell_type": "code",
   "execution_count": 184,
   "id": "b0f09823",
   "metadata": {},
   "outputs": [
    {
     "name": "stdout",
     "output_type": "stream",
     "text": [
      "{'a': 1, 'b': '2', 'c': None}\n"
     ]
    }
   ],
   "source": [
    "kwargs_function(a=1, b='2', c=None)"
   ]
  },
  {
   "cell_type": "markdown",
   "id": "2a7ca30d",
   "metadata": {},
   "source": [
    "# 추천안함 VVV"
   ]
  },
  {
   "cell_type": "code",
   "execution_count": 185,
   "id": "ea9699ad",
   "metadata": {},
   "outputs": [],
   "source": [
    "def args_kwargs_function(*args, **kwargs):\n",
    "    print(args)\n",
    "    print(kwargs)"
   ]
  },
  {
   "cell_type": "code",
   "execution_count": 186,
   "id": "994e8c5b",
   "metadata": {},
   "outputs": [
    {
     "name": "stdout",
     "output_type": "stream",
     "text": [
      "(1, 2, 3, 4, 5)\n",
      "{'a': '1', 'b': '2', 'c': 3, 'd': None}\n"
     ]
    }
   ],
   "source": [
    "args_kwargs_function(1,2,3,4,5, a='1', b='2', c=3, d=None)"
   ]
  },
  {
   "cell_type": "code",
   "execution_count": 188,
   "id": "f8e78298",
   "metadata": {},
   "outputs": [],
   "source": [
    "def basic_parameter_args_kwargs_function(a, b, *args, **kwargs):\n",
    "    print(args)\n",
    "    print(kwargs)\n",
    "    print(a)\n",
    "    print(b)"
   ]
  },
  {
   "cell_type": "code",
   "execution_count": 192,
   "id": "0d39dd83",
   "metadata": {},
   "outputs": [
    {
     "name": "stdout",
     "output_type": "stream",
     "text": [
      "(23, 345, 345)\n",
      "{'c': '3', 'd': None}\n",
      "1\n",
      "2\n"
     ]
    }
   ],
   "source": [
    "basic_parameter_args_kwargs_function(1, 2, 23,345,345,c='3',d=None)"
   ]
  },
  {
   "cell_type": "markdown",
   "id": "3d381190",
   "metadata": {},
   "source": [
    "## 함수 내에 함수 정의 : 로컬 함수\n",
    "- 각 함수 정의별로 그 안에 지역변수가 만들어지므로 (locals()) 해당 이름공간도 같이 만들어집니다.\n",
    "- 함수 내부의 로직들을 하나의 블럭인 함수로 지정해서 재사용 용도로 구성할 수 있음."
   ]
  },
  {
   "cell_type": "code",
   "execution_count": 200,
   "id": "1e42981d",
   "metadata": {},
   "outputs": [],
   "source": [
    "def outer(a):\n",
    "    \n",
    "    def inner(b):\n",
    "        b += 2\n",
    "        print(f\"inner 함수{ locals() }\")\n",
    "        return b\n",
    "    a += 1\n",
    "    print(f\"inner 함수{ locals() }\")\n",
    "    \n",
    "    for data in range(1,3):\n",
    "        inner(a)"
   ]
  },
  {
   "cell_type": "code",
   "execution_count": 201,
   "id": "52d25c47",
   "metadata": {},
   "outputs": [
    {
     "name": "stdout",
     "output_type": "stream",
     "text": [
      "inner 함수{'a': 101, 'inner': <function outer.<locals>.inner at 0x7fd4c9a33b80>}\n",
      "inner 함수{'b': 103}\n",
      "inner 함수{'b': 103}\n"
     ]
    }
   ],
   "source": [
    "outer(100)"
   ]
  },
  {
   "cell_type": "code",
   "execution_count": null,
   "id": "da3f48d7",
   "metadata": {},
   "outputs": [],
   "source": []
  }
 ],
 "metadata": {
  "kernelspec": {
   "display_name": "Python 3",
   "language": "python",
   "name": "python3"
  },
  "language_info": {
   "codemirror_mode": {
    "name": "ipython",
    "version": 3
   },
   "file_extension": ".py",
   "mimetype": "text/x-python",
   "name": "python",
   "nbconvert_exporter": "python",
   "pygments_lexer": "ipython3",
   "version": "3.8.8"
  }
 },
 "nbformat": 4,
 "nbformat_minor": 5
}
