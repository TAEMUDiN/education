{
 "cells": [
  {
   "cell_type": "code",
   "execution_count": 3,
   "id": "3e04df56",
   "metadata": {},
   "outputs": [],
   "source": [
    "from bs4 import BeautifulSoup\n",
    "from urllib.request import urlopen"
   ]
  },
  {
   "cell_type": "code",
   "execution_count": 5,
   "id": "73bea903",
   "metadata": {},
   "outputs": [
    {
     "name": "stdout",
     "output_type": "stream",
     "text": [
      "<img alt=\"\" height=\"36\" onerror=\"this.parentNode.style.display='none';\" src=\"https://search.pstatic.net/common/?src=http%3A%2F%2Fblogfiles.naver.net%2FMjAyMTAxMTRfNDUg%2FMDAxNjEwNjM1NjE5NTAx.I61zxlZEEuqbbdihtqzmghErszszDfqnOSyEI50_tjQg.zEdHkJJ0IHtBvdXFU5Fc2CjzDINHwAowLBfnc5T01dkg.JPEG.mithra0404%2FIMG_2199.JPG&amp;type=f54_54\" width=\"36\"/>\n",
      "<img alt=\"\" height=\"36\" onerror=\"this.parentNode.style.display='none';\" src=\"https://search.pstatic.net/common/?src=http%3A%2F%2Fblogfiles.naver.net%2FMjAyMTA1MTdfMTc3%2FMDAxNjIxMjUxOTU2MDQ5.A8JzLLPyMXAR3VC4ohnVqxXT1d_H3JsRyUVMWHIjzsIg.TQxMbKC6_S_eH3B2QXKPc_cL0TD1wnBAnYcSzja59LQg.JPEG.bella8392%2FP20210512_141648585_BC108442-2E19-4E21-8E6C-EC6E5F6E35D7.JPG&amp;type=f54_54\" width=\"36\"/>\n",
      "<img alt=\"\" height=\"36\" onerror=\"this.parentNode.style.display='none';\" src=\"https://search.pstatic.net/common/?src=http%3A%2F%2Fblogfiles.naver.net%2FMjAyMTA2MDNfMTA4%2FMDAxNjIyNjgwNzEyMjQ2.nk9XnXtB_YtGhq7nFDAvKVY__qvfjMzN02l-ixp9CVog.qcDeJLeH7p4XPASB3ccgRXt1wrb9KoEWmNZZjAS9ezgg.PNG.hsh80616%2F2.png&amp;type=f54_54\" width=\"36\"/>\n",
      "<img alt=\"\" height=\"36\" onerror=\"this.parentNode.style.display='none';\" src=\"https://search.pstatic.net/common/?src=http%3A%2F%2Fshop1.phinf.naver.net%2F20210430_60%2F1619773756853Q6U4o_JPEG%2F20909599558849260_965991281.jpg&amp;type=f54_54\" width=\"36\"/>\n",
      "<img alt=\"\" height=\"36\" onerror=\"this.parentNode.style.display='none';\" src=\"https://search.pstatic.net/common/?src=http%3A%2F%2Fblogfiles.naver.net%2FMjAyMTA1MjBfMjk2%2FMDAxNjIxNDkzMjcwMzY2.UNgPCmCQDur9bQ2Rq7QvA46SORzVmhkxZs6nnYFBj7Ag.iUnqYwSSvRG0xc4z0M7pT2YZn06jKGJ5vTgW10BpI3Ig.JPEG.llumarsecheon%2F1621493121723%25A3%25AD2.jpg&amp;type=f54_54\" width=\"36\"/>\n",
      "<img alt=\"\" height=\"36\" onerror=\"this.parentNode.style.display='none';\" src=\"https://search.pstatic.net/common/?src=http%3A%2F%2Fshop1.phinf.naver.net%2F20210627_65%2F1624728103913Lg2bl_JPEG%2F25863938739631063_1939710377.jpg&amp;type=f54_54\" width=\"36\"/>\n",
      "<img alt=\"\" height=\"36\" onerror=\"this.parentNode.style.display='none';\" src=\"https://search.pstatic.net/common/?src=http%3A%2F%2Fblogfiles.naver.net%2FMjAyMTAxMTNfMjgz%2FMDAxNjEwNTMyMTU0OTg5.6RcrY_FnRtvk4nO0tymrz7FK_pFgzZ9NNs26rrb1lTAg.299m-QozxCwnG3pruoaXsICy9z9diBUTj8s2R338TWEg.JPEG.mustang8525%2F20210112_143936.jpg&amp;type=f54_54\" width=\"36\"/>\n",
      "<img alt=\"\" height=\"36\" onerror=\"this.parentNode.style.display='none';\" src=\"https://search.pstatic.net/common/?src=http%3A%2F%2Fpost.phinf.naver.net%2FMjAyMTAyMTZfMTI2%2FMDAxNjEzNDYzOTExMjU4.Mh09lrKBFbfwOfdNFROIusdKpEEJxemwnuAxfr7t7ggg.KuyZOiP7_VlS0j_3QqPt5klDhlpMpuYdgEvqTYxW638g.JPEG%2FIKIVUXEOspfxR6T5y9yTkevfo3rw.jpg&amp;type=f54_54\" width=\"36\"/>\n",
      "<img alt=\"\" height=\"36\" onerror=\"this.parentNode.style.display='none';\" src=\"https://search.pstatic.net/common/?src=http%3A%2F%2Fblogfiles.naver.net%2FMjAyMDAzMThfMTA1%2FMDAxNTg0NTM5NTQ5MDk0.vVeTWuFwBzzU5i-XelFI2qL73lhl2DD16dGGQxlmkjMg.wLemiFaM0woLzqdogNVkrb5sdsIj7cHkTqdk3vwSvKUg.JPEG.atlas100%2F12345.jpg&amp;type=f54_54\" width=\"36\"/>\n",
      "<img alt=\"\" height=\"36\" onerror=\"this.parentNode.style.display='none';\" src=\"https://search.pstatic.net/common/?src=http%3A%2F%2Fcafefiles.naver.net%2FMjAyMTAyMDJfMTY0%2FMDAxNjEyMjMyNTExMDIw.p1Wo2LS9UzOR-3hhq97PkobhXrhJCFLtd_N5wKUWGUwg.o-7VTF8HP9IoqqBLHZiV0LQTAptyIFKX18SE6d5nDIMg.PNG%2F%25B0%25B3%25B9%25E6%25B0%25A8.png&amp;type=f54_54\" width=\"36\"/>\n",
      "<img alt=\"\" height=\"36\" onerror=\"this.parentNode.style.display='none';\" src=\"https://search.pstatic.net/common/?src=http%3A%2F%2Fblogfiles.naver.net%2FMjAyMTA0MDZfMjk5%2FMDAxNjE3NjgwNDQ4NDk3.-HjigPk_E8x1zb6Krb-szLiou8JRg892sA-L8lfSdwwg.GUlax5rw6j7OZ5AdZ0UAKM2scjLfdQtJmFrzkEZgTcQg.JPEG.dmldus234%2FIMG_9459.jpg&amp;type=f54_54\" width=\"36\"/>\n",
      "<img alt=\"\" height=\"36\" onerror=\"this.parentNode.style.display='none';\" src=\"https://search.pstatic.net/common/?src=http%3A%2F%2Fblogfiles.naver.net%2FMjAyMDA4MzBfNDQg%2FMDAxNTk4NzkyNDg2NDU2.LWC9-NtgVcJGLWNoGjVdCATFMCzfqi1QFyI9tyli9Vkg.4Sb83yXkdaaNa65OeKa7gHVGsZXxtd8_c858-uRWtIQg.JPEG.wa5ihow50a6%2F%25C5%25D7%25BD%25BD%25B6%25F3%25B8%25F0%25B5%25A8Y_%25B1%25B9%25B3%25BB%25C3%25E2%25BD%25C32.jpg&amp;type=f54_54\" width=\"36\"/>\n",
      "<img alt=\"\" height=\"36\" onerror=\"this.parentNode.style.display='none';\" src=\"https://search.pstatic.net/common/?src=http%3A%2F%2Fblogfiles.naver.net%2FMjAyMDEwMTZfMTM0%2FMDAxNjAyODIxNDYzNjI5.BIlQCOh-pUi_HMZCJvpYDgLHtuYhvY5hflBK4tqAGMIg.c0ZPpNAfENpxWa_qBZDTn8-IcW6eyx0Nsf_Pr-cbf-Yg.PNG.flyinghoonis%2Fimage.png&amp;type=f54_54\" width=\"36\"/>\n",
      "<img alt=\"\" height=\"36\" onerror=\"this.parentNode.style.display='none';\" src=\"https://search.pstatic.net/common/?src=http%3A%2F%2Fcafefiles.naver.net%2FMjAyMTAyMTFfMjEg%2FMDAxNjEzMDM5MTQ3MDY5.ilGMTEzC5xeyF0RAE-TR5asfDNg7NDAkzeVcbSoVWccg.QAkGWJf3IChPTe8RqcYTM1boc7LMPbyF2wEvIqUv0v4g.JPEG%2Fdownloadfile%25A3%25DF20210211192513.jpg&amp;type=f54_54\" width=\"36\"/>\n",
      "<img alt=\"\" height=\"36\" onerror=\"this.parentNode.style.display='none';\" src=\"https://search.pstatic.net/common/?src=http%3A%2F%2Fshop1.phinf.naver.net%2F20210627_156%2F1624795215747NDo5H_JPEG%2F25930995458362549_1948427307.jpg&amp;type=f54_54\" width=\"36\"/>\n",
      "<img alt=\"\" height=\"36\" onerror=\"this.parentNode.style.display='none';\" src=\"https://search.pstatic.net/common/?src=http%3A%2F%2Fblogfiles.naver.net%2FMjAyMTA0MTNfMjE4%2FMDAxNjE4MzA5NzI2ODEx.toS03HKDtCQu0kxAHfILr7qLi8UfgrtcIU3CIycnW_sg.bKP8-mrvVsOAzlh-FDcTIi9AelDc_1C3PtVjzev3PDEg.PNG.dkdektm12%2Funtitled.png&amp;type=f54_54\" width=\"36\"/>\n",
      "<img alt=\"\" height=\"36\" onerror=\"this.parentNode.style.display='none';\" src=\"https://search.pstatic.net/common/?src=http%3A%2F%2Fblogfiles.naver.net%2FMjAyMTAxMTFfMjIw%2FMDAxNjEwMzUzNzEyNzMy.zoFMviKBBbQ2FoYCodJlojmRy_vzqhBkMLftsxzZqYUg.NZz83xFHtU0rS7g1AbVf6SXADjbbU30nQcMLfG2dxqwg.PNG.sukshot%2Fimage.png&amp;type=f54_54\" width=\"36\"/>\n",
      "<img alt=\"\" height=\"36\" onerror=\"this.parentNode.style.display='none';\" src=\"https://search.pstatic.net/common/?src=http%3A%2F%2Fblogfiles.naver.net%2FMjAyMTAxMTJfMTkw%2FMDAxNjEwNDI5NTQ4NTY2.uI6ohl78yjQnHmOYQeVmaTr_WiA1gMecBRgst12qk4Yg.AVEwPVJwx2OG7MO7rqq268Tq3PzRxzp9Zms7tfphMgog.JPEG.chacony%2Fmodelyroof.jpg&amp;type=f54_54\" width=\"36\"/>\n",
      "<img alt=\"\" height=\"36\" onerror=\"this.parentNode.style.display='none';\" src=\"https://search.pstatic.net/common/?src=http%3A%2F%2Fblogfiles.naver.net%2FMjAyMTAxMTZfNjEg%2FMDAxNjEwNzk2MDM2MTQ1.ry_mHdPWP4HF01BWmvhqLvL4NF8mwWbqzmhGx7L7c1kg.nsH1pPZkR_JtwA107WQsRkc4a1yLGkE5S3JzymkKMFUg.PNG.ssongpac%2Fimage.png&amp;type=f54_54\" width=\"36\"/>\n",
      "<img alt=\"\" height=\"36\" onerror=\"this.parentNode.style.display='none';\" src=\"https://search.pstatic.net/common/?src=http%3A%2F%2Fcafefiles.naver.net%2FMjAxOTEyMjdfOSAg%2FMDAxNTc3MzgxNjI0OTUz.Brp9TIKNnMvTftkDHBChsEbuu3xyNwuG7ohXH4zU9vIg.xhFqt91FVhpDKP7f1QyZ6MOw4cllMqFIQpUafTDYgD4g.JPEG%2FexternalFile.jpg&amp;type=f54_54\" width=\"36\"/>\n",
      "<img alt=\"\" height=\"36\" onerror=\"this.parentNode.style.display='none';\" src=\"https://search.pstatic.net/common/?src=http%3A%2F%2Fblogfiles.naver.net%2FMjAyMTAxMTVfNjkg%2FMDAxNjEwNjY1MjAyOTk2.f9UUDFe1HY8k5O0Hh5U0G_qZXsGmFXPOGZQ0zPTnIO4g.kNWXEZ1l6WHmevitTdxVyfsOz0r7_GNyR0SI0yT3RmEg.JPEG.iffu%2Fy7.jpg&amp;type=f54_54\" width=\"36\"/>\n",
      "<img alt=\"\" height=\"36\" onerror=\"this.parentNode.style.display='none';\" src=\"https://search.pstatic.net/common/?src=http%3A%2F%2Fblogfiles.naver.net%2FMjAyMTA1MTdfMTkz%2FMDAxNjIxMjE5NzIwNTUx.YT04efjK9CoZuXiGF7Lxf4o9oIl6KL4SmWYtIMqbu2Ug.lZD5vB-BIlvvZGU81_n67xCiP13OoteMzd4NR43qtFAg.JPEG.lscompany77%2FKakaoTalk_20210517_103647704_06.jpg&amp;type=f54_54\" width=\"36\"/>\n",
      "<img alt=\"로딩중\" class=\"bg_loading\" height=\"10\" src=\"https://ssl.pstatic.net/sstatic/search/pc/2016/img/blank.gif\" width=\"100%\"/>\n"
     ]
    }
   ],
   "source": [
    "with urlopen('https://search.naver.com/search.naver?where=image&sm=tab_jum&query=%ED%85%8C%EC%8A%AC%EB%9D%BC+%EB%AA%A8%EB%8D%B8y') as response:\n",
    "    soup = BeautifulSoup(response, 'html.parser')\n",
    "    for anchor in soup.select('img'):\n",
    "        print(anchor)\n"
   ]
  },
  {
   "cell_type": "code",
   "execution_count": null,
   "id": "ea978c25",
   "metadata": {},
   "outputs": [],
   "source": []
  }
 ],
 "metadata": {
  "kernelspec": {
   "display_name": "Python 3",
   "language": "python",
   "name": "python3"
  },
  "language_info": {
   "codemirror_mode": {
    "name": "ipython",
    "version": 3
   },
   "file_extension": ".py",
   "mimetype": "text/x-python",
   "name": "python",
   "nbconvert_exporter": "python",
   "pygments_lexer": "ipython3",
   "version": "3.8.8"
  }
 },
 "nbformat": 4,
 "nbformat_minor": 5
}
