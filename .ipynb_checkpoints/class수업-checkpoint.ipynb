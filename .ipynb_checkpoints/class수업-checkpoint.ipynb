{
 "cells": [
  {
   "cell_type": "code",
   "execution_count": 12,
   "id": "5a3b3592",
   "metadata": {},
   "outputs": [],
   "source": [
    "class Factory:\n",
    "    def __new__(cls, classname:str,*args):\n",
    "        cls_=eval(classname)\n",
    "        return super().__new__(cls)\n",
    "    \n",
    "    def __init__(self,classname:str, name:str,age:int, owner=None):\n",
    "        self.createObject(classname, name, age, owner)\n",
    "    \n",
    "    def crearteObject(self, classname:str, name:str, age:int , owner=None):\n",
    "        self.createObject(classname, name, age, owner)\n",
    "        if owner == None:\n",
    "            return eval(classname)(name, age)\n",
    "        else:\n",
    "            return eval(classname)(name, age, owner)"
   ]
  },
  {
   "cell_type": "code",
   "execution_count": 13,
   "id": "c3efbd54",
   "metadata": {},
   "outputs": [
    {
     "ename": "NameError",
     "evalue": "name 'Person' is not defined",
     "output_type": "error",
     "traceback": [
      "\u001b[0;31m---------------------------------------------------------------------------\u001b[0m",
      "\u001b[0;31mNameError\u001b[0m                                 Traceback (most recent call last)",
      "\u001b[0;32m<ipython-input-13-3e02efa2003e>\u001b[0m in \u001b[0;36m<module>\u001b[0;34m\u001b[0m\n\u001b[0;32m----> 1\u001b[0;31m \u001b[0ma\u001b[0m \u001b[0;34m=\u001b[0m \u001b[0mFactory\u001b[0m\u001b[0;34m(\u001b[0m\u001b[0;34m\"Person\"\u001b[0m\u001b[0;34m,\u001b[0m\u001b[0;34m\"Dah1\"\u001b[0m\u001b[0;34m,\u001b[0m\u001b[0;36m55\u001b[0m\u001b[0;34m)\u001b[0m\u001b[0;34m\u001b[0m\u001b[0;34m\u001b[0m\u001b[0m\n\u001b[0m",
      "\u001b[0;32m<ipython-input-12-867f502965ff>\u001b[0m in \u001b[0;36m__new__\u001b[0;34m(cls, classname, *args)\u001b[0m\n\u001b[1;32m      1\u001b[0m \u001b[0;32mclass\u001b[0m \u001b[0mFactory\u001b[0m\u001b[0;34m:\u001b[0m\u001b[0;34m\u001b[0m\u001b[0;34m\u001b[0m\u001b[0m\n\u001b[1;32m      2\u001b[0m     \u001b[0;32mdef\u001b[0m \u001b[0m__new__\u001b[0m\u001b[0;34m(\u001b[0m\u001b[0mcls\u001b[0m\u001b[0;34m,\u001b[0m \u001b[0mclassname\u001b[0m\u001b[0;34m:\u001b[0m\u001b[0mstr\u001b[0m\u001b[0;34m,\u001b[0m\u001b[0;34m*\u001b[0m\u001b[0margs\u001b[0m\u001b[0;34m)\u001b[0m\u001b[0;34m:\u001b[0m\u001b[0;34m\u001b[0m\u001b[0;34m\u001b[0m\u001b[0m\n\u001b[0;32m----> 3\u001b[0;31m         \u001b[0mcls_\u001b[0m\u001b[0;34m=\u001b[0m\u001b[0meval\u001b[0m\u001b[0;34m(\u001b[0m\u001b[0mclassname\u001b[0m\u001b[0;34m)\u001b[0m\u001b[0;34m\u001b[0m\u001b[0;34m\u001b[0m\u001b[0m\n\u001b[0m\u001b[1;32m      4\u001b[0m         \u001b[0;32mreturn\u001b[0m \u001b[0msuper\u001b[0m\u001b[0;34m(\u001b[0m\u001b[0;34m)\u001b[0m\u001b[0;34m.\u001b[0m\u001b[0m__new__\u001b[0m\u001b[0;34m(\u001b[0m\u001b[0mcls\u001b[0m\u001b[0;34m)\u001b[0m\u001b[0;34m\u001b[0m\u001b[0;34m\u001b[0m\u001b[0m\n\u001b[1;32m      5\u001b[0m \u001b[0;34m\u001b[0m\u001b[0m\n",
      "\u001b[0;32m<string>\u001b[0m in \u001b[0;36m<module>\u001b[0;34m\u001b[0m\n",
      "\u001b[0;31mNameError\u001b[0m: name 'Person' is not defined"
     ]
    }
   ],
   "source": [
    "a = Factory(\"Person\",\"Dah1\",55)"
   ]
  },
  {
   "cell_type": "markdown",
   "id": "405dc5ab",
   "metadata": {},
   "source": [
    "## class 는 함수가 길어지면 self를 받을걸 작성함"
   ]
  },
  {
   "cell_type": "code",
   "execution_count": 17,
   "id": "23d16bac",
   "metadata": {},
   "outputs": [],
   "source": [
    "def add(x,y):\n",
    "    return x+y"
   ]
  },
  {
   "cell_type": "code",
   "execution_count": 18,
   "id": "aa5d94ae",
   "metadata": {},
   "outputs": [],
   "source": [
    "class Add:\n",
    "    def __init__(self,x):\n",
    "        self.x = x\n",
    "    def add (self,y):\n",
    "        return self.x+y"
   ]
  },
  {
   "cell_type": "code",
   "execution_count": 19,
   "id": "1e5e5997",
   "metadata": {},
   "outputs": [
    {
     "data": {
      "text/plain": [
       "30"
      ]
     },
     "execution_count": 19,
     "metadata": {},
     "output_type": "execute_result"
    }
   ],
   "source": [
    "add(10,20)"
   ]
  },
  {
   "cell_type": "code",
   "execution_count": 21,
   "id": "109c826e",
   "metadata": {},
   "outputs": [
    {
     "data": {
      "text/plain": [
       "50"
      ]
     },
     "execution_count": 21,
     "metadata": {},
     "output_type": "execute_result"
    }
   ],
   "source": [
    "Add(20).add(30)"
   ]
  },
  {
   "cell_type": "code",
   "execution_count": 22,
   "id": "33ca97a5",
   "metadata": {},
   "outputs": [],
   "source": [
    "def func(classname, bases, namespace):\n",
    "    return type(classname, bases, namespace)"
   ]
  },
  {
   "cell_type": "code",
   "execution_count": 24,
   "id": "2b18e48e",
   "metadata": {},
   "outputs": [],
   "source": [
    "class P:\n",
    "    def ppp(self):\n",
    "        print(\"ㅁㅁㅁ\")"
   ]
  },
  {
   "cell_type": "code",
   "execution_count": 25,
   "id": "c82c6637",
   "metadata": {},
   "outputs": [],
   "source": [
    "class A(P):\n",
    "    def ppp(self):\n",
    "        p.ppp(self)\n",
    "        print(child)"
   ]
  },
  {
   "cell_type": "code",
   "execution_count": 28,
   "id": "928f8538",
   "metadata": {},
   "outputs": [
    {
     "name": "stdout",
     "output_type": "stream",
     "text": [
      "ㅁㅁㅁ\n"
     ]
    }
   ],
   "source": [
    "P.ppp(30)"
   ]
  },
  {
   "cell_type": "code",
   "execution_count": 29,
   "id": "747ab859",
   "metadata": {},
   "outputs": [
    {
     "ename": "NameError",
     "evalue": "name 'a' is not defined",
     "output_type": "error",
     "traceback": [
      "\u001b[0;31m---------------------------------------------------------------------------\u001b[0m",
      "\u001b[0;31mNameError\u001b[0m                                 Traceback (most recent call last)",
      "\u001b[0;32m<ipython-input-29-20370d4b1fdd>\u001b[0m in \u001b[0;36m<module>\u001b[0;34m\u001b[0m\n\u001b[0;32m----> 1\u001b[0;31m \u001b[0mA\u001b[0m\u001b[0;34m.\u001b[0m\u001b[0mppp\u001b[0m\u001b[0;34m(\u001b[0m\u001b[0ma\u001b[0m\u001b[0;34m)\u001b[0m\u001b[0;34m\u001b[0m\u001b[0;34m\u001b[0m\u001b[0m\n\u001b[0m",
      "\u001b[0;31mNameError\u001b[0m: name 'a' is not defined"
     ]
    }
   ],
   "source": [
    "A.ppp(a)"
   ]
  },
  {
   "cell_type": "code",
   "execution_count": null,
   "id": "f6de1c72",
   "metadata": {},
   "outputs": [],
   "source": []
  }
 ],
 "metadata": {
  "kernelspec": {
   "display_name": "Python 3",
   "language": "python",
   "name": "python3"
  },
  "language_info": {
   "codemirror_mode": {
    "name": "ipython",
    "version": 3
   },
   "file_extension": ".py",
   "mimetype": "text/x-python",
   "name": "python",
   "nbconvert_exporter": "python",
   "pygments_lexer": "ipython3",
   "version": "3.8.8"
  }
 },
 "nbformat": 4,
 "nbformat_minor": 5
}
