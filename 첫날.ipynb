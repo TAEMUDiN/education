{
 "cells": [
  {
   "cell_type": "markdown",
   "id": "3251064c",
   "metadata": {},
   "source": [
    " # Python\n",
    " # Day - 1-1\n"
   ]
  },
  {
   "cell_type": "code",
   "execution_count": null,
   "id": "3e24085e",
   "metadata": {},
   "outputs": [],
   "source": [
    "%%writefile helloworld.py\n",
    "\n",
    "print(\"Hello World!\")"
   ]
  },
  {
   "cell_type": "code",
   "execution_count": null,
   "id": "48251985",
   "metadata": {},
   "outputs": [],
   "source": [
    "import helloworld"
   ]
  },
  {
   "cell_type": "code",
   "execution_count": null,
   "id": "7e65bd51",
   "metadata": {},
   "outputs": [],
   "source": [
    "%ls"
   ]
  },
  {
   "cell_type": "code",
   "execution_count": null,
   "id": "61098c59",
   "metadata": {},
   "outputs": [],
   "source": [
    "%run helloworld.py"
   ]
  },
  {
   "cell_type": "code",
   "execution_count": null,
   "id": "a439fe1c",
   "metadata": {},
   "outputs": [],
   "source": [
    "%python helloworld.py"
   ]
  },
  {
   "cell_type": "code",
   "execution_count": null,
   "id": "cd52c071",
   "metadata": {},
   "outputs": [],
   "source": [
    "!python helloworld.py"
   ]
  },
  {
   "cell_type": "code",
   "execution_count": null,
   "id": "0464e664",
   "metadata": {},
   "outputs": [],
   "source": [
    "import keyword"
   ]
  },
  {
   "cell_type": "code",
   "execution_count": null,
   "id": "7d0f8a98",
   "metadata": {},
   "outputs": [],
   "source": [
    "dir(keyword)"
   ]
  },
  {
   "cell_type": "code",
   "execution_count": null,
   "id": "0d50062f",
   "metadata": {},
   "outputs": [],
   "source": [
    "print(keyword.kwlist)"
   ]
  },
  {
   "cell_type": "code",
   "execution_count": null,
   "id": "8995aba6",
   "metadata": {},
   "outputs": [],
   "source": [
    "len(keyword.kwlist)"
   ]
  },
  {
   "cell_type": "code",
   "execution_count": null,
   "id": "0e491ade",
   "metadata": {},
   "outputs": [],
   "source": [
    "if_ = 100"
   ]
  },
  {
   "cell_type": "code",
   "execution_count": null,
   "id": "785dd43c",
   "metadata": {},
   "outputs": [],
   "source": [
    "if_"
   ]
  },
  {
   "cell_type": "markdown",
   "id": "f8276f8e",
   "metadata": {},
   "source": [
    "### 테스트\n",
    "1. 모듈이 뭔지\n",
    ">첫번재 문장  \n",
    "부전째 문장\n",
    "\n",
    "+ ㅁㅁ\n",
    "    + ㅁㅁ\n",
    "    "
   ]
  },
  {
   "cell_type": "code",
   "execution_count": 1,
   "id": "bd8352f0",
   "metadata": {},
   "outputs": [
    {
     "data": {
      "text/plain": [
       "100"
      ]
     },
     "execution_count": 1,
     "metadata": {},
     "output_type": "execute_result"
    }
   ],
   "source": [
    "100"
   ]
  },
  {
   "cell_type": "code",
   "execution_count": 2,
   "id": "d1e3f285",
   "metadata": {},
   "outputs": [
    {
     "data": {
      "text/plain": [
       "int"
      ]
     },
     "execution_count": 2,
     "metadata": {},
     "output_type": "execute_result"
    }
   ],
   "source": [
    "type(100)"
   ]
  },
  {
   "cell_type": "code",
   "execution_count": 16,
   "id": "34a5c1c8",
   "metadata": {},
   "outputs": [
    {
     "data": {
      "text/plain": [
       "True"
      ]
     },
     "execution_count": 16,
     "metadata": {},
     "output_type": "execute_result"
    }
   ],
   "source": [
    "isinstance(100, int)"
   ]
  },
  {
   "cell_type": "code",
   "execution_count": 21,
   "id": "85e50164",
   "metadata": {},
   "outputs": [],
   "source": [
    "a = 100"
   ]
  },
  {
   "cell_type": "code",
   "execution_count": 22,
   "id": "3fc176a5",
   "metadata": {},
   "outputs": [
    {
     "data": {
      "text/plain": [
       "100"
      ]
     },
     "execution_count": 22,
     "metadata": {},
     "output_type": "execute_result"
    }
   ],
   "source": [
    "a"
   ]
  },
  {
   "cell_type": "code",
   "execution_count": 23,
   "id": "86098632",
   "metadata": {},
   "outputs": [
    {
     "data": {
      "text/plain": [
       "int"
      ]
     },
     "execution_count": 23,
     "metadata": {},
     "output_type": "execute_result"
    }
   ],
   "source": [
    "type(a)"
   ]
  },
  {
   "cell_type": "code",
   "execution_count": 27,
   "id": "a1021a8b",
   "metadata": {},
   "outputs": [
    {
     "name": "stdout",
     "output_type": "stream",
     "text": [
      "1\n",
      "0\n",
      "0\n"
     ]
    }
   ],
   "source": [
    "for b in str(a):\n",
    "    print(b)"
   ]
  },
  {
   "cell_type": "code",
   "execution_count": 28,
   "id": "cc1e0773",
   "metadata": {},
   "outputs": [
    {
     "data": {
      "text/plain": [
       "{'__name__': '__main__',\n",
       " '__doc__': 'Automatically created module for IPython interactive environment',\n",
       " '__package__': None,\n",
       " '__loader__': None,\n",
       " '__spec__': None,\n",
       " '__builtin__': <module 'builtins' (built-in)>,\n",
       " '__builtins__': <module 'builtins' (built-in)>,\n",
       " '_ih': ['',\n",
       "  '100',\n",
       "  'type(100)',\n",
       "  'isinstance(100, int)',\n",
       "  'isinstance(100, float)',\n",
       "  'isinstance(100, bool)',\n",
       "  'a = 100',\n",
       "  'a',\n",
       "  'a: int = 100',\n",
       "  'a',\n",
       "  'type(a)',\n",
       "  'a = 100, b = 200, c = a+b',\n",
       "  'a = 100; b = 200; c = a+b',\n",
       "  'a,b,c',\n",
       "  'type(a,b,c)',\n",
       "  'type(a),type(b),type(c)',\n",
       "  'isinstance(100, int)',\n",
       "  'a,b,c',\n",
       "  'for b in a\\n    print(str(b))',\n",
       "  'for b in a\\n    print(str(b))',\n",
       "  'for b in a:\\n    print(str(b))',\n",
       "  'a = 100',\n",
       "  'a',\n",
       "  'type(a)',\n",
       "  'for b in a:\\n    print(str(b))',\n",
       "  'for b in a:\\n    print(b))',\n",
       "  'for b in a:\\n    print(b)',\n",
       "  'for b in str(a):\\n    print(b)',\n",
       "  'globals()'],\n",
       " '_oh': {1: 100,\n",
       "  2: int,\n",
       "  3: True,\n",
       "  4: False,\n",
       "  5: False,\n",
       "  7: 100,\n",
       "  9: 100,\n",
       "  10: int,\n",
       "  13: (100, 200, 300),\n",
       "  15: (int, int, int),\n",
       "  16: True,\n",
       "  17: (100, 200, 300),\n",
       "  22: 100,\n",
       "  23: int},\n",
       " '_dh': ['/Users/choejinho/Desktop/Python'],\n",
       " 'In': ['',\n",
       "  '100',\n",
       "  'type(100)',\n",
       "  'isinstance(100, int)',\n",
       "  'isinstance(100, float)',\n",
       "  'isinstance(100, bool)',\n",
       "  'a = 100',\n",
       "  'a',\n",
       "  'a: int = 100',\n",
       "  'a',\n",
       "  'type(a)',\n",
       "  'a = 100, b = 200, c = a+b',\n",
       "  'a = 100; b = 200; c = a+b',\n",
       "  'a,b,c',\n",
       "  'type(a,b,c)',\n",
       "  'type(a),type(b),type(c)',\n",
       "  'isinstance(100, int)',\n",
       "  'a,b,c',\n",
       "  'for b in a\\n    print(str(b))',\n",
       "  'for b in a\\n    print(str(b))',\n",
       "  'for b in a:\\n    print(str(b))',\n",
       "  'a = 100',\n",
       "  'a',\n",
       "  'type(a)',\n",
       "  'for b in a:\\n    print(str(b))',\n",
       "  'for b in a:\\n    print(b))',\n",
       "  'for b in a:\\n    print(b)',\n",
       "  'for b in str(a):\\n    print(b)',\n",
       "  'globals()'],\n",
       " 'Out': {1: 100,\n",
       "  2: int,\n",
       "  3: True,\n",
       "  4: False,\n",
       "  5: False,\n",
       "  7: 100,\n",
       "  9: 100,\n",
       "  10: int,\n",
       "  13: (100, 200, 300),\n",
       "  15: (int, int, int),\n",
       "  16: True,\n",
       "  17: (100, 200, 300),\n",
       "  22: 100,\n",
       "  23: int},\n",
       " 'get_ipython': <bound method InteractiveShell.get_ipython of <ipykernel.zmqshell.ZMQInteractiveShell object at 0x7fd77589a8e0>>,\n",
       " 'exit': <IPython.core.autocall.ZMQExitAutocall at 0x7fd775906e80>,\n",
       " 'quit': <IPython.core.autocall.ZMQExitAutocall at 0x7fd775906e80>,\n",
       " '_': int,\n",
       " '__': 100,\n",
       " '___': (100, 200, 300),\n",
       " '_i': 'for b in str(a):\\n    print(b)',\n",
       " '_ii': 'for b in a:\\n    print(b)',\n",
       " '_iii': 'for b in a:\\n    print(b))',\n",
       " '_i1': '100',\n",
       " '_1': 100,\n",
       " '_i2': 'type(100)',\n",
       " '_2': int,\n",
       " '_i3': 'isinstance(100, int)',\n",
       " '_3': True,\n",
       " '_i4': 'isinstance(100, float)',\n",
       " '_4': False,\n",
       " '_i5': 'isinstance(100, bool)',\n",
       " '_5': False,\n",
       " '_i6': 'a = 100',\n",
       " 'a': 100,\n",
       " '_i7': 'a',\n",
       " '_7': 100,\n",
       " '_i8': 'a: int = 100',\n",
       " '__annotations__': {'a': int},\n",
       " '_i9': 'a',\n",
       " '_9': 100,\n",
       " '_i10': 'type(a)',\n",
       " '_10': int,\n",
       " '_i11': 'a = 100, b = 200, c = a+b',\n",
       " '_i12': 'a = 100; b = 200; c = a+b',\n",
       " 'b': '0',\n",
       " 'c': 300,\n",
       " '_i13': 'a,b,c',\n",
       " '_13': (100, 200, 300),\n",
       " '_i14': 'type(a,b,c)',\n",
       " '_i15': 'type(a),type(b),type(c)',\n",
       " '_15': (int, int, int),\n",
       " '_i16': 'isinstance(100, int)',\n",
       " '_16': True,\n",
       " '_i17': 'a,b,c',\n",
       " '_17': (100, 200, 300),\n",
       " '_i18': 'for b in a\\n    print(str(b))',\n",
       " '_i19': 'for b in a\\n    print(str(b))',\n",
       " '_i20': 'for b in a:\\n    print(str(b))',\n",
       " '_i21': 'a = 100',\n",
       " '_i22': 'a',\n",
       " '_22': 100,\n",
       " '_i23': 'type(a)',\n",
       " '_23': int,\n",
       " '_i24': 'for b in a:\\n    print(str(b))',\n",
       " '_i25': 'for b in a:\\n    print(b))',\n",
       " '_i26': 'for b in a:\\n    print(b)',\n",
       " '_i27': 'for b in str(a):\\n    print(b)',\n",
       " '_i28': 'globals()'}"
      ]
     },
     "execution_count": 28,
     "metadata": {},
     "output_type": "execute_result"
    }
   ],
   "source": [
    "globals()"
   ]
  },
  {
   "cell_type": "code",
   "execution_count": 29,
   "id": "e07f230f",
   "metadata": {},
   "outputs": [
    {
     "data": {
      "text/plain": [
       "{'__name__': '__main__',\n",
       " '__doc__': 'Automatically created module for IPython interactive environment',\n",
       " '__package__': None,\n",
       " '__loader__': None,\n",
       " '__spec__': None,\n",
       " '__builtin__': <module 'builtins' (built-in)>,\n",
       " '__builtins__': <module 'builtins' (built-in)>,\n",
       " '_ih': ['',\n",
       "  '100',\n",
       "  'type(100)',\n",
       "  'isinstance(100, int)',\n",
       "  'isinstance(100, float)',\n",
       "  'isinstance(100, bool)',\n",
       "  'a = 100',\n",
       "  'a',\n",
       "  'a: int = 100',\n",
       "  'a',\n",
       "  'type(a)',\n",
       "  'a = 100, b = 200, c = a+b',\n",
       "  'a = 100; b = 200; c = a+b',\n",
       "  'a,b,c',\n",
       "  'type(a,b,c)',\n",
       "  'type(a),type(b),type(c)',\n",
       "  'isinstance(100, int)',\n",
       "  'a,b,c',\n",
       "  'for b in a\\n    print(str(b))',\n",
       "  'for b in a\\n    print(str(b))',\n",
       "  'for b in a:\\n    print(str(b))',\n",
       "  'a = 100',\n",
       "  'a',\n",
       "  'type(a)',\n",
       "  'for b in a:\\n    print(str(b))',\n",
       "  'for b in a:\\n    print(b))',\n",
       "  'for b in a:\\n    print(b)',\n",
       "  'for b in str(a):\\n    print(b)',\n",
       "  'globals()',\n",
       "  'locals()'],\n",
       " '_oh': {1: 100,\n",
       "  2: int,\n",
       "  3: True,\n",
       "  4: False,\n",
       "  5: False,\n",
       "  7: 100,\n",
       "  9: 100,\n",
       "  10: int,\n",
       "  13: (100, 200, 300),\n",
       "  15: (int, int, int),\n",
       "  16: True,\n",
       "  17: (100, 200, 300),\n",
       "  22: 100,\n",
       "  23: int,\n",
       "  28: {...}},\n",
       " '_dh': ['/Users/choejinho/Desktop/Python'],\n",
       " 'In': ['',\n",
       "  '100',\n",
       "  'type(100)',\n",
       "  'isinstance(100, int)',\n",
       "  'isinstance(100, float)',\n",
       "  'isinstance(100, bool)',\n",
       "  'a = 100',\n",
       "  'a',\n",
       "  'a: int = 100',\n",
       "  'a',\n",
       "  'type(a)',\n",
       "  'a = 100, b = 200, c = a+b',\n",
       "  'a = 100; b = 200; c = a+b',\n",
       "  'a,b,c',\n",
       "  'type(a,b,c)',\n",
       "  'type(a),type(b),type(c)',\n",
       "  'isinstance(100, int)',\n",
       "  'a,b,c',\n",
       "  'for b in a\\n    print(str(b))',\n",
       "  'for b in a\\n    print(str(b))',\n",
       "  'for b in a:\\n    print(str(b))',\n",
       "  'a = 100',\n",
       "  'a',\n",
       "  'type(a)',\n",
       "  'for b in a:\\n    print(str(b))',\n",
       "  'for b in a:\\n    print(b))',\n",
       "  'for b in a:\\n    print(b)',\n",
       "  'for b in str(a):\\n    print(b)',\n",
       "  'globals()',\n",
       "  'locals()'],\n",
       " 'Out': {1: 100,\n",
       "  2: int,\n",
       "  3: True,\n",
       "  4: False,\n",
       "  5: False,\n",
       "  7: 100,\n",
       "  9: 100,\n",
       "  10: int,\n",
       "  13: (100, 200, 300),\n",
       "  15: (int, int, int),\n",
       "  16: True,\n",
       "  17: (100, 200, 300),\n",
       "  22: 100,\n",
       "  23: int,\n",
       "  28: {...}},\n",
       " 'get_ipython': <bound method InteractiveShell.get_ipython of <ipykernel.zmqshell.ZMQInteractiveShell object at 0x7fd77589a8e0>>,\n",
       " 'exit': <IPython.core.autocall.ZMQExitAutocall at 0x7fd775906e80>,\n",
       " 'quit': <IPython.core.autocall.ZMQExitAutocall at 0x7fd775906e80>,\n",
       " '_': {...},\n",
       " '__': int,\n",
       " '___': 100,\n",
       " '_i': 'globals()',\n",
       " '_ii': 'for b in str(a):\\n    print(b)',\n",
       " '_iii': 'for b in a:\\n    print(b)',\n",
       " '_i1': '100',\n",
       " '_1': 100,\n",
       " '_i2': 'type(100)',\n",
       " '_2': int,\n",
       " '_i3': 'isinstance(100, int)',\n",
       " '_3': True,\n",
       " '_i4': 'isinstance(100, float)',\n",
       " '_4': False,\n",
       " '_i5': 'isinstance(100, bool)',\n",
       " '_5': False,\n",
       " '_i6': 'a = 100',\n",
       " 'a': 100,\n",
       " '_i7': 'a',\n",
       " '_7': 100,\n",
       " '_i8': 'a: int = 100',\n",
       " '__annotations__': {'a': int},\n",
       " '_i9': 'a',\n",
       " '_9': 100,\n",
       " '_i10': 'type(a)',\n",
       " '_10': int,\n",
       " '_i11': 'a = 100, b = 200, c = a+b',\n",
       " '_i12': 'a = 100; b = 200; c = a+b',\n",
       " 'b': '0',\n",
       " 'c': 300,\n",
       " '_i13': 'a,b,c',\n",
       " '_13': (100, 200, 300),\n",
       " '_i14': 'type(a,b,c)',\n",
       " '_i15': 'type(a),type(b),type(c)',\n",
       " '_15': (int, int, int),\n",
       " '_i16': 'isinstance(100, int)',\n",
       " '_16': True,\n",
       " '_i17': 'a,b,c',\n",
       " '_17': (100, 200, 300),\n",
       " '_i18': 'for b in a\\n    print(str(b))',\n",
       " '_i19': 'for b in a\\n    print(str(b))',\n",
       " '_i20': 'for b in a:\\n    print(str(b))',\n",
       " '_i21': 'a = 100',\n",
       " '_i22': 'a',\n",
       " '_22': 100,\n",
       " '_i23': 'type(a)',\n",
       " '_23': int,\n",
       " '_i24': 'for b in a:\\n    print(str(b))',\n",
       " '_i25': 'for b in a:\\n    print(b))',\n",
       " '_i26': 'for b in a:\\n    print(b)',\n",
       " '_i27': 'for b in str(a):\\n    print(b)',\n",
       " '_i28': 'globals()',\n",
       " '_28': {...},\n",
       " '_i29': 'locals()'}"
      ]
     },
     "execution_count": 29,
     "metadata": {},
     "output_type": "execute_result"
    }
   ],
   "source": [
    "locals()"
   ]
  },
  {
   "cell_type": "code",
   "execution_count": 41,
   "id": "438c2b73",
   "metadata": {},
   "outputs": [],
   "source": [
    "class Person:\n",
    "\n",
    "    def __init__(self, height, weight, age, name):\n",
    "        self.height = height\n",
    "        self.weight = weight\n",
    "        self.age = age\n",
    "        self.name = name\n",
    "        \n",
    "    def say_korean(self):\n",
    "        print(\"한국어 할수 있음\")"
   ]
  },
  {
   "cell_type": "code",
   "execution_count": 50,
   "id": "d79a68c0",
   "metadata": {},
   "outputs": [],
   "source": [
    "choi = Person(181, 80, 33, '최진호')"
   ]
  },
  {
   "cell_type": "code",
   "execution_count": 51,
   "id": "bad3e6fa",
   "metadata": {},
   "outputs": [
    {
     "data": {
      "text/plain": [
       "<__main__.Person at 0x7fd777426d00>"
      ]
     },
     "execution_count": 51,
     "metadata": {},
     "output_type": "execute_result"
    }
   ],
   "source": [
    "choi"
   ]
  },
  {
   "cell_type": "code",
   "execution_count": 52,
   "id": "8b185d23",
   "metadata": {},
   "outputs": [
    {
     "name": "stdout",
     "output_type": "stream",
     "text": [
      "한국어 할수 있음\n"
     ]
    }
   ],
   "source": [
    "choi.say_korean()"
   ]
  },
  {
   "cell_type": "code",
   "execution_count": 56,
   "id": "67519b48",
   "metadata": {},
   "outputs": [
    {
     "data": {
      "text/plain": [
       "'최진호'"
      ]
     },
     "execution_count": 56,
     "metadata": {},
     "output_type": "execute_result"
    }
   ],
   "source": [
    "choi.name"
   ]
  },
  {
   "cell_type": "markdown",
   "id": "97c6dfcc",
   "metadata": {},
   "source": [
    "# 내장 자료형\n",
    "#### builtin data type\n",
    "\n",
    "- 파이썬 내부적으로 가지는 자료형 숫자, 문자열 리스트, 튜플, 딕셔너리, 집합 등"
   ]
  },
  {
   "cell_type": "code",
   "execution_count": 57,
   "id": "356c8a53",
   "metadata": {},
   "outputs": [
    {
     "data": {
      "text/plain": [
       "<module 'builtins' (built-in)>"
      ]
     },
     "execution_count": 57,
     "metadata": {},
     "output_type": "execute_result"
    }
   ],
   "source": [
    "__builtins__"
   ]
  },
  {
   "cell_type": "code",
   "execution_count": 58,
   "id": "e4182771",
   "metadata": {},
   "outputs": [
    {
     "data": {
      "text/plain": [
       "{'__name__': 'builtins',\n",
       " '__doc__': \"Built-in functions, exceptions, and other objects.\\n\\nNoteworthy: None is the `nil' object; Ellipsis represents `...' in slices.\",\n",
       " '__package__': '',\n",
       " '__loader__': _frozen_importlib.BuiltinImporter,\n",
       " '__spec__': ModuleSpec(name='builtins', loader=<class '_frozen_importlib.BuiltinImporter'>),\n",
       " '__build_class__': <function __build_class__>,\n",
       " '__import__': <function __import__>,\n",
       " 'abs': <function abs(x, /)>,\n",
       " 'all': <function all(iterable, /)>,\n",
       " 'any': <function any(iterable, /)>,\n",
       " 'ascii': <function ascii(obj, /)>,\n",
       " 'bin': <function bin(number, /)>,\n",
       " 'breakpoint': <function breakpoint>,\n",
       " 'callable': <function callable(obj, /)>,\n",
       " 'chr': <function chr(i, /)>,\n",
       " 'compile': <function compile(source, filename, mode, flags=0, dont_inherit=False, optimize=-1, *, _feature_version=-1)>,\n",
       " 'delattr': <function delattr(obj, name, /)>,\n",
       " 'dir': <function dir>,\n",
       " 'divmod': <function divmod(x, y, /)>,\n",
       " 'eval': <function eval(source, globals=None, locals=None, /)>,\n",
       " 'exec': <function exec(source, globals=None, locals=None, /)>,\n",
       " 'format': <function format(value, format_spec='', /)>,\n",
       " 'getattr': <function getattr>,\n",
       " 'globals': <function globals()>,\n",
       " 'hasattr': <function hasattr(obj, name, /)>,\n",
       " 'hash': <function hash(obj, /)>,\n",
       " 'hex': <function hex(number, /)>,\n",
       " 'id': <function id(obj, /)>,\n",
       " 'input': <bound method Kernel.raw_input of <ipykernel.ipkernel.IPythonKernel object at 0x7fd7758bc4c0>>,\n",
       " 'isinstance': <function isinstance(obj, class_or_tuple, /)>,\n",
       " 'issubclass': <function issubclass(cls, class_or_tuple, /)>,\n",
       " 'iter': <function iter>,\n",
       " 'len': <function len(obj, /)>,\n",
       " 'locals': <function locals()>,\n",
       " 'max': <function max>,\n",
       " 'min': <function min>,\n",
       " 'next': <function next>,\n",
       " 'oct': <function oct(number, /)>,\n",
       " 'ord': <function ord(c, /)>,\n",
       " 'pow': <function pow(base, exp, mod=None)>,\n",
       " 'print': <function print>,\n",
       " 'repr': <function repr(obj, /)>,\n",
       " 'round': <function round(number, ndigits=None)>,\n",
       " 'setattr': <function setattr(obj, name, value, /)>,\n",
       " 'sorted': <function sorted(iterable, /, *, key=None, reverse=False)>,\n",
       " 'sum': <function sum(iterable, /, start=0)>,\n",
       " 'vars': <function vars>,\n",
       " 'None': None,\n",
       " 'Ellipsis': Ellipsis,\n",
       " 'NotImplemented': NotImplemented,\n",
       " 'False': False,\n",
       " 'True': True,\n",
       " 'bool': bool,\n",
       " 'memoryview': memoryview,\n",
       " 'bytearray': bytearray,\n",
       " 'bytes': bytes,\n",
       " 'classmethod': classmethod,\n",
       " 'complex': complex,\n",
       " 'dict': dict,\n",
       " 'enumerate': enumerate,\n",
       " 'filter': filter,\n",
       " 'float': float,\n",
       " 'frozenset': frozenset,\n",
       " 'property': property,\n",
       " 'int': int,\n",
       " 'list': list,\n",
       " 'map': map,\n",
       " 'object': object,\n",
       " 'range': range,\n",
       " 'reversed': reversed,\n",
       " 'set': set,\n",
       " 'slice': slice,\n",
       " 'staticmethod': staticmethod,\n",
       " 'str': str,\n",
       " 'super': super,\n",
       " 'tuple': tuple,\n",
       " 'type': type,\n",
       " 'zip': zip,\n",
       " '__debug__': True,\n",
       " 'BaseException': BaseException,\n",
       " 'Exception': Exception,\n",
       " 'TypeError': TypeError,\n",
       " 'StopAsyncIteration': StopAsyncIteration,\n",
       " 'StopIteration': StopIteration,\n",
       " 'GeneratorExit': GeneratorExit,\n",
       " 'SystemExit': SystemExit,\n",
       " 'KeyboardInterrupt': KeyboardInterrupt,\n",
       " 'ImportError': ImportError,\n",
       " 'ModuleNotFoundError': ModuleNotFoundError,\n",
       " 'OSError': OSError,\n",
       " 'EnvironmentError': OSError,\n",
       " 'IOError': OSError,\n",
       " 'EOFError': EOFError,\n",
       " 'RuntimeError': RuntimeError,\n",
       " 'RecursionError': RecursionError,\n",
       " 'NotImplementedError': NotImplementedError,\n",
       " 'NameError': NameError,\n",
       " 'UnboundLocalError': UnboundLocalError,\n",
       " 'AttributeError': AttributeError,\n",
       " 'SyntaxError': SyntaxError,\n",
       " 'IndentationError': IndentationError,\n",
       " 'TabError': TabError,\n",
       " 'LookupError': LookupError,\n",
       " 'IndexError': IndexError,\n",
       " 'KeyError': KeyError,\n",
       " 'ValueError': ValueError,\n",
       " 'UnicodeError': UnicodeError,\n",
       " 'UnicodeEncodeError': UnicodeEncodeError,\n",
       " 'UnicodeDecodeError': UnicodeDecodeError,\n",
       " 'UnicodeTranslateError': UnicodeTranslateError,\n",
       " 'AssertionError': AssertionError,\n",
       " 'ArithmeticError': ArithmeticError,\n",
       " 'FloatingPointError': FloatingPointError,\n",
       " 'OverflowError': OverflowError,\n",
       " 'ZeroDivisionError': ZeroDivisionError,\n",
       " 'SystemError': SystemError,\n",
       " 'ReferenceError': ReferenceError,\n",
       " 'MemoryError': MemoryError,\n",
       " 'BufferError': BufferError,\n",
       " 'Warning': Warning,\n",
       " 'UserWarning': UserWarning,\n",
       " 'DeprecationWarning': DeprecationWarning,\n",
       " 'PendingDeprecationWarning': PendingDeprecationWarning,\n",
       " 'SyntaxWarning': SyntaxWarning,\n",
       " 'RuntimeWarning': RuntimeWarning,\n",
       " 'FutureWarning': FutureWarning,\n",
       " 'ImportWarning': ImportWarning,\n",
       " 'UnicodeWarning': UnicodeWarning,\n",
       " 'BytesWarning': BytesWarning,\n",
       " 'ResourceWarning': ResourceWarning,\n",
       " 'ConnectionError': ConnectionError,\n",
       " 'BlockingIOError': BlockingIOError,\n",
       " 'BrokenPipeError': BrokenPipeError,\n",
       " 'ChildProcessError': ChildProcessError,\n",
       " 'ConnectionAbortedError': ConnectionAbortedError,\n",
       " 'ConnectionRefusedError': ConnectionRefusedError,\n",
       " 'ConnectionResetError': ConnectionResetError,\n",
       " 'FileExistsError': FileExistsError,\n",
       " 'FileNotFoundError': FileNotFoundError,\n",
       " 'IsADirectoryError': IsADirectoryError,\n",
       " 'NotADirectoryError': NotADirectoryError,\n",
       " 'InterruptedError': InterruptedError,\n",
       " 'PermissionError': PermissionError,\n",
       " 'ProcessLookupError': ProcessLookupError,\n",
       " 'TimeoutError': TimeoutError,\n",
       " 'open': <function io.open(file, mode='r', buffering=-1, encoding=None, errors=None, newline=None, closefd=True, opener=None)>,\n",
       " 'copyright': Copyright (c) 2001-2021 Python Software Foundation.\n",
       " All Rights Reserved.\n",
       " \n",
       " Copyright (c) 2000 BeOpen.com.\n",
       " All Rights Reserved.\n",
       " \n",
       " Copyright (c) 1995-2001 Corporation for National Research Initiatives.\n",
       " All Rights Reserved.\n",
       " \n",
       " Copyright (c) 1991-1995 Stichting Mathematisch Centrum, Amsterdam.\n",
       " All Rights Reserved.,\n",
       " 'credits':     Thanks to CWI, CNRI, BeOpen.com, Zope Corporation and a cast of thousands\n",
       "     for supporting Python development.  See www.python.org for more information.,\n",
       " 'license': Type license() to see the full license text,\n",
       " 'help': Type help() for interactive help, or help(object) for help about object.,\n",
       " '__IPYTHON__': True,\n",
       " 'display': <function IPython.core.display.display(*objs, include=None, exclude=None, metadata=None, transient=None, display_id=None, **kwargs)>,\n",
       " 'get_ipython': <bound method InteractiveShell.get_ipython of <ipykernel.zmqshell.ZMQInteractiveShell object at 0x7fd77589a8e0>>}"
      ]
     },
     "execution_count": 58,
     "metadata": {},
     "output_type": "execute_result"
    }
   ],
   "source": [
    "__builtins__.__dict__"
   ]
  },
  {
   "cell_type": "code",
   "execution_count": 60,
   "id": "b9bc0b3c",
   "metadata": {},
   "outputs": [
    {
     "data": {
      "text/plain": [
       "int"
      ]
     },
     "execution_count": 60,
     "metadata": {},
     "output_type": "execute_result"
    }
   ],
   "source": [
    "__builtins__.__dict__['int']"
   ]
  },
  {
   "cell_type": "code",
   "execution_count": 65,
   "id": "c7ea3f71",
   "metadata": {},
   "outputs": [],
   "source": [
    "a = '100'\n",
    "b = 100"
   ]
  },
  {
   "cell_type": "code",
   "execution_count": 66,
   "id": "fbb632df",
   "metadata": {},
   "outputs": [
    {
     "name": "stdout",
     "output_type": "stream",
     "text": [
      "200\n"
     ]
    }
   ],
   "source": [
    "print(int(a)+b)"
   ]
  },
  {
   "cell_type": "code",
   "execution_count": 67,
   "id": "f9221613",
   "metadata": {},
   "outputs": [],
   "source": [
    "import math"
   ]
  },
  {
   "cell_type": "code",
   "execution_count": 68,
   "id": "c4f7de94",
   "metadata": {},
   "outputs": [
    {
     "data": {
      "text/plain": [
       "191"
      ]
     },
     "execution_count": 68,
     "metadata": {},
     "output_type": "execute_result"
    }
   ],
   "source": [
    "round(190.8)"
   ]
  },
  {
   "cell_type": "code",
   "execution_count": 69,
   "id": "ebfe7dc6",
   "metadata": {},
   "outputs": [
    {
     "data": {
      "text/plain": [
       "101"
      ]
     },
     "execution_count": 69,
     "metadata": {},
     "output_type": "execute_result"
    }
   ],
   "source": [
    "round(100.6)"
   ]
  },
  {
   "cell_type": "code",
   "execution_count": 70,
   "id": "3e5b6436",
   "metadata": {},
   "outputs": [
    {
     "data": {
      "text/plain": [
       "101"
      ]
     },
     "execution_count": 70,
     "metadata": {},
     "output_type": "execute_result"
    }
   ],
   "source": [
    "math.ceil(100.1)"
   ]
  },
  {
   "cell_type": "markdown",
   "id": "a81b04fa",
   "metadata": {},
   "source": [
    "# 시퀀스 자료형\n",
    "\n",
    "- 문자열, 리스트, 튜플"
   ]
  },
  {
   "cell_type": "code",
   "execution_count": 71,
   "id": "4574b746",
   "metadata": {},
   "outputs": [],
   "source": [
    "import collections as cols"
   ]
  },
  {
   "cell_type": "code",
   "execution_count": 72,
   "id": "caff3f12",
   "metadata": {},
   "outputs": [
    {
     "data": {
      "text/plain": [
       "<module 'collections' from '/Users/choejinho/opt/anaconda3/lib/python3.8/collections/__init__.py'>"
      ]
     },
     "execution_count": 72,
     "metadata": {},
     "output_type": "execute_result"
    }
   ],
   "source": [
    "cols"
   ]
  },
  {
   "cell_type": "code",
   "execution_count": 73,
   "id": "5715eadd",
   "metadata": {},
   "outputs": [
    {
     "name": "stdout",
     "output_type": "stream",
     "text": [
      "['ChainMap', 'Counter', 'OrderedDict', 'UserDict', 'UserList', 'UserString', '_Link', '_OrderedDictItemsView', '_OrderedDictKeysView', '_OrderedDictValuesView', '__all__', '__builtins__', '__cached__', '__doc__', '__file__', '__getattr__', '__loader__', '__name__', '__package__', '__path__', '__spec__', '_chain', '_collections_abc', '_count_elements', '_eq', '_heapq', '_iskeyword', '_itemgetter', '_proxy', '_recursive_repr', '_repeat', '_starmap', '_sys', '_tuplegetter', 'abc', 'defaultdict', 'deque', 'namedtuple']\n"
     ]
    }
   ],
   "source": [
    "print(dir(cols))"
   ]
  },
  {
   "cell_type": "code",
   "execution_count": 74,
   "id": "e13b830a",
   "metadata": {},
   "outputs": [
    {
     "data": {
      "text/plain": [
       "True"
      ]
     },
     "execution_count": 74,
     "metadata": {},
     "output_type": "execute_result"
    }
   ],
   "source": [
    "issubclass(str, cols.abc.Sequence)"
   ]
  },
  {
   "cell_type": "code",
   "execution_count": 76,
   "id": "e7538c5c",
   "metadata": {},
   "outputs": [
    {
     "data": {
      "text/plain": [
       "True"
      ]
     },
     "execution_count": 76,
     "metadata": {},
     "output_type": "execute_result"
    }
   ],
   "source": [
    "issubclass(list, cols.abc.Sequence)"
   ]
  },
  {
   "cell_type": "code",
   "execution_count": 77,
   "id": "f169fa01",
   "metadata": {},
   "outputs": [],
   "source": [
    "b = [1,2,3]"
   ]
  },
  {
   "cell_type": "code",
   "execution_count": 78,
   "id": "94306658",
   "metadata": {},
   "outputs": [
    {
     "data": {
      "text/plain": [
       "[1, 2, 3]"
      ]
     },
     "execution_count": 78,
     "metadata": {},
     "output_type": "execute_result"
    }
   ],
   "source": [
    "b"
   ]
  },
  {
   "cell_type": "code",
   "execution_count": 80,
   "id": "ec282d26",
   "metadata": {},
   "outputs": [
    {
     "name": "stdout",
     "output_type": "stream",
     "text": [
      "1\n",
      "2\n",
      "3\n"
     ]
    }
   ],
   "source": [
    "for c in b:\n",
    "    print(c)"
   ]
  },
  {
   "cell_type": "code",
   "execution_count": 81,
   "id": "b8753af9",
   "metadata": {},
   "outputs": [
    {
     "data": {
      "text/plain": [
       "97"
      ]
     },
     "execution_count": 81,
     "metadata": {},
     "output_type": "execute_result"
    }
   ],
   "source": [
    "ord('a')"
   ]
  },
  {
   "cell_type": "code",
   "execution_count": 82,
   "id": "029b323f",
   "metadata": {},
   "outputs": [
    {
     "name": "stdout",
     "output_type": "stream",
     "text": [
      "입력해주세요안녕\n"
     ]
    }
   ],
   "source": [
    "a = input('입력해주세요')"
   ]
  },
  {
   "cell_type": "code",
   "execution_count": 84,
   "id": "5fb3e406",
   "metadata": {},
   "outputs": [
    {
     "name": "stdout",
     "output_type": "stream",
     "text": [
      "안녕\n"
     ]
    }
   ],
   "source": [
    "print(a)"
   ]
  },
  {
   "cell_type": "code",
   "execution_count": 89,
   "id": "dba72f93",
   "metadata": {},
   "outputs": [
    {
     "name": "stdout",
     "output_type": "stream",
     "text": [
      "숫자 1 : 100000\n",
      "숫자 2 : 123\n"
     ]
    }
   ],
   "source": [
    "a = input(\"숫자 1 : \")\n",
    "b = input(\"숫자 2 : \")"
   ]
  },
  {
   "cell_type": "code",
   "execution_count": 105,
   "id": "f5ec0cfb",
   "metadata": {},
   "outputs": [
    {
     "name": "stdout",
     "output_type": "stream",
     "text": [
      "결과 : 100123\n"
     ]
    }
   ],
   "source": [
    "print(\"결과 : \"+ str(int(a)+int(b)))"
   ]
  },
  {
   "cell_type": "code",
   "execution_count": null,
   "id": "65a67fe3",
   "metadata": {},
   "outputs": [],
   "source": []
  }
 ],
 "metadata": {
  "kernelspec": {
   "display_name": "Python 3",
   "language": "python",
   "name": "python3"
  },
  "language_info": {
   "codemirror_mode": {
    "name": "ipython",
    "version": 3
   },
   "file_extension": ".py",
   "mimetype": "text/x-python",
   "name": "python",
   "nbconvert_exporter": "python",
   "pygments_lexer": "ipython3",
   "version": "3.8.8"
  }
 },
 "nbformat": 4,
 "nbformat_minor": 5
}
