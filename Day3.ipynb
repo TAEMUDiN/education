{
 "cells": [
  {
   "cell_type": "markdown",
   "id": "4b188d8d",
   "metadata": {},
   "source": [
    "## 함수도 객체다.\n",
    "\n",
    "- 함수도 다른 객체처럼 클래스를 가지고 있다.\n",
    "- 함수도 다른 객체처럼 변수에 할당도 가능하고, 즉 매개변수로 전달이 가능합니다."
   ]
  },
  {
   "cell_type": "code",
   "execution_count": 12,
   "id": "c5d97821",
   "metadata": {},
   "outputs": [],
   "source": [
    "def add(x,y):\n",
    "    \"\"\"더하기를 위한 함수\"\"\"\n",
    "    return x+y"
   ]
  },
  {
   "cell_type": "code",
   "execution_count": 2,
   "id": "ef94a0bf",
   "metadata": {},
   "outputs": [],
   "source": [
    "import types"
   ]
  },
  {
   "cell_type": "code",
   "execution_count": 3,
   "id": "80d898c8",
   "metadata": {},
   "outputs": [
    {
     "name": "stdout",
     "output_type": "stream",
     "text": [
      "['__abstractmethods__', '__base__', '__bases__', '__basicsize__', '__call__', '__class__', '__delattr__', '__dict__', '__dictoffset__', '__dir__', '__doc__', '__eq__', '__flags__', '__format__', '__ge__', '__getattribute__', '__gt__', '__hash__', '__init__', '__init_subclass__', '__instancecheck__', '__itemsize__', '__le__', '__lt__', '__module__', '__mro__', '__name__', '__ne__', '__new__', '__prepare__', '__qualname__', '__reduce__', '__reduce_ex__', '__repr__', '__setattr__', '__sizeof__', '__str__', '__subclasscheck__', '__subclasses__', '__subclasshook__', '__text_signature__', '__weakrefoffset__', 'mro']\n"
     ]
    }
   ],
   "source": [
    "print(dir (type))"
   ]
  },
  {
   "cell_type": "code",
   "execution_count": 4,
   "id": "c50acc60",
   "metadata": {},
   "outputs": [],
   "source": [
    "from types import FunctionType"
   ]
  },
  {
   "cell_type": "code",
   "execution_count": 5,
   "id": "2facba7f",
   "metadata": {},
   "outputs": [
    {
     "data": {
      "text/plain": [
       "True"
      ]
     },
     "execution_count": 5,
     "metadata": {},
     "output_type": "execute_result"
    }
   ],
   "source": [
    "add.__class__ is FunctionType"
   ]
  },
  {
   "cell_type": "markdown",
   "id": "0b2cb1ea",
   "metadata": {},
   "source": [
    "# 파이썬은 전부 객체다"
   ]
  },
  {
   "cell_type": "code",
   "execution_count": 6,
   "id": "19ab8d25",
   "metadata": {},
   "outputs": [],
   "source": [
    "add_ = add"
   ]
  },
  {
   "cell_type": "code",
   "execution_count": 7,
   "id": "98519d80",
   "metadata": {},
   "outputs": [
    {
     "data": {
      "text/plain": [
       "3"
      ]
     },
     "execution_count": 7,
     "metadata": {},
     "output_type": "execute_result"
    }
   ],
   "source": [
    "add_(1,2)"
   ]
  },
  {
   "cell_type": "code",
   "execution_count": 8,
   "id": "215aaa0f",
   "metadata": {},
   "outputs": [
    {
     "data": {
      "text/plain": [
       "(140222641209056, 140222641209056)"
      ]
     },
     "execution_count": 8,
     "metadata": {},
     "output_type": "execute_result"
    }
   ],
   "source": [
    "id(add_), id(add)"
   ]
  },
  {
   "cell_type": "code",
   "execution_count": 9,
   "id": "763ca3ea",
   "metadata": {},
   "outputs": [
    {
     "data": {
      "text/plain": [
       "True"
      ]
     },
     "execution_count": 9,
     "metadata": {},
     "output_type": "execute_result"
    }
   ],
   "source": [
    "add_.__class__ is FunctionType"
   ]
  },
  {
   "cell_type": "code",
   "execution_count": 10,
   "id": "dcfdcfa6",
   "metadata": {},
   "outputs": [
    {
     "name": "stdout",
     "output_type": "stream",
     "text": [
      "Help on _Helper in module _sitebuiltins object:\n",
      "\n",
      "class _Helper(builtins.object)\n",
      " |  Define the builtin 'help'.\n",
      " |  \n",
      " |  This is a wrapper around pydoc.help that provides a helpful message\n",
      " |  when 'help' is typed at the Python interactive prompt.\n",
      " |  \n",
      " |  Calling help() at the Python prompt starts an interactive help session.\n",
      " |  Calling help(thing) prints help for the python object 'thing'.\n",
      " |  \n",
      " |  Methods defined here:\n",
      " |  \n",
      " |  __call__(self, *args, **kwds)\n",
      " |      Call self as a function.\n",
      " |  \n",
      " |  __repr__(self)\n",
      " |      Return repr(self).\n",
      " |  \n",
      " |  ----------------------------------------------------------------------\n",
      " |  Data descriptors defined here:\n",
      " |  \n",
      " |  __dict__\n",
      " |      dictionary for instance variables (if defined)\n",
      " |  \n",
      " |  __weakref__\n",
      " |      list of weak references to the object (if defined)\n",
      "\n"
     ]
    }
   ],
   "source": [
    "add()"
   ]
  },
  {
   "cell_type": "markdown",
   "id": "c0790f11",
   "metadata": {},
   "source": [
    "## 매개변수에 초기 고정값 지정하기\n",
    "\n",
    "- 매개변수에 초기값을 지정하는 이유는 이 매개변수에 인자가 안들어올 경우 에러없이 처리하기위해 존재.\n",
    "- 다른언어는 함수를 오버로딩이 가능해서 여러 함수를 정의하는 것을 방지하기위해 초기값을 지정하지만\n",
    "- 파이썬은 여러함수를 동시에 정의할 수 없어서 초기값만으로 여러 함수를 정의한 것 처럼 사용하게 됩니다."
   ]
  },
  {
   "cell_type": "code",
   "execution_count": 14,
   "id": "d298e40e",
   "metadata": {},
   "outputs": [],
   "source": [
    "def subtract(x=1,y=2):\n",
    "    return x-y"
   ]
  },
  {
   "cell_type": "code",
   "execution_count": 16,
   "id": "0035f4c8",
   "metadata": {},
   "outputs": [],
   "source": [
    "def add(x,y):\n",
    "    return x+y"
   ]
  },
  {
   "cell_type": "code",
   "execution_count": 17,
   "id": "fd263e12",
   "metadata": {},
   "outputs": [
    {
     "data": {
      "text/plain": [
       "<function __main__.add(x, y)>"
      ]
     },
     "execution_count": 17,
     "metadata": {},
     "output_type": "execute_result"
    }
   ],
   "source": [
    "globals()['add']"
   ]
  },
  {
   "cell_type": "code",
   "execution_count": 18,
   "id": "fc40f837",
   "metadata": {},
   "outputs": [],
   "source": [
    "def add(x,y,z):\n",
    "    return X+y+z"
   ]
  },
  {
   "cell_type": "code",
   "execution_count": 19,
   "id": "2d8194a8",
   "metadata": {},
   "outputs": [
    {
     "data": {
      "text/plain": [
       "<function __main__.add(x, y, z)>"
      ]
     },
     "execution_count": 19,
     "metadata": {},
     "output_type": "execute_result"
    }
   ],
   "source": [
    "globals()['add']"
   ]
  },
  {
   "cell_type": "markdown",
   "id": "a1b9ac0d",
   "metadata": {},
   "source": [
    "## 오버라이딩"
   ]
  },
  {
   "cell_type": "code",
   "execution_count": 20,
   "id": "dddb3b94",
   "metadata": {},
   "outputs": [],
   "source": [
    "class A:\n",
    "    \n",
    "    def add(self,x,y):\n",
    "        return x+y"
   ]
  },
  {
   "cell_type": "code",
   "execution_count": 22,
   "id": "5e03c0c2",
   "metadata": {},
   "outputs": [],
   "source": [
    "class B(A):\n",
    "    def add (self, x, y):\n",
    "        return x+x+y\n",
    "    def subtract(self,x,y):\n",
    "        return x-y"
   ]
  },
  {
   "cell_type": "code",
   "execution_count": 23,
   "id": "1cdb9497",
   "metadata": {},
   "outputs": [],
   "source": [
    "b = B()"
   ]
  },
  {
   "cell_type": "code",
   "execution_count": 24,
   "id": "937731be",
   "metadata": {},
   "outputs": [
    {
     "data": {
      "text/plain": [
       "4"
      ]
     },
     "execution_count": 24,
     "metadata": {},
     "output_type": "execute_result"
    }
   ],
   "source": [
    "b.add(1,2)"
   ]
  },
  {
   "cell_type": "code",
   "execution_count": 25,
   "id": "754e2aff",
   "metadata": {},
   "outputs": [],
   "source": [
    "def subtract(x=1,y=2):\n",
    "        return x-y"
   ]
  },
  {
   "cell_type": "code",
   "execution_count": 26,
   "id": "7e7f3ac9",
   "metadata": {},
   "outputs": [
    {
     "data": {
      "text/plain": [
       "(1, 2)"
      ]
     },
     "execution_count": 26,
     "metadata": {},
     "output_type": "execute_result"
    }
   ],
   "source": [
    "subtract.__defaults__"
   ]
  },
  {
   "cell_type": "code",
   "execution_count": 27,
   "id": "77d7de7e",
   "metadata": {},
   "outputs": [
    {
     "data": {
      "text/plain": [
       "-2"
      ]
     },
     "execution_count": 27,
     "metadata": {},
     "output_type": "execute_result"
    }
   ],
   "source": [
    "subtract(y=3)"
   ]
  },
  {
   "cell_type": "code",
   "execution_count": 41,
   "id": "36d80de3",
   "metadata": {},
   "outputs": [],
   "source": [
    "def sample_function(a=1, b=2, *, kwarg1='123', kwags2='name'):\n",
    "    print(a,b)  ## \"*\" 키워드를 구분 할때 사용"
   ]
  },
  {
   "cell_type": "code",
   "execution_count": 42,
   "id": "18556f32",
   "metadata": {},
   "outputs": [
    {
     "data": {
      "text/plain": [
       "(1, 2)"
      ]
     },
     "execution_count": 42,
     "metadata": {},
     "output_type": "execute_result"
    }
   ],
   "source": [
    "sample_function.__defaults__"
   ]
  },
  {
   "cell_type": "code",
   "execution_count": 43,
   "id": "923b5a8f",
   "metadata": {},
   "outputs": [
    {
     "data": {
      "text/plain": [
       "{'kwarg1': '123', 'kwags2': 'name'}"
      ]
     },
     "execution_count": 43,
     "metadata": {},
     "output_type": "execute_result"
    }
   ],
   "source": [
    "sample_function.__kwdefaults__"
   ]
  },
  {
   "cell_type": "code",
   "execution_count": 52,
   "id": "46b52758",
   "metadata": {},
   "outputs": [],
   "source": [
    "N = 7\n",
    "\n",
    "schedule = [\n",
    "    {\n",
    "        'T':3,\n",
    "        'P':10\n",
    "    },\n",
    "     {\n",
    "        'T':5,\n",
    "        'P':20\n",
    "    },\n",
    "     {\n",
    "        'T':1,\n",
    "        'P':10\n",
    "    },\n",
    "     {\n",
    "        'T':1,\n",
    "        'P':20\n",
    "    },\n",
    "     {\n",
    "        'T':2,\n",
    "        'P':15\n",
    "    },\n",
    "     {\n",
    "        'T':4,\n",
    "        'P':40\n",
    "    },\n",
    "     {\n",
    "        'T':2,\n",
    "        'P':200\n",
    "    }\n",
    "]"
   ]
  },
  {
   "cell_type": "code",
   "execution_count": 54,
   "id": "544bca43",
   "metadata": {},
   "outputs": [
    {
     "name": "stdout",
     "output_type": "stream",
     "text": [
      "1일 : {'T': 3, 'P': 10}\n",
      "2일 : {'T': 5, 'P': 20}\n",
      "3일 : {'T': 1, 'P': 10}\n",
      "4일 : {'T': 1, 'P': 20}\n",
      "5일 : {'T': 2, 'P': 15}\n",
      "6일 : {'T': 4, 'P': 40}\n",
      "7일 : {'T': 2, 'P': 200}\n"
     ]
    }
   ],
   "source": [
    "for index, data in enumerate(schedule):\n",
    "    print(f'{index+1}일 : {data}')"
   ]
  },
  {
   "cell_type": "code",
   "execution_count": 75,
   "id": "9c842cbc",
   "metadata": {},
   "outputs": [
    {
     "name": "stdout",
     "output_type": "stream",
     "text": [
      "[{'T': 3, 'P': 10}, {'T': 1, 'P': 20}, {'T': 2, 'P': 15}]\n",
      "45\n",
      "[{'T': 5, 'P': 20}]\n",
      "20\n",
      "[{'T': 1, 'P': 10}, {'T': 1, 'P': 20}, {'T': 2, 'P': 15}]\n",
      "45\n",
      "[{'T': 1, 'P': 20}, {'T': 2, 'P': 15}]\n",
      "35\n",
      "[{'T': 2, 'P': 15}]\n",
      "15\n"
     ]
    }
   ],
   "source": [
    "result_data = []\n",
    "\n",
    "for index1, data1 in enumerate(schedule):\n",
    "    remain_days = N\n",
    "    result_datum = []\n",
    "    for index2, data2 in enumerate(schedule):\n",
    "        if index2 < index1:\n",
    "            continue\n",
    "        \n",
    "        if data2['T'] <= remain_days:\n",
    "            if len(result_datum) > 0:\n",
    "                if result_datum[len(result_datum) - 1]['T'] < index2 + 1 and N - (index2) >= data2['T']:\n",
    "                    result_datum.append(data2)\n",
    "                    remain_days -= data2['T']\n",
    "            else:\n",
    "                if N - (index2) >= data2['T']:\n",
    "                    result_datum.append(data2)\n",
    "                    remain_days -= data2['T']\n",
    "    \n",
    "    if len(result_datum) > 0:\n",
    "        result_data.append(result_datum)\n",
    "        \n",
    "for data in result_data:\n",
    "    print(data)\n",
    "    total = 0\n",
    "    for datum in data:\n",
    "        total += datum['P']\n",
    "        \n",
    "    print(total)"
   ]
  },
  {
   "cell_type": "code",
   "execution_count": 79,
   "id": "8d222a6d",
   "metadata": {},
   "outputs": [],
   "source": [
    "N = 10\n",
    "\n",
    "schedule = [\n",
    "    {\n",
    "        'name': '1일',\n",
    "        'T': 1,\n",
    "        'P': 1\n",
    "    },\n",
    "    {\n",
    "        'name': '2일',\n",
    "        'T': 1,\n",
    "        'P': 2\n",
    "    },\n",
    "    {\n",
    "        'name': '3일',\n",
    "        'T': 1,\n",
    "        'P': 3\n",
    "    },\n",
    "    {\n",
    "        'name': '4일',\n",
    "        'T': 1,\n",
    "        'P': 4\n",
    "    },\n",
    "    {\n",
    "        'name': '5일',\n",
    "        'T': 1,\n",
    "        'P': 5\n",
    "    },\n",
    "    {\n",
    "        'name': '6일',\n",
    "        'T': 1,\n",
    "        'P': 6\n",
    "    },\n",
    "    {\n",
    "        'name': '7일',\n",
    "        'T': 1,\n",
    "        'P': 7\n",
    "    },\n",
    "    {\n",
    "        'name': '8일',\n",
    "        'T': 1,\n",
    "        'P': 8\n",
    "    },\n",
    "    {\n",
    "        'name': '9일',\n",
    "        'T': 1,\n",
    "        'P': 9\n",
    "    },\n",
    "    {\n",
    "        'name': '10일',\n",
    "        'T': 1,\n",
    "        'P': 10\n",
    "    },\n",
    "]"
   ]
  },
  {
   "cell_type": "code",
   "execution_count": 80,
   "id": "f3a78e92",
   "metadata": {},
   "outputs": [
    {
     "name": "stdout",
     "output_type": "stream",
     "text": [
      "[{'name': '1일', 'T': 1, 'P': 1}, {'name': '2일', 'T': 1, 'P': 2}, {'name': '3일', 'T': 1, 'P': 3}, {'name': '4일', 'T': 1, 'P': 4}, {'name': '5일', 'T': 1, 'P': 5}, {'name': '6일', 'T': 1, 'P': 6}, {'name': '7일', 'T': 1, 'P': 7}, {'name': '8일', 'T': 1, 'P': 8}, {'name': '9일', 'T': 1, 'P': 9}, {'name': '10일', 'T': 1, 'P': 10}]\n",
      "55\n",
      "[{'name': '2일', 'T': 1, 'P': 2}, {'name': '3일', 'T': 1, 'P': 3}, {'name': '4일', 'T': 1, 'P': 4}, {'name': '5일', 'T': 1, 'P': 5}, {'name': '6일', 'T': 1, 'P': 6}, {'name': '7일', 'T': 1, 'P': 7}, {'name': '8일', 'T': 1, 'P': 8}, {'name': '9일', 'T': 1, 'P': 9}, {'name': '10일', 'T': 1, 'P': 10}]\n",
      "54\n",
      "[{'name': '3일', 'T': 1, 'P': 3}, {'name': '4일', 'T': 1, 'P': 4}, {'name': '5일', 'T': 1, 'P': 5}, {'name': '6일', 'T': 1, 'P': 6}, {'name': '7일', 'T': 1, 'P': 7}, {'name': '8일', 'T': 1, 'P': 8}, {'name': '9일', 'T': 1, 'P': 9}, {'name': '10일', 'T': 1, 'P': 10}]\n",
      "52\n",
      "[{'name': '4일', 'T': 1, 'P': 4}, {'name': '5일', 'T': 1, 'P': 5}, {'name': '6일', 'T': 1, 'P': 6}, {'name': '7일', 'T': 1, 'P': 7}, {'name': '8일', 'T': 1, 'P': 8}, {'name': '9일', 'T': 1, 'P': 9}, {'name': '10일', 'T': 1, 'P': 10}]\n",
      "49\n",
      "[{'name': '5일', 'T': 1, 'P': 5}, {'name': '6일', 'T': 1, 'P': 6}, {'name': '7일', 'T': 1, 'P': 7}, {'name': '8일', 'T': 1, 'P': 8}, {'name': '9일', 'T': 1, 'P': 9}, {'name': '10일', 'T': 1, 'P': 10}]\n",
      "45\n",
      "[{'name': '6일', 'T': 1, 'P': 6}, {'name': '7일', 'T': 1, 'P': 7}, {'name': '8일', 'T': 1, 'P': 8}, {'name': '9일', 'T': 1, 'P': 9}, {'name': '10일', 'T': 1, 'P': 10}]\n",
      "40\n",
      "[{'name': '7일', 'T': 1, 'P': 7}, {'name': '8일', 'T': 1, 'P': 8}, {'name': '9일', 'T': 1, 'P': 9}, {'name': '10일', 'T': 1, 'P': 10}]\n",
      "34\n",
      "[{'name': '8일', 'T': 1, 'P': 8}, {'name': '9일', 'T': 1, 'P': 9}, {'name': '10일', 'T': 1, 'P': 10}]\n",
      "27\n",
      "[{'name': '9일', 'T': 1, 'P': 9}, {'name': '10일', 'T': 1, 'P': 10}]\n",
      "19\n",
      "[{'name': '10일', 'T': 1, 'P': 10}]\n",
      "10\n"
     ]
    }
   ],
   "source": [
    "result_data = []\n",
    "\n",
    "for index1, data1 in enumerate(schedule):\n",
    "    remain_days = N\n",
    "    result_datum = []\n",
    "    for index2, data2 in enumerate(schedule):\n",
    "        if index2 < index1:\n",
    "            continue\n",
    "        \n",
    "        if data2['T'] <= remain_days:\n",
    "            if len(result_datum) > 0:\n",
    "                if result_datum[len(result_datum) - 1]['T'] < index2 + 1 and N - (index2) >= data2['T']:\n",
    "                    result_datum.append(data2)\n",
    "                    remain_days -= data2['T']\n",
    "            else:\n",
    "                if N - (index2) >= data2['T']:\n",
    "                    result_datum.append(data2)\n",
    "                    remain_days -= data2['T']\n",
    "    \n",
    "    if len(result_datum) > 0:\n",
    "        result_data.append(result_datum)\n",
    "        \n",
    "for data in result_data:\n",
    "    print(data)\n",
    "    total = 0\n",
    "    for datum in data:\n",
    "        total += datum['P']\n",
    "        \n",
    "    print(total)"
   ]
  },
  {
   "cell_type": "code",
   "execution_count": 82,
   "id": "27de41b7",
   "metadata": {},
   "outputs": [
    {
     "ename": "IndentationError",
     "evalue": "unindent does not match any outer indentation level (<tokenize>, line 3)",
     "output_type": "error",
     "traceback": [
      "\u001b[0;36m  File \u001b[0;32m\"<tokenize>\"\u001b[0;36m, line \u001b[0;32m3\u001b[0m\n\u001b[0;31m    -4X  - 5O (END)\u001b[0m\n\u001b[0m    ^\u001b[0m\n\u001b[0;31mIndentationError\u001b[0m\u001b[0;31m:\u001b[0m unindent does not match any outer indentation level\n"
     ]
    }
   ],
   "source": [
    "1일 : {'T': 3, 'P': 10} - O - 2X - 3X - 4O - 5O (END)\n",
    "                                           - 5X (END)\n",
    "                                      -4X  - 5O (END) \n",
    "                        - X -2O - 3X - 4X - 5X - 6X - (END)\n",
    "2일 : {'T': 5, 'P': 20} - O\n",
    "    \n",
    "3일 : {'T': 1, 'P': 10}\n",
    "4일 : {'T': 1, 'P': 20}\n",
    "5일 : {'T': 2, 'P': 15}\n",
    "6일 : {'T': 4, 'P': 40}\n",
    "7일 : {'T': 2, 'P': 200}"
   ]
  },
  {
   "cell_type": "code",
   "execution_count": null,
   "id": "e70932ee",
   "metadata": {},
   "outputs": [],
   "source": [
    "N = 10\n",
    "\n",
    "schedule = [\n",
    "    {\n",
    "        'name': '1일',\n",
    "        'T': 5,\n",
    "        'P': 10\n",
    "    },\n",
    "    {\n",
    "        'name': '2일',\n",
    "        'T': 5,\n",
    "        'P': 9\n",
    "    },\n",
    "    {\n",
    "        'name': '3일',\n",
    "        'T': 5,\n",
    "        'P': 8\n",
    "    },\n",
    "    {\n",
    "        'name': '4일',\n",
    "        'T': 5,\n",
    "        'P': 7\n",
    "    },\n",
    "    {\n",
    "        'name': '5일',\n",
    "        'T': 5,\n",
    "        'P': 6\n",
    "    },\n",
    "    {\n",
    "        'name': '6일',\n",
    "        'T': 5,\n",
    "        'P': 10\n",
    "    },\n",
    "    {\n",
    "        'name': '7일',\n",
    "        'T': 5,\n",
    "        'P': 9\n",
    "    },\n",
    "    {\n",
    "        'name': '8일',\n",
    "        'T': 5,\n",
    "        'P': 8\n",
    "    },\n",
    "    {\n",
    "        'name': '9일',\n",
    "        'T': 5,\n",
    "        'P': 7\n",
    "    },\n",
    "    {\n",
    "        'name': '10일',\n",
    "        'T': 5,\n",
    "        'P': 6\n",
    "    },\n",
    "]"
   ]
  },
  {
   "cell_type": "code",
   "execution_count": null,
   "id": "9ae12133",
   "metadata": {},
   "outputs": [],
   "source": [
    "result_data = []\n",
    "\n",
    "for index1, data1 in enumerate(schedule):\n",
    "    remain_days = N\n",
    "    result_datum = []\n",
    "    for index2, data2 in enumerate(schedule):\n",
    "        if index2 < index1:\n",
    "            continue\n",
    "        \n",
    "        if data2['T'] <= remain_days:\n",
    "            if len(result_datum) > 0:\n",
    "                if result_datum[len(result_datum) - 1]['T'] < index2 + 1 and N - (index2) >= data2['T']:\n",
    "                    result_datum.append(data2)\n",
    "                    remain_days -= data2['T']\n",
    "            else:\n",
    "                if N - (index2) >= data2['T']:\n",
    "                    result_datum.append(data2)\n",
    "                    remain_days -= data2['T']\n",
    "    \n",
    "    if len(result_datum) > 0:\n",
    "        result_data.append(result_datum)\n",
    "        \n",
    "for data in result_data:\n",
    "    print(data)\n",
    "    total = 0\n",
    "    for datum in data:\n",
    "        total += datum['P']\n",
    "        \n",
    "    print(total)"
   ]
  }
 ],
 "metadata": {
  "kernelspec": {
   "display_name": "Python 3",
   "language": "python",
   "name": "python3"
  },
  "language_info": {
   "codemirror_mode": {
    "name": "ipython",
    "version": 3
   },
   "file_extension": ".py",
   "mimetype": "text/x-python",
   "name": "python",
   "nbconvert_exporter": "python",
   "pygments_lexer": "ipython3",
   "version": "3.8.8"
  }
 },
 "nbformat": 4,
 "nbformat_minor": 5
}
