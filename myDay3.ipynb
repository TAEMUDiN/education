{
 "cells": [
  {
   "cell_type": "markdown",
   "id": "13e375e6",
   "metadata": {},
   "source": [
    "## 함수도 객체다.\n",
    "\n",
    "- 함수도 다른 객체처럼 클래스를 가지고 있다.\n",
    "- 함수도 다른 객체처럼 변수에 할당도 가능하고, 즉 매개변수로 전달이 가능합니다."
   ]
  },
  {
   "cell_type": "code",
   "execution_count": null,
   "id": "66b94ddf",
   "metadata": {},
   "outputs": [],
   "source": [
    "def add(x,y):\n",
    "    \"\"\"더하기를 위한 함수\"\"\"\n",
    "    return x+y"
   ]
  },
  {
   "cell_type": "code",
   "execution_count": null,
   "id": "4141be32",
   "metadata": {},
   "outputs": [],
   "source": [
    "import types"
   ]
  },
  {
   "cell_type": "code",
   "execution_count": null,
   "id": "f874026f",
   "metadata": {},
   "outputs": [],
   "source": [
    "print(dir (type))"
   ]
  },
  {
   "cell_type": "code",
   "execution_count": null,
   "id": "f7d572f5",
   "metadata": {},
   "outputs": [],
   "source": [
    "from types import FunctionType"
   ]
  },
  {
   "cell_type": "code",
   "execution_count": null,
   "id": "e47967e7",
   "metadata": {},
   "outputs": [],
   "source": [
    "add.__class__ is FunctionType"
   ]
  },
  {
   "cell_type": "markdown",
   "id": "9eed1d6a",
   "metadata": {},
   "source": [
    "# 파이썬은 전부 객체다"
   ]
  },
  {
   "cell_type": "code",
   "execution_count": null,
   "id": "67603c60",
   "metadata": {},
   "outputs": [],
   "source": [
    "add_ = add"
   ]
  },
  {
   "cell_type": "code",
   "execution_count": null,
   "id": "4d81aba3",
   "metadata": {},
   "outputs": [],
   "source": [
    "add_(1,2)"
   ]
  },
  {
   "cell_type": "code",
   "execution_count": null,
   "id": "bbaa3e3b",
   "metadata": {},
   "outputs": [],
   "source": [
    "id(add_), id(add)"
   ]
  },
  {
   "cell_type": "code",
   "execution_count": null,
   "id": "fea6dee0",
   "metadata": {},
   "outputs": [],
   "source": [
    "add_.__class__ is FunctionType"
   ]
  },
  {
   "cell_type": "code",
   "execution_count": null,
   "id": "2576d437",
   "metadata": {},
   "outputs": [],
   "source": [
    "add()"
   ]
  },
  {
   "cell_type": "markdown",
   "id": "bea580bc",
   "metadata": {},
   "source": [
    "## 매개변수에 초기 고정값 지정하기\n",
    "\n",
    "- 매개변수에 초기값을 지정하는 이유는 이 매개변수에 인자가 안들어올 경우 에러없이 처리하기위해 존재.\n",
    "- 다른언어는 함수를 오버로딩이 가능해서 여러 함수를 정의하는 것을 방지하기위해 초기값을 지정하지만\n",
    "- 파이썬은 여러함수를 동시에 정의할 수 없어서 초기값만으로 여러 함수를 정의한 것 처럼 사용하게 됩니다."
   ]
  },
  {
   "cell_type": "code",
   "execution_count": null,
   "id": "419503c1",
   "metadata": {},
   "outputs": [],
   "source": [
    "def subtract(x=1,y=2):\n",
    "    return x-y"
   ]
  },
  {
   "cell_type": "code",
   "execution_count": null,
   "id": "fd892d16",
   "metadata": {},
   "outputs": [],
   "source": [
    "def add(x,y):\n",
    "    return x+y"
   ]
  },
  {
   "cell_type": "code",
   "execution_count": null,
   "id": "39509c44",
   "metadata": {},
   "outputs": [],
   "source": [
    "globals()['add']"
   ]
  },
  {
   "cell_type": "code",
   "execution_count": null,
   "id": "03edf829",
   "metadata": {},
   "outputs": [],
   "source": [
    "def add(x,y,z):\n",
    "    return X+y+z"
   ]
  },
  {
   "cell_type": "code",
   "execution_count": null,
   "id": "151a11eb",
   "metadata": {},
   "outputs": [],
   "source": [
    "globals()['add']"
   ]
  },
  {
   "cell_type": "markdown",
   "id": "3bcf680d",
   "metadata": {},
   "source": [
    "## 오버라이딩"
   ]
  },
  {
   "cell_type": "code",
   "execution_count": null,
   "id": "d5b442c8",
   "metadata": {},
   "outputs": [],
   "source": [
    "class A:\n",
    "    \n",
    "    def add(self,x,y):\n",
    "        return x+y"
   ]
  },
  {
   "cell_type": "code",
   "execution_count": null,
   "id": "26a99c06",
   "metadata": {},
   "outputs": [],
   "source": [
    "class B(A):\n",
    "    def add (self, x, y):\n",
    "        return x+x+y\n",
    "    def subtract(self,x,y):\n",
    "        return x-y"
   ]
  },
  {
   "cell_type": "code",
   "execution_count": null,
   "id": "291ab4d8",
   "metadata": {},
   "outputs": [],
   "source": [
    "b = B()"
   ]
  },
  {
   "cell_type": "code",
   "execution_count": null,
   "id": "13b71c65",
   "metadata": {},
   "outputs": [],
   "source": [
    "b.add(1,2)"
   ]
  },
  {
   "cell_type": "code",
   "execution_count": null,
   "id": "6f7d0a6a",
   "metadata": {},
   "outputs": [],
   "source": [
    "def subtract(x=1,y=2):\n",
    "        return x-y"
   ]
  },
  {
   "cell_type": "code",
   "execution_count": null,
   "id": "1fc46dc7",
   "metadata": {},
   "outputs": [],
   "source": [
    "subtract.__defaults__"
   ]
  },
  {
   "cell_type": "code",
   "execution_count": null,
   "id": "041114c1",
   "metadata": {},
   "outputs": [],
   "source": [
    "subtract(y=3)"
   ]
  },
  {
   "cell_type": "code",
   "execution_count": null,
   "id": "a90fa846",
   "metadata": {},
   "outputs": [],
   "source": [
    "def sample_function(a=1, b=2, *, kwarg1='123', kwags2='name'):\n",
    "    print(a,b)  ## \"*\" 키워드를 구분 할때 사용"
   ]
  },
  {
   "cell_type": "code",
   "execution_count": null,
   "id": "49de63d6",
   "metadata": {},
   "outputs": [],
   "source": [
    "sample_function.__defaults__"
   ]
  },
  {
   "cell_type": "code",
   "execution_count": null,
   "id": "395b0705",
   "metadata": {},
   "outputs": [],
   "source": [
    "sample_function.__kwdefaults__"
   ]
  },
  {
   "cell_type": "code",
   "execution_count": null,
   "id": "cb850661",
   "metadata": {},
   "outputs": [],
   "source": [
    "N = 7\n",
    "\n",
    "schedule = [\n",
    "    {\n",
    "        'name': '1일',\n",
    "        'T': 3,\n",
    "        'P': 10\n",
    "    },\n",
    "    {\n",
    "        'name': '2일',\n",
    "        'T': 5,\n",
    "        'P': 20\n",
    "    },\n",
    "    {\n",
    "        'name': '3일',\n",
    "        'T': 1,\n",
    "        'P': 10\n",
    "    },\n",
    "    {\n",
    "        'name': '4일',\n",
    "        'T': 1,\n",
    "        'P': 20\n",
    "    },\n",
    "    {\n",
    "        'name': '5일',\n",
    "        'T': 2,\n",
    "        'P': 15\n",
    "    },\n",
    "    {\n",
    "        'name': '6일',\n",
    "        'T': 4,\n",
    "        'P': 40\n",
    "    },\n",
    "    {\n",
    "        'name': '7일',\n",
    "        'T': 2,\n",
    "        'P': 200\n",
    "    },\n",
    "]"
   ]
  },
  {
   "cell_type": "code",
   "execution_count": null,
   "id": "f69b10ba",
   "metadata": {},
   "outputs": [],
   "source": [
    "result_data = []\n",
    "\n",
    "for index1, data1 in enumerate(schedule):\n",
    "    remain_days = N\n",
    "    result_datum = []\n",
    "    for index2, data2 in enumerate(schedule):\n",
    "        if index2 < index1:\n",
    "            continue\n",
    "        \n",
    "        if data2['T'] <= remain_days:\n",
    "            if len(result_datum) > 0:\n",
    "                if result_datum[len(result_datum) - 1]['T'] < index2 + 1 and N - (index2) >= data2['T']:\n",
    "                    result_datum.append(data2)\n",
    "                    remain_days -= data2['T']\n",
    "            else:\n",
    "                if N - (index2) >= data2['T']:\n",
    "                    result_datum.append(data2)\n",
    "                    remain_days -= data2['T']\n",
    "    \n",
    "    if len(result_datum) > 0:\n",
    "        result_data.append(result_datum)\n",
    "\n",
    "result = []\n",
    "for data in result_data:\n",
    "    print(data)\n",
    "    total = 0\n",
    "    for datum in data:\n",
    "        total += datum['P']\n",
    "        \n",
    "    result.append({'total' : total, 'data' : data})\n",
    "    \n",
    "from operator import itemgetter\n",
    "\n",
    "data = sorted(result, key = itemgetter('total'))\n",
    "\n",
    "print(data)\n",
    "print(data[len(data) -1])"
   ]
  },
  {
   "cell_type": "code",
   "execution_count": null,
   "id": "9ed841aa",
   "metadata": {},
   "outputs": [],
   "source": [
    "N = 10\n",
    "\n",
    "schedule = [\n",
    "    {\n",
    "        'name': '1일',\n",
    "        'T': 1,\n",
    "        'P': 1\n",
    "    },\n",
    "    {\n",
    "        'name': '2일',\n",
    "        'T': 1,\n",
    "        'P': 2\n",
    "    },\n",
    "    {\n",
    "        'name': '3일',\n",
    "        'T': 1,\n",
    "        'P': 3\n",
    "    },\n",
    "    {\n",
    "        'name': '4일',\n",
    "        'T': 1,\n",
    "        'P': 4\n",
    "    },\n",
    "    {\n",
    "        'name': '5일',\n",
    "        'T': 1,\n",
    "        'P': 5\n",
    "    },\n",
    "    {\n",
    "        'name': '6일',\n",
    "        'T': 1,\n",
    "        'P': 6\n",
    "    },\n",
    "    {\n",
    "        'name': '7일',\n",
    "        'T': 1,\n",
    "        'P': 7\n",
    "    },\n",
    "    {\n",
    "        'name': '8일',\n",
    "        'T': 1,\n",
    "        'P': 8\n",
    "    },\n",
    "    {\n",
    "        'name': '9일',\n",
    "        'T': 1,\n",
    "        'P': 9\n",
    "    },\n",
    "    {\n",
    "        'name': '10일',\n",
    "        'T': 1,\n",
    "        'P': 10\n",
    "    },\n",
    "]"
   ]
  },
  {
   "cell_type": "code",
   "execution_count": null,
   "id": "1f83fdcd",
   "metadata": {},
   "outputs": [],
   "source": [
    "result_data = []\n",
    "\n",
    "for index1, data1 in enumerate(schedule):\n",
    "    remain_days = N\n",
    "    result_datum = []\n",
    "    for index2, data2 in enumerate(schedule):\n",
    "        if index2 < index1:\n",
    "            continue\n",
    "        \n",
    "        if data2['T'] <= remain_days:\n",
    "            if len(result_datum) > 0:\n",
    "                if result_datum[len(result_datum) - 1]['T'] < index2 + 1 and N - (index2) >= data2['T']:\n",
    "                    result_datum.append(data2)\n",
    "                    remain_days -= data2['T']\n",
    "            else:\n",
    "                if N - (index2) >= data2['T']:\n",
    "                    result_datum.append(data2)\n",
    "                    remain_days -= data2['T']\n",
    "    \n",
    "    if len(result_datum) > 0:\n",
    "        result_data.append(result_datum)\n",
    "        \n",
    "result = []\n",
    "for data in result_data:\n",
    "    print(data)\n",
    "    total = 0\n",
    "    for datum in data:\n",
    "        total += datum['P']\n",
    "        \n",
    "    result.append({'total' : total, 'data' : data})\n",
    "    \n",
    "from operator import itemgetter\n",
    "\n",
    "data = sorted(result, key = itemgetter('total'))\n",
    "\n",
    "print(data)\n",
    "print(data[len(data) -1])"
   ]
  },
  {
   "cell_type": "code",
   "execution_count": null,
   "id": "9f2b75eb",
   "metadata": {},
   "outputs": [],
   "source": [
    "N = 10\n",
    "\n",
    "schedule = [\n",
    "    {\n",
    "        'name': '1일',\n",
    "        'T': 5,\n",
    "        'P': 10\n",
    "    },\n",
    "    {\n",
    "        'name': '2일',\n",
    "        'T': 5,\n",
    "        'P': 9\n",
    "    },\n",
    "    {\n",
    "        'name': '3일',\n",
    "        'T': 5,\n",
    "        'P': 8\n",
    "    },\n",
    "    {\n",
    "        'name': '4일',\n",
    "        'T': 5,\n",
    "        'P': 7\n",
    "    },\n",
    "    {\n",
    "        'name': '5일',\n",
    "        'T': 5,\n",
    "        'P': 6\n",
    "    },\n",
    "    {\n",
    "        'name': '6일',\n",
    "        'T': 5,\n",
    "        'P': 10\n",
    "    },\n",
    "    {\n",
    "        'name': '7일',\n",
    "        'T': 5,\n",
    "        'P': 9\n",
    "    },\n",
    "    {\n",
    "        'name': '8일',\n",
    "        'T': 5,\n",
    "        'P': 8\n",
    "    },\n",
    "    {\n",
    "        'name': '9일',\n",
    "        'T': 5,\n",
    "        'P': 7\n",
    "    },\n",
    "    {\n",
    "        'name': '10일',\n",
    "        'T': 5,\n",
    "        'P': 6\n",
    "    },\n",
    "]"
   ]
  },
  {
   "cell_type": "code",
   "execution_count": null,
   "id": "98d48f70",
   "metadata": {},
   "outputs": [],
   "source": [
    "result_data = []\n",
    "\n",
    "for index1, data1 in enumerate(schedule):\n",
    "    remain_days = N\n",
    "    result_datum = []\n",
    "    for index2, data2 in enumerate(schedule):\n",
    "        if index2 < index1:\n",
    "            continue\n",
    "        \n",
    "        if data2['T'] <= remain_days:\n",
    "            if len(result_datum) > 0:\n",
    "                if result_datum[len(result_datum) - 1]['T'] < index2 + 1 and N - (index2) >= data2['T']:\n",
    "                    result_datum.append(data2)\n",
    "                    remain_days -= data2['T']\n",
    "            else:\n",
    "                if N - (index2) >= data2['T']:\n",
    "                    result_datum.append(data2)\n",
    "                    remain_days -= data2['T']\n",
    "    \n",
    "    if len(result_datum) > 0:\n",
    "        result_data.append(result_datum)\n",
    "        \n",
    "result = []\n",
    "for data in result_data:\n",
    "    print(data)\n",
    "    total = 0\n",
    "    for datum in data:\n",
    "        total += datum['P']\n",
    "        \n",
    "    result.append({'total' : total, 'data' : data})\n",
    "    \n",
    "from operator import itemgetter\n",
    "\n",
    "data = sorted(result, key = itemgetter('total'))\n",
    "\n",
    "print(data)\n",
    "print(data[len(data) -1])"
   ]
  },
  {
   "cell_type": "code",
   "execution_count": null,
   "id": "4a7bba6e",
   "metadata": {},
   "outputs": [],
   "source": [
    "1일 : {'T': 3, 'P': 10} - O - 2X - 3X - 4O - 5O (END)\n",
    "                                           - 5X (END)\n",
    "                                      -4X  - 5O (END) \n",
    "                        - X -2O - 3X - 4X - 5X - 6X - (END)\n",
    "2일 : {'T': 5, 'P': 20} - O\n",
    "    \n",
    "3일 : {'T': 1, 'P': 10}\n",
    "4일 : {'T': 1, 'P': 20}\n",
    "5일 : {'T': 2, 'P': 15}\n",
    "6일 : {'T': 4, 'P': 40}\n",
    "7일 : {'T': 2, 'P': 200}"
   ]
  },
  {
   "cell_type": "markdown",
   "id": "b6a1b2e3",
   "metadata": {},
   "source": [
    "### 익명함수 lanbda함수\n",
    "\n",
    "- 이름없는 함수를 제작할 수 있다.\n",
    "- 이름없는 함수는 사용한 즉시 가비지컬렉션으로 사라짐\n",
    "- 변수에 할당할 경우는 이름있는 함수로 지정해서 사용해야"
   ]
  },
  {
   "cell_type": "markdown",
   "id": "a83ecfd1",
   "metadata": {},
   "source": [
    "1. 익명함수 정의 및 실행\n",
    "\n",
    "- lambda 키워드를 사용\n",
    "- : ( 콜론 )으로 나눠지는데, 좌측은 매개변서 우측은 표현식을 지정"
   ]
  },
  {
   "cell_type": "code",
   "execution_count": null,
   "id": "f1b98697",
   "metadata": {},
   "outputs": [],
   "source": [
    "lambda x : x + 1"
   ]
  },
  {
   "cell_type": "code",
   "execution_count": null,
   "id": "4dc5da0b",
   "metadata": {},
   "outputs": [],
   "source": [
    "(lambda x : x + 1)(3)"
   ]
  },
  {
   "cell_type": "code",
   "execution_count": null,
   "id": "b5420e2a",
   "metadata": {},
   "outputs": [],
   "source": [
    "from types import FunctionType"
   ]
  },
  {
   "cell_type": "code",
   "execution_count": null,
   "id": "272758be",
   "metadata": {},
   "outputs": [],
   "source": [
    "(lambda x : x + 1).__class__ is FunctionType"
   ]
  },
  {
   "cell_type": "markdown",
   "id": "3a36360a",
   "metadata": {},
   "source": [
    "### 재귀함수\n",
    "\n",
    "- 함수 자신을 호출하고 함수의 결과와 다른 변수가 계산되어 처리하는 함수\n",
    "- 꼬리 재귀는 함수 자신만을 호출해서 처리하는 재귀함수\n",
    "- 특징 : 순화문 없이 함수를 호출해서 순환을 처리\n",
    "\n",
    "예시 : 5! = 5x4x3x2x1"
   ]
  },
  {
   "cell_type": "code",
   "execution_count": null,
   "id": "9476ddf9",
   "metadata": {},
   "outputs": [],
   "source": [
    "def factorial_for(n):\n",
    "    result = 1\n",
    "    for index in range(1,n+1):\n",
    "        result *= index\n",
    "    return result"
   ]
  },
  {
   "cell_type": "code",
   "execution_count": null,
   "id": "0e3109f5",
   "metadata": {},
   "outputs": [],
   "source": [
    "factorial_for(5)"
   ]
  },
  {
   "cell_type": "code",
   "execution_count": null,
   "id": "5fd78700",
   "metadata": {},
   "outputs": [],
   "source": [
    "def factorial_recursive(n):\n",
    "    return n * factorial_recursive(n-1)if n > 1 else 1 "
   ]
  },
  {
   "cell_type": "code",
   "execution_count": null,
   "id": "811f1fec",
   "metadata": {},
   "outputs": [],
   "source": [
    "factorial_recursive(5)"
   ]
  },
  {
   "cell_type": "code",
   "execution_count": null,
   "id": "37ddf0ff",
   "metadata": {},
   "outputs": [],
   "source": [
    "def A_add_B():\n",
    "    input_data = input(\"정수 입력 : \")\n",
    "    split_input_data = input_data.split(' ')\n",
    "    \n",
    "    A=int(split_input_data[0])\n",
    "    if(A<=0 and A>=10):\n",
    "        print(\"A의 범위가 맞지 않음\")\n",
    "        return None\n",
    "    B = int(split_input_data[1])\n",
    "    if(B<=0 and B>=10):\n",
    "        print(\"B의 범위가 맞지 않음\")\n",
    "        return\n",
    "    \n",
    "    return (A, B)4\n",
    "\n",
    "def A_add_B1():\n",
    "    data = input_AB()\n",
    "    if data is None:\n",
    "        return\n",
    "    print(data[0]+data[1])\n",
    "    \n",
    "def A_multiple_B():\n",
    "    data = input_AB()\n",
    "    if data is None:\n",
    "        return\n",
    "    print(data[0]*data[1])\n",
    "    \n",
    "def A_divide_B():\n",
    "    data = input_AB()\n",
    "    if data is None:\n",
    "        return\n",
    "    print(data[0]-data[1])   "
   ]
  },
  {
   "cell_type": "code",
   "execution_count": 1,
   "id": "554e536f",
   "metadata": {},
   "outputs": [],
   "source": [
    "three_list = []\n",
    "five_list = []"
   ]
  },
  {
   "cell_type": "code",
   "execution_count": 2,
   "id": "e45552ce",
   "metadata": {},
   "outputs": [],
   "source": [
    "count = 1000\n",
    "for data in range(1,count):\n",
    "    if data % 3 == 0:\n",
    "        three_list.append(data)\n",
    "        \n",
    "    if data % 5 == 0:\n",
    "        if data % 15 == 0:\n",
    "            continue\n",
    "        five_list.append(data)"
   ]
  },
  {
   "cell_type": "code",
   "execution_count": 3,
   "id": "3cf85b11",
   "metadata": {},
   "outputs": [
    {
     "name": "stdout",
     "output_type": "stream",
     "text": [
      "[3, 6, 9, 12, 15, 18, 21, 24, 27, 30, 33, 36, 39, 42, 45, 48, 51, 54, 57, 60, 63, 66, 69, 72, 75, 78, 81, 84, 87, 90, 93, 96, 99, 102, 105, 108, 111, 114, 117, 120, 123, 126, 129, 132, 135, 138, 141, 144, 147, 150, 153, 156, 159, 162, 165, 168, 171, 174, 177, 180, 183, 186, 189, 192, 195, 198, 201, 204, 207, 210, 213, 216, 219, 222, 225, 228, 231, 234, 237, 240, 243, 246, 249, 252, 255, 258, 261, 264, 267, 270, 273, 276, 279, 282, 285, 288, 291, 294, 297, 300, 303, 306, 309, 312, 315, 318, 321, 324, 327, 330, 333, 336, 339, 342, 345, 348, 351, 354, 357, 360, 363, 366, 369, 372, 375, 378, 381, 384, 387, 390, 393, 396, 399, 402, 405, 408, 411, 414, 417, 420, 423, 426, 429, 432, 435, 438, 441, 444, 447, 450, 453, 456, 459, 462, 465, 468, 471, 474, 477, 480, 483, 486, 489, 492, 495, 498, 501, 504, 507, 510, 513, 516, 519, 522, 525, 528, 531, 534, 537, 540, 543, 546, 549, 552, 555, 558, 561, 564, 567, 570, 573, 576, 579, 582, 585, 588, 591, 594, 597, 600, 603, 606, 609, 612, 615, 618, 621, 624, 627, 630, 633, 636, 639, 642, 645, 648, 651, 654, 657, 660, 663, 666, 669, 672, 675, 678, 681, 684, 687, 690, 693, 696, 699, 702, 705, 708, 711, 714, 717, 720, 723, 726, 729, 732, 735, 738, 741, 744, 747, 750, 753, 756, 759, 762, 765, 768, 771, 774, 777, 780, 783, 786, 789, 792, 795, 798, 801, 804, 807, 810, 813, 816, 819, 822, 825, 828, 831, 834, 837, 840, 843, 846, 849, 852, 855, 858, 861, 864, 867, 870, 873, 876, 879, 882, 885, 888, 891, 894, 897, 900, 903, 906, 909, 912, 915, 918, 921, 924, 927, 930, 933, 936, 939, 942, 945, 948, 951, 954, 957, 960, 963, 966, 969, 972, 975, 978, 981, 984, 987, 990, 993, 996, 999]\n"
     ]
    }
   ],
   "source": [
    "print(three_list)"
   ]
  },
  {
   "cell_type": "code",
   "execution_count": 4,
   "id": "a1ba7a6a",
   "metadata": {},
   "outputs": [
    {
     "name": "stdout",
     "output_type": "stream",
     "text": [
      "[5, 10, 20, 25, 35, 40, 50, 55, 65, 70, 80, 85, 95, 100, 110, 115, 125, 130, 140, 145, 155, 160, 170, 175, 185, 190, 200, 205, 215, 220, 230, 235, 245, 250, 260, 265, 275, 280, 290, 295, 305, 310, 320, 325, 335, 340, 350, 355, 365, 370, 380, 385, 395, 400, 410, 415, 425, 430, 440, 445, 455, 460, 470, 475, 485, 490, 500, 505, 515, 520, 530, 535, 545, 550, 560, 565, 575, 580, 590, 595, 605, 610, 620, 625, 635, 640, 650, 655, 665, 670, 680, 685, 695, 700, 710, 715, 725, 730, 740, 745, 755, 760, 770, 775, 785, 790, 800, 805, 815, 820, 830, 835, 845, 850, 860, 865, 875, 880, 890, 895, 905, 910, 920, 925, 935, 940, 950, 955, 965, 970, 980, 985, 995]\n"
     ]
    }
   ],
   "source": [
    "print(five_list)"
   ]
  },
  {
   "cell_type": "code",
   "execution_count": 5,
   "id": "5aff00ef",
   "metadata": {},
   "outputs": [
    {
     "data": {
      "text/plain": [
       "[3,\n",
       " 6,\n",
       " 9,\n",
       " 12,\n",
       " 15,\n",
       " 18,\n",
       " 21,\n",
       " 24,\n",
       " 27,\n",
       " 30,\n",
       " 33,\n",
       " 36,\n",
       " 39,\n",
       " 42,\n",
       " 45,\n",
       " 48,\n",
       " 51,\n",
       " 54,\n",
       " 57,\n",
       " 60,\n",
       " 63,\n",
       " 66,\n",
       " 69,\n",
       " 72,\n",
       " 75,\n",
       " 78,\n",
       " 81,\n",
       " 84,\n",
       " 87,\n",
       " 90,\n",
       " 93,\n",
       " 96,\n",
       " 99,\n",
       " 102,\n",
       " 105,\n",
       " 108,\n",
       " 111,\n",
       " 114,\n",
       " 117,\n",
       " 120,\n",
       " 123,\n",
       " 126,\n",
       " 129,\n",
       " 132,\n",
       " 135,\n",
       " 138,\n",
       " 141,\n",
       " 144,\n",
       " 147,\n",
       " 150,\n",
       " 153,\n",
       " 156,\n",
       " 159,\n",
       " 162,\n",
       " 165,\n",
       " 168,\n",
       " 171,\n",
       " 174,\n",
       " 177,\n",
       " 180,\n",
       " 183,\n",
       " 186,\n",
       " 189,\n",
       " 192,\n",
       " 195,\n",
       " 198,\n",
       " 201,\n",
       " 204,\n",
       " 207,\n",
       " 210,\n",
       " 213,\n",
       " 216,\n",
       " 219,\n",
       " 222,\n",
       " 225,\n",
       " 228,\n",
       " 231,\n",
       " 234,\n",
       " 237,\n",
       " 240,\n",
       " 243,\n",
       " 246,\n",
       " 249,\n",
       " 252,\n",
       " 255,\n",
       " 258,\n",
       " 261,\n",
       " 264,\n",
       " 267,\n",
       " 270,\n",
       " 273,\n",
       " 276,\n",
       " 279,\n",
       " 282,\n",
       " 285,\n",
       " 288,\n",
       " 291,\n",
       " 294,\n",
       " 297,\n",
       " 300,\n",
       " 303,\n",
       " 306,\n",
       " 309,\n",
       " 312,\n",
       " 315,\n",
       " 318,\n",
       " 321,\n",
       " 324,\n",
       " 327,\n",
       " 330,\n",
       " 333,\n",
       " 336,\n",
       " 339,\n",
       " 342,\n",
       " 345,\n",
       " 348,\n",
       " 351,\n",
       " 354,\n",
       " 357,\n",
       " 360,\n",
       " 363,\n",
       " 366,\n",
       " 369,\n",
       " 372,\n",
       " 375,\n",
       " 378,\n",
       " 381,\n",
       " 384,\n",
       " 387,\n",
       " 390,\n",
       " 393,\n",
       " 396,\n",
       " 399,\n",
       " 402,\n",
       " 405,\n",
       " 408,\n",
       " 411,\n",
       " 414,\n",
       " 417,\n",
       " 420,\n",
       " 423,\n",
       " 426,\n",
       " 429,\n",
       " 432,\n",
       " 435,\n",
       " 438,\n",
       " 441,\n",
       " 444,\n",
       " 447,\n",
       " 450,\n",
       " 453,\n",
       " 456,\n",
       " 459,\n",
       " 462,\n",
       " 465,\n",
       " 468,\n",
       " 471,\n",
       " 474,\n",
       " 477,\n",
       " 480,\n",
       " 483,\n",
       " 486,\n",
       " 489,\n",
       " 492,\n",
       " 495,\n",
       " 498,\n",
       " 501,\n",
       " 504,\n",
       " 507,\n",
       " 510,\n",
       " 513,\n",
       " 516,\n",
       " 519,\n",
       " 522,\n",
       " 525,\n",
       " 528,\n",
       " 531,\n",
       " 534,\n",
       " 537,\n",
       " 540,\n",
       " 543,\n",
       " 546,\n",
       " 549,\n",
       " 552,\n",
       " 555,\n",
       " 558,\n",
       " 561,\n",
       " 564,\n",
       " 567,\n",
       " 570,\n",
       " 573,\n",
       " 576,\n",
       " 579,\n",
       " 582,\n",
       " 585,\n",
       " 588,\n",
       " 591,\n",
       " 594,\n",
       " 597,\n",
       " 600,\n",
       " 603,\n",
       " 606,\n",
       " 609,\n",
       " 612,\n",
       " 615,\n",
       " 618,\n",
       " 621,\n",
       " 624,\n",
       " 627,\n",
       " 630,\n",
       " 633,\n",
       " 636,\n",
       " 639,\n",
       " 642,\n",
       " 645,\n",
       " 648,\n",
       " 651,\n",
       " 654,\n",
       " 657,\n",
       " 660,\n",
       " 663,\n",
       " 666,\n",
       " 669,\n",
       " 672,\n",
       " 675,\n",
       " 678,\n",
       " 681,\n",
       " 684,\n",
       " 687,\n",
       " 690,\n",
       " 693,\n",
       " 696,\n",
       " 699,\n",
       " 702,\n",
       " 705,\n",
       " 708,\n",
       " 711,\n",
       " 714,\n",
       " 717,\n",
       " 720,\n",
       " 723,\n",
       " 726,\n",
       " 729,\n",
       " 732,\n",
       " 735,\n",
       " 738,\n",
       " 741,\n",
       " 744,\n",
       " 747,\n",
       " 750,\n",
       " 753,\n",
       " 756,\n",
       " 759,\n",
       " 762,\n",
       " 765,\n",
       " 768,\n",
       " 771,\n",
       " 774,\n",
       " 777,\n",
       " 780,\n",
       " 783,\n",
       " 786,\n",
       " 789,\n",
       " 792,\n",
       " 795,\n",
       " 798,\n",
       " 801,\n",
       " 804,\n",
       " 807,\n",
       " 810,\n",
       " 813,\n",
       " 816,\n",
       " 819,\n",
       " 822,\n",
       " 825,\n",
       " 828,\n",
       " 831,\n",
       " 834,\n",
       " 837,\n",
       " 840,\n",
       " 843,\n",
       " 846,\n",
       " 849,\n",
       " 852,\n",
       " 855,\n",
       " 858,\n",
       " 861,\n",
       " 864,\n",
       " 867,\n",
       " 870,\n",
       " 873,\n",
       " 876,\n",
       " 879,\n",
       " 882,\n",
       " 885,\n",
       " 888,\n",
       " 891,\n",
       " 894,\n",
       " 897,\n",
       " 900,\n",
       " 903,\n",
       " 906,\n",
       " 909,\n",
       " 912,\n",
       " 915,\n",
       " 918,\n",
       " 921,\n",
       " 924,\n",
       " 927,\n",
       " 930,\n",
       " 933,\n",
       " 936,\n",
       " 939,\n",
       " 942,\n",
       " 945,\n",
       " 948,\n",
       " 951,\n",
       " 954,\n",
       " 957,\n",
       " 960,\n",
       " 963,\n",
       " 966,\n",
       " 969,\n",
       " 972,\n",
       " 975,\n",
       " 978,\n",
       " 981,\n",
       " 984,\n",
       " 987,\n",
       " 990,\n",
       " 993,\n",
       " 996,\n",
       " 999,\n",
       " 5,\n",
       " 10,\n",
       " 20,\n",
       " 25,\n",
       " 35,\n",
       " 40,\n",
       " 50,\n",
       " 55,\n",
       " 65,\n",
       " 70,\n",
       " 80,\n",
       " 85,\n",
       " 95,\n",
       " 100,\n",
       " 110,\n",
       " 115,\n",
       " 125,\n",
       " 130,\n",
       " 140,\n",
       " 145,\n",
       " 155,\n",
       " 160,\n",
       " 170,\n",
       " 175,\n",
       " 185,\n",
       " 190,\n",
       " 200,\n",
       " 205,\n",
       " 215,\n",
       " 220,\n",
       " 230,\n",
       " 235,\n",
       " 245,\n",
       " 250,\n",
       " 260,\n",
       " 265,\n",
       " 275,\n",
       " 280,\n",
       " 290,\n",
       " 295,\n",
       " 305,\n",
       " 310,\n",
       " 320,\n",
       " 325,\n",
       " 335,\n",
       " 340,\n",
       " 350,\n",
       " 355,\n",
       " 365,\n",
       " 370,\n",
       " 380,\n",
       " 385,\n",
       " 395,\n",
       " 400,\n",
       " 410,\n",
       " 415,\n",
       " 425,\n",
       " 430,\n",
       " 440,\n",
       " 445,\n",
       " 455,\n",
       " 460,\n",
       " 470,\n",
       " 475,\n",
       " 485,\n",
       " 490,\n",
       " 500,\n",
       " 505,\n",
       " 515,\n",
       " 520,\n",
       " 530,\n",
       " 535,\n",
       " 545,\n",
       " 550,\n",
       " 560,\n",
       " 565,\n",
       " 575,\n",
       " 580,\n",
       " 590,\n",
       " 595,\n",
       " 605,\n",
       " 610,\n",
       " 620,\n",
       " 625,\n",
       " 635,\n",
       " 640,\n",
       " 650,\n",
       " 655,\n",
       " 665,\n",
       " 670,\n",
       " 680,\n",
       " 685,\n",
       " 695,\n",
       " 700,\n",
       " 710,\n",
       " 715,\n",
       " 725,\n",
       " 730,\n",
       " 740,\n",
       " 745,\n",
       " 755,\n",
       " 760,\n",
       " 770,\n",
       " 775,\n",
       " 785,\n",
       " 790,\n",
       " 800,\n",
       " 805,\n",
       " 815,\n",
       " 820,\n",
       " 830,\n",
       " 835,\n",
       " 845,\n",
       " 850,\n",
       " 860,\n",
       " 865,\n",
       " 875,\n",
       " 880,\n",
       " 890,\n",
       " 895,\n",
       " 905,\n",
       " 910,\n",
       " 920,\n",
       " 925,\n",
       " 935,\n",
       " 940,\n",
       " 950,\n",
       " 955,\n",
       " 965,\n",
       " 970,\n",
       " 980,\n",
       " 985,\n",
       " 995]"
      ]
     },
     "execution_count": 5,
     "metadata": {},
     "output_type": "execute_result"
    }
   ],
   "source": [
    "three_list+five_list"
   ]
  },
  {
   "cell_type": "code",
   "execution_count": 6,
   "id": "62def4e2",
   "metadata": {},
   "outputs": [
    {
     "data": {
      "text/plain": [
       "233168"
      ]
     },
     "execution_count": 6,
     "metadata": {},
     "output_type": "execute_result"
    }
   ],
   "source": [
    "sum(three_list + five_list)"
   ]
  },
  {
   "cell_type": "code",
   "execution_count": 7,
   "id": "56adec91",
   "metadata": {},
   "outputs": [],
   "source": [
    "three_set = set(three_list)\n",
    "five_set = set(five_list)"
   ]
  },
  {
   "cell_type": "code",
   "execution_count": 8,
   "id": "5a6d9726",
   "metadata": {
    "scrolled": true
   },
   "outputs": [
    {
     "name": "stdout",
     "output_type": "stream",
     "text": [
      "{3, 6, 9, 12, 15, 18, 21, 24, 27, 30, 33, 36, 39, 42, 45, 48, 51, 54, 57, 60, 63, 66, 69, 72, 75, 78, 81, 84, 87, 90, 93, 96, 99, 102, 105, 108, 111, 114, 117, 120, 123, 126, 129, 132, 135, 138, 141, 144, 147, 150, 153, 156, 159, 162, 165, 168, 171, 174, 177, 180, 183, 186, 189, 192, 195, 198, 201, 204, 207, 210, 213, 216, 219, 222, 225, 228, 231, 234, 237, 240, 243, 246, 249, 252, 255, 258, 261, 264, 267, 270, 273, 276, 279, 282, 285, 288, 291, 294, 297, 300, 303, 306, 309, 312, 315, 318, 321, 324, 327, 330, 333, 336, 339, 342, 345, 348, 351, 354, 357, 360, 363, 366, 369, 372, 375, 378, 381, 384, 387, 390, 393, 396, 399, 402, 405, 408, 411, 414, 417, 420, 423, 426, 429, 432, 435, 438, 441, 444, 447, 450, 453, 456, 459, 462, 465, 468, 471, 474, 477, 480, 483, 486, 489, 492, 495, 498, 501, 504, 507, 510, 513, 516, 519, 522, 525, 528, 531, 534, 537, 540, 543, 546, 549, 552, 555, 558, 561, 564, 567, 570, 573, 576, 579, 582, 585, 588, 591, 594, 597, 600, 603, 606, 609, 612, 615, 618, 621, 624, 627, 630, 633, 636, 639, 642, 645, 648, 651, 654, 657, 660, 663, 666, 669, 672, 675, 678, 681, 684, 687, 690, 693, 696, 699, 702, 705, 708, 711, 714, 717, 720, 723, 726, 729, 732, 735, 738, 741, 744, 747, 750, 753, 756, 759, 762, 765, 768, 771, 774, 777, 780, 783, 786, 789, 792, 795, 798, 801, 804, 807, 810, 813, 816, 819, 822, 825, 828, 831, 834, 837, 840, 843, 846, 849, 852, 855, 858, 861, 864, 867, 870, 873, 876, 879, 882, 885, 888, 891, 894, 897, 900, 903, 906, 909, 912, 915, 918, 921, 924, 927, 930, 933, 936, 939, 942, 945, 948, 951, 954, 957, 960, 963, 966, 969, 972, 975, 978, 981, 984, 987, 990, 993, 996, 999}\n"
     ]
    }
   ],
   "source": [
    "print(three_set)"
   ]
  },
  {
   "cell_type": "code",
   "execution_count": 9,
   "id": "beef5bfd",
   "metadata": {},
   "outputs": [
    {
     "name": "stdout",
     "output_type": "stream",
     "text": [
      "{515, 5, 520, 10, 530, 20, 535, 25, 545, 35, 550, 40, 560, 50, 565, 55, 575, 65, 580, 70, 590, 80, 595, 85, 605, 95, 610, 100, 620, 110, 625, 115, 635, 125, 640, 130, 650, 140, 655, 145, 665, 155, 670, 160, 680, 170, 685, 175, 695, 185, 700, 190, 710, 200, 715, 205, 725, 215, 730, 220, 740, 230, 745, 235, 755, 245, 760, 250, 770, 260, 775, 265, 785, 275, 790, 280, 800, 290, 805, 295, 815, 305, 820, 310, 830, 320, 835, 325, 845, 335, 850, 340, 860, 350, 865, 355, 875, 365, 880, 370, 890, 380, 895, 385, 905, 395, 910, 400, 920, 410, 925, 415, 935, 425, 940, 430, 950, 440, 955, 445, 965, 455, 970, 460, 980, 470, 985, 475, 995, 485, 490, 500, 505}\n"
     ]
    }
   ],
   "source": [
    "print(five_set)"
   ]
  },
  {
   "cell_type": "code",
   "execution_count": 10,
   "id": "e1fba6f1",
   "metadata": {},
   "outputs": [
    {
     "name": "stdout",
     "output_type": "stream",
     "text": [
      "['__and__', '__class__', '__contains__', '__delattr__', '__dir__', '__doc__', '__eq__', '__format__', '__ge__', '__getattribute__', '__gt__', '__hash__', '__iand__', '__init__', '__init_subclass__', '__ior__', '__isub__', '__iter__', '__ixor__', '__le__', '__len__', '__lt__', '__ne__', '__new__', '__or__', '__rand__', '__reduce__', '__reduce_ex__', '__repr__', '__ror__', '__rsub__', '__rxor__', '__setattr__', '__sizeof__', '__str__', '__sub__', '__subclasshook__', '__xor__', 'add', 'clear', 'copy', 'difference', 'difference_update', 'discard', 'intersection', 'intersection_update', 'isdisjoint', 'issubset', 'issuperset', 'pop', 'remove', 'symmetric_difference', 'symmetric_difference_update', 'union', 'update']\n"
     ]
    }
   ],
   "source": [
    "print(dir(three_set))"
   ]
  },
  {
   "cell_type": "code",
   "execution_count": 28,
   "id": "9c236b89",
   "metadata": {},
   "outputs": [],
   "source": [
    "union = three_set.union(five_set)"
   ]
  },
  {
   "cell_type": "code",
   "execution_count": 29,
   "id": "691aa509",
   "metadata": {},
   "outputs": [
    {
     "data": {
      "text/plain": [
       "233168"
      ]
     },
     "execution_count": 29,
     "metadata": {},
     "output_type": "execute_result"
    }
   ],
   "source": [
    "sum(union)"
   ]
  },
  {
   "cell_type": "code",
   "execution_count": 44,
   "id": "683e0adb",
   "metadata": {},
   "outputs": [
    {
     "name": "stdout",
     "output_type": "stream",
     "text": [
      "232792560\n"
     ]
    }
   ],
   "source": [
    "target = 1\n",
    "is_loop = True\n",
    "\n",
    "range_value = 21\n",
    "\n",
    "while is_loop:\n",
    "    result = []\n",
    "    for data in range(1,range_value):\n",
    "        if target % data == 0:\n",
    "            result.append(True)\n",
    "            \n",
    "    if len(result) == range_value - 1:\n",
    "            print(target)\n",
    "            is_loop=False\n",
    "            break\n",
    "    target += 1"
   ]
  },
  {
   "cell_type": "code",
   "execution_count": 47,
   "id": "7a1cab95",
   "metadata": {},
   "outputs": [
    {
     "name": "stdout",
     "output_type": "stream",
     "text": [
      "1366\n"
     ]
    }
   ],
   "source": [
    "a = 2**1000\n",
    "\n",
    "total = 0\n",
    "for data in str(a):\n",
    "    total += int(data)\n",
    "\n",
    "print(total)\n",
    "\n",
    "##문자열로 바꿔서 인트로 바꾼다음 계산\n"
   ]
  },
  {
   "cell_type": "code",
   "execution_count": 51,
   "id": "33bbbd70",
   "metadata": {},
   "outputs": [],
   "source": [
    "a = 1\n",
    "\n",
    "for i in range(1,10002):\n",
    "    if i / i ==0  and i / 1 == i:\n",
    "        a += 1\n",
    "        print(i)"
   ]
  },
  {
   "cell_type": "code",
   "execution_count": 52,
   "id": "1792867b",
   "metadata": {},
   "outputs": [],
   "source": [
    "def factorial_for(n):\n",
    "    result = 1\n",
    "    for index in range(1,n+1):\n",
    "        result += index\n",
    "    return result"
   ]
  },
  {
   "cell_type": "code",
   "execution_count": 53,
   "id": "a4d45ac7",
   "metadata": {},
   "outputs": [
    {
     "data": {
      "text/plain": [
       "5051"
      ]
     },
     "execution_count": 53,
     "metadata": {},
     "output_type": "execute_result"
    }
   ],
   "source": [
    "factorial_for(100)"
   ]
  },
  {
   "cell_type": "code",
   "execution_count": 54,
   "id": "a17b0946",
   "metadata": {},
   "outputs": [],
   "source": [
    "from datetime import datetime"
   ]
  },
  {
   "cell_type": "code",
   "execution_count": 55,
   "id": "89754784",
   "metadata": {},
   "outputs": [
    {
     "data": {
      "text/plain": [
       "datetime.datetime(1989, 10, 1, 0, 0)"
      ]
     },
     "execution_count": 55,
     "metadata": {},
     "output_type": "execute_result"
    }
   ],
   "source": [
    "datetime(1989,10,1)"
   ]
  },
  {
   "cell_type": "code",
   "execution_count": 67,
   "id": "0a5e3b03",
   "metadata": {},
   "outputs": [
    {
     "ename": "KeyboardInterrupt",
     "evalue": "",
     "output_type": "error",
     "traceback": [
      "\u001b[0;31m---------------------------------------------------------------------------\u001b[0m",
      "\u001b[0;31mKeyboardInterrupt\u001b[0m                         Traceback (most recent call last)",
      "\u001b[0;32m<ipython-input-67-b22b1a975ef4>\u001b[0m in \u001b[0;36m<module>\u001b[0;34m\u001b[0m\n\u001b[1;32m      4\u001b[0m     \u001b[0mresult\u001b[0m \u001b[0;34m=\u001b[0m \u001b[0;34m[\u001b[0m\u001b[0;34m]\u001b[0m\u001b[0;34m\u001b[0m\u001b[0;34m\u001b[0m\u001b[0m\n\u001b[1;32m      5\u001b[0m     \u001b[0;32mfor\u001b[0m \u001b[0mdata\u001b[0m \u001b[0;32min\u001b[0m \u001b[0mrange\u001b[0m\u001b[0;34m(\u001b[0m\u001b[0;36m1\u001b[0m\u001b[0;34m,\u001b[0m\u001b[0mcount\u001b[0m\u001b[0;34m)\u001b[0m\u001b[0;34m:\u001b[0m\u001b[0;34m\u001b[0m\u001b[0;34m\u001b[0m\u001b[0m\n\u001b[0;32m----> 6\u001b[0;31m         \u001b[0;32mif\u001b[0m \u001b[0mcount\u001b[0m \u001b[0;34m%\u001b[0m \u001b[0mdata\u001b[0m \u001b[0;34m==\u001b[0m \u001b[0;36m0\u001b[0m\u001b[0;34m:\u001b[0m\u001b[0;34m\u001b[0m\u001b[0;34m\u001b[0m\u001b[0m\n\u001b[0m\u001b[1;32m      7\u001b[0m             \u001b[0mresult\u001b[0m\u001b[0;34m.\u001b[0m\u001b[0mappend\u001b[0m\u001b[0;34m(\u001b[0m\u001b[0;32mTrue\u001b[0m\u001b[0;34m)\u001b[0m\u001b[0;34m\u001b[0m\u001b[0;34m\u001b[0m\u001b[0m\n\u001b[1;32m      8\u001b[0m \u001b[0;34m\u001b[0m\u001b[0m\n",
      "\u001b[0;31mKeyboardInterrupt\u001b[0m: "
     ]
    }
   ],
   "source": [
    "count = 2\n",
    "count_result = []\n",
    "while True:\n",
    "    result = []\n",
    "    for data in range(1,count):\n",
    "        if count % data == 0:\n",
    "            result.append(True)\n",
    "            \n",
    "    if len(result) == 2:\n",
    "        count_result.append(count)\n",
    "        if len(count_result) == 10001:\n",
    "            break\n",
    "    count += 1\n",
    "print(count_result[len(count_result) - 1])\n",
    "    "
   ]
  }
 ],
 "metadata": {
  "kernelspec": {
   "display_name": "Python 3",
   "language": "python",
   "name": "python3"
  },
  "language_info": {
   "codemirror_mode": {
    "name": "ipython",
    "version": 3
   },
   "file_extension": ".py",
   "mimetype": "text/x-python",
   "name": "python",
   "nbconvert_exporter": "python",
   "pygments_lexer": "ipython3",
   "version": "3.8.8"
  }
 },
 "nbformat": 4,
 "nbformat_minor": 5
}
